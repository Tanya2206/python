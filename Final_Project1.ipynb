{
  "cells": [
    {
      "cell_type": "markdown",
      "metadata": {
        "id": "view-in-github",
        "colab_type": "text"
      },
      "source": [
        "<a href=\"https://colab.research.google.com/github/Tanya2206/python/blob/main/Final_Project1.ipynb\" target=\"_parent\"><img src=\"https://colab.research.google.com/assets/colab-badge.svg\" alt=\"Open In Colab\"/></a>"
      ]
    },
    {
      "cell_type": "markdown",
      "metadata": {
        "id": "yVtdW2HSxR7a"
      },
      "source": [
        "Problem Statement: To predict a rider's taxi fare.\n",
        "\n",
        "Analytic approach: Regression\n",
        "\n",
        "Since we have to predict the Taxi's Fare on the basis of the other attributes.\n",
        "\n",
        "So, We need to understand and build the relations between the fare amount and other attributes.\n",
        "\n",
        "---\n",
        "\n",
        "To predict the Taxi Fare we should know on which parameters the fare amount can depend upon:\n",
        "\n",
        "1. The distance covered.\n",
        "2. Time of pick up, it might have Extra charges at nights or in early mornings.\n",
        "3. It might depend on the days (like on some special days the taxi driver earned more.)\n",
        "4. With years, how high or low the fare-amount get.\n",
        "5. It can depend on number of passengers travelling."
      ]
    },
    {
      "cell_type": "code",
      "execution_count": 229,
      "metadata": {
        "id": "l60MJ_q5vqQb"
      },
      "outputs": [],
      "source": [
        "import pandas as pd\n",
        "import numpy as np\n",
        "import matplotlib\n",
        "import matplotlib.pyplot as plt  # %matplotlib inline is used is to render any matplotlib diagrams even if the plt. show() function is not called.\n",
        "%matplotlib inline                \n",
        "import seaborn as sns\n",
        "from sklearn.model_selection import train_test_split       #To split the data into train and test data\n",
        "from sklearn.preprocessing import StandardScaler           #For standardization\n",
        "from sklearn.linear_model import LinearRegression          \n",
        "from sklearn.neighbors import KNeighborsRegressor\n",
        "from sklearn.svm import SVR\n",
        "from sklearn.tree import DecisionTreeRegressor\n",
        "from sklearn.ensemble import BaggingRegressor\n",
        "from sklearn.ensemble import AdaBoostRegressor\n",
        "from sklearn.ensemble import GradientBoostingRegressor\n",
        "from sklearn.ensemble import RandomForestRegressor\n",
        "\n",
        "#Above codes import all the necessary libraries required to perform the Regression Algorithms"
      ]
    },
    {
      "cell_type": "code",
      "execution_count": 230,
      "metadata": {
        "id": "shQX1miHxe9x"
      },
      "outputs": [],
      "source": [
        "df=pd.read_csv(\"https://raw.githubusercontent.com/Premalatha-success/Datasets/main/TaxiFare.csv\")  #reading the dataset"
      ]
    },
    {
      "cell_type": "markdown",
      "metadata": {
        "id": "dbZjK0zdyJmS"
      },
      "source": [
        "- Data Understanding and Data Preparation"
      ]
    },
    {
      "cell_type": "code",
      "execution_count": 231,
      "metadata": {
        "colab": {
          "base_uri": "https://localhost:8080/"
        },
        "id": "ARqqyvQmxmX2",
        "outputId": "a28c22fd-fc60-4e29-82ea-b2f235e0459c"
      },
      "outputs": [
        {
          "output_type": "execute_result",
          "data": {
            "text/plain": [
              "(50000, 8)"
            ]
          },
          "metadata": {},
          "execution_count": 231
        }
      ],
      "source": [
        "df.shape"
      ]
    },
    {
      "cell_type": "markdown",
      "metadata": {
        "id": "kDuDzvQJyqwj"
      },
      "source": [
        "Currrently in the dataset we have 50000 rows and 8 columns."
      ]
    },
    {
      "cell_type": "code",
      "execution_count": 232,
      "metadata": {
        "colab": {
          "base_uri": "https://localhost:8080/"
        },
        "id": "2NNSl5WRyoQe",
        "outputId": "bb45188e-c7cb-4fdd-ec0c-e5811ff1d617"
      },
      "outputs": [
        {
          "output_type": "execute_result",
          "data": {
            "text/plain": [
              "unique_id                object\n",
              "amount                  float64\n",
              "date_time_of_pickup      object\n",
              "longitude_of_pickup     float64\n",
              "latitude_of_pickup      float64\n",
              "longitude_of_dropoff    float64\n",
              "latitude_of_dropoff     float64\n",
              "no_of_passenger           int64\n",
              "dtype: object"
            ]
          },
          "metadata": {},
          "execution_count": 232
        }
      ],
      "source": [
        "df.dtypes  #Gives the datatype of each column"
      ]
    },
    {
      "cell_type": "code",
      "execution_count": 233,
      "metadata": {
        "colab": {
          "base_uri": "https://localhost:8080/",
          "height": 206
        },
        "id": "tHpJt3iay6EW",
        "outputId": "44a23888-939f-4d50-e73e-78283854728f"
      },
      "outputs": [
        {
          "output_type": "execute_result",
          "data": {
            "text/plain": [
              "  unique_id  amount      date_time_of_pickup  longitude_of_pickup  \\\n",
              "0   26:21.0     4.5  2009-06-15 17:26:21 UTC           -73.844311   \n",
              "1   52:16.0    16.9  2010-01-05 16:52:16 UTC           -74.016048   \n",
              "2   35:00.0     5.7  2011-08-18 00:35:00 UTC           -73.982738   \n",
              "3   30:42.0     7.7  2012-04-21 04:30:42 UTC           -73.987130   \n",
              "4   51:00.0     5.3  2010-03-09 07:51:00 UTC           -73.968095   \n",
              "\n",
              "   latitude_of_pickup  longitude_of_dropoff  latitude_of_dropoff  \\\n",
              "0           40.721319            -73.841610            40.712278   \n",
              "1           40.711303            -73.979268            40.782004   \n",
              "2           40.761270            -73.991242            40.750562   \n",
              "3           40.733143            -73.991567            40.758092   \n",
              "4           40.768008            -73.956655            40.783762   \n",
              "\n",
              "   no_of_passenger  \n",
              "0                1  \n",
              "1                1  \n",
              "2                2  \n",
              "3                1  \n",
              "4                1  "
            ],
            "text/html": [
              "\n",
              "  <div id=\"df-85e279a3-f3df-41c6-b2a2-60d0ce7fad57\">\n",
              "    <div class=\"colab-df-container\">\n",
              "      <div>\n",
              "<style scoped>\n",
              "    .dataframe tbody tr th:only-of-type {\n",
              "        vertical-align: middle;\n",
              "    }\n",
              "\n",
              "    .dataframe tbody tr th {\n",
              "        vertical-align: top;\n",
              "    }\n",
              "\n",
              "    .dataframe thead th {\n",
              "        text-align: right;\n",
              "    }\n",
              "</style>\n",
              "<table border=\"1\" class=\"dataframe\">\n",
              "  <thead>\n",
              "    <tr style=\"text-align: right;\">\n",
              "      <th></th>\n",
              "      <th>unique_id</th>\n",
              "      <th>amount</th>\n",
              "      <th>date_time_of_pickup</th>\n",
              "      <th>longitude_of_pickup</th>\n",
              "      <th>latitude_of_pickup</th>\n",
              "      <th>longitude_of_dropoff</th>\n",
              "      <th>latitude_of_dropoff</th>\n",
              "      <th>no_of_passenger</th>\n",
              "    </tr>\n",
              "  </thead>\n",
              "  <tbody>\n",
              "    <tr>\n",
              "      <th>0</th>\n",
              "      <td>26:21.0</td>\n",
              "      <td>4.5</td>\n",
              "      <td>2009-06-15 17:26:21 UTC</td>\n",
              "      <td>-73.844311</td>\n",
              "      <td>40.721319</td>\n",
              "      <td>-73.841610</td>\n",
              "      <td>40.712278</td>\n",
              "      <td>1</td>\n",
              "    </tr>\n",
              "    <tr>\n",
              "      <th>1</th>\n",
              "      <td>52:16.0</td>\n",
              "      <td>16.9</td>\n",
              "      <td>2010-01-05 16:52:16 UTC</td>\n",
              "      <td>-74.016048</td>\n",
              "      <td>40.711303</td>\n",
              "      <td>-73.979268</td>\n",
              "      <td>40.782004</td>\n",
              "      <td>1</td>\n",
              "    </tr>\n",
              "    <tr>\n",
              "      <th>2</th>\n",
              "      <td>35:00.0</td>\n",
              "      <td>5.7</td>\n",
              "      <td>2011-08-18 00:35:00 UTC</td>\n",
              "      <td>-73.982738</td>\n",
              "      <td>40.761270</td>\n",
              "      <td>-73.991242</td>\n",
              "      <td>40.750562</td>\n",
              "      <td>2</td>\n",
              "    </tr>\n",
              "    <tr>\n",
              "      <th>3</th>\n",
              "      <td>30:42.0</td>\n",
              "      <td>7.7</td>\n",
              "      <td>2012-04-21 04:30:42 UTC</td>\n",
              "      <td>-73.987130</td>\n",
              "      <td>40.733143</td>\n",
              "      <td>-73.991567</td>\n",
              "      <td>40.758092</td>\n",
              "      <td>1</td>\n",
              "    </tr>\n",
              "    <tr>\n",
              "      <th>4</th>\n",
              "      <td>51:00.0</td>\n",
              "      <td>5.3</td>\n",
              "      <td>2010-03-09 07:51:00 UTC</td>\n",
              "      <td>-73.968095</td>\n",
              "      <td>40.768008</td>\n",
              "      <td>-73.956655</td>\n",
              "      <td>40.783762</td>\n",
              "      <td>1</td>\n",
              "    </tr>\n",
              "  </tbody>\n",
              "</table>\n",
              "</div>\n",
              "      <button class=\"colab-df-convert\" onclick=\"convertToInteractive('df-85e279a3-f3df-41c6-b2a2-60d0ce7fad57')\"\n",
              "              title=\"Convert this dataframe to an interactive table.\"\n",
              "              style=\"display:none;\">\n",
              "        \n",
              "  <svg xmlns=\"http://www.w3.org/2000/svg\" height=\"24px\"viewBox=\"0 0 24 24\"\n",
              "       width=\"24px\">\n",
              "    <path d=\"M0 0h24v24H0V0z\" fill=\"none\"/>\n",
              "    <path d=\"M18.56 5.44l.94 2.06.94-2.06 2.06-.94-2.06-.94-.94-2.06-.94 2.06-2.06.94zm-11 1L8.5 8.5l.94-2.06 2.06-.94-2.06-.94L8.5 2.5l-.94 2.06-2.06.94zm10 10l.94 2.06.94-2.06 2.06-.94-2.06-.94-.94-2.06-.94 2.06-2.06.94z\"/><path d=\"M17.41 7.96l-1.37-1.37c-.4-.4-.92-.59-1.43-.59-.52 0-1.04.2-1.43.59L10.3 9.45l-7.72 7.72c-.78.78-.78 2.05 0 2.83L4 21.41c.39.39.9.59 1.41.59.51 0 1.02-.2 1.41-.59l7.78-7.78 2.81-2.81c.8-.78.8-2.07 0-2.86zM5.41 20L4 18.59l7.72-7.72 1.47 1.35L5.41 20z\"/>\n",
              "  </svg>\n",
              "      </button>\n",
              "      \n",
              "  <style>\n",
              "    .colab-df-container {\n",
              "      display:flex;\n",
              "      flex-wrap:wrap;\n",
              "      gap: 12px;\n",
              "    }\n",
              "\n",
              "    .colab-df-convert {\n",
              "      background-color: #E8F0FE;\n",
              "      border: none;\n",
              "      border-radius: 50%;\n",
              "      cursor: pointer;\n",
              "      display: none;\n",
              "      fill: #1967D2;\n",
              "      height: 32px;\n",
              "      padding: 0 0 0 0;\n",
              "      width: 32px;\n",
              "    }\n",
              "\n",
              "    .colab-df-convert:hover {\n",
              "      background-color: #E2EBFA;\n",
              "      box-shadow: 0px 1px 2px rgba(60, 64, 67, 0.3), 0px 1px 3px 1px rgba(60, 64, 67, 0.15);\n",
              "      fill: #174EA6;\n",
              "    }\n",
              "\n",
              "    [theme=dark] .colab-df-convert {\n",
              "      background-color: #3B4455;\n",
              "      fill: #D2E3FC;\n",
              "    }\n",
              "\n",
              "    [theme=dark] .colab-df-convert:hover {\n",
              "      background-color: #434B5C;\n",
              "      box-shadow: 0px 1px 3px 1px rgba(0, 0, 0, 0.15);\n",
              "      filter: drop-shadow(0px 1px 2px rgba(0, 0, 0, 0.3));\n",
              "      fill: #FFFFFF;\n",
              "    }\n",
              "  </style>\n",
              "\n",
              "      <script>\n",
              "        const buttonEl =\n",
              "          document.querySelector('#df-85e279a3-f3df-41c6-b2a2-60d0ce7fad57 button.colab-df-convert');\n",
              "        buttonEl.style.display =\n",
              "          google.colab.kernel.accessAllowed ? 'block' : 'none';\n",
              "\n",
              "        async function convertToInteractive(key) {\n",
              "          const element = document.querySelector('#df-85e279a3-f3df-41c6-b2a2-60d0ce7fad57');\n",
              "          const dataTable =\n",
              "            await google.colab.kernel.invokeFunction('convertToInteractive',\n",
              "                                                     [key], {});\n",
              "          if (!dataTable) return;\n",
              "\n",
              "          const docLinkHtml = 'Like what you see? Visit the ' +\n",
              "            '<a target=\"_blank\" href=https://colab.research.google.com/notebooks/data_table.ipynb>data table notebook</a>'\n",
              "            + ' to learn more about interactive tables.';\n",
              "          element.innerHTML = '';\n",
              "          dataTable['output_type'] = 'display_data';\n",
              "          await google.colab.output.renderOutput(dataTable, element);\n",
              "          const docLink = document.createElement('div');\n",
              "          docLink.innerHTML = docLinkHtml;\n",
              "          element.appendChild(docLink);\n",
              "        }\n",
              "      </script>\n",
              "    </div>\n",
              "  </div>\n",
              "  "
            ]
          },
          "metadata": {},
          "execution_count": 233
        }
      ],
      "source": [
        "df.head()   #By defualt gives the first 5 rows of the dataset"
      ]
    },
    {
      "cell_type": "markdown",
      "metadata": {
        "id": "qQ7GEcyz1qyC"
      },
      "source": [
        "- Features of this Data:\n",
        "\n",
        "-pickup_datetime - timestamp value indicating when the taxi ride started.\n",
        "\n",
        "-pickup_longitude - float for longitude coordinate of where the taxi ride started.\n",
        "\n",
        "-pickup_latitude - float for latitude coordinate of where the taxi ride started.\n",
        "\n",
        "-dropoff_longitude - float for longitude coordinate of where the taxi ride ended.\n",
        "\n",
        "-dropoff_latitude - float for latitude coordinate of where the taxi ride ended.\n",
        "\n",
        "-passenger_count - integer indicating the number of passengers in the taxi ride.\n",
        "\n",
        "-amount - float dollar amount of the cost of the taxi ride."
      ]
    },
    {
      "cell_type": "code",
      "execution_count": 234,
      "metadata": {
        "colab": {
          "base_uri": "https://localhost:8080/",
          "height": 394
        },
        "id": "4X9KbIQRzHtl",
        "outputId": "12eec616-8dd0-4b36-8814-58c3dcdb54fe"
      },
      "outputs": [
        {
          "output_type": "execute_result",
          "data": {
            "text/plain": [
              "       unique_id        amount      date_time_of_pickup  longitude_of_pickup  \\\n",
              "count      50000  50000.000000                    50000         50000.000000   \n",
              "unique      3597           NaN                    49555                  NaN   \n",
              "top      26:00.0           NaN  2011-09-03 01:30:00 UTC                  NaN   \n",
              "freq         457           NaN                        3                  NaN   \n",
              "mean         NaN     11.364171                      NaN           -72.509756   \n",
              "std          NaN      9.685557                      NaN            10.393860   \n",
              "min          NaN     -5.000000                      NaN           -75.423848   \n",
              "25%          NaN      6.000000                      NaN           -73.992062   \n",
              "50%          NaN      8.500000                      NaN           -73.981840   \n",
              "75%          NaN     12.500000                      NaN           -73.967148   \n",
              "max          NaN    200.000000                      NaN            40.783472   \n",
              "\n",
              "        latitude_of_pickup  longitude_of_dropoff  latitude_of_dropoff  \\\n",
              "count         50000.000000          50000.000000         50000.000000   \n",
              "unique                 NaN                   NaN                  NaN   \n",
              "top                    NaN                   NaN                  NaN   \n",
              "freq                   NaN                   NaN                  NaN   \n",
              "mean             39.933759            -72.504616            39.926251   \n",
              "std               6.224857             10.407570             6.014737   \n",
              "min             -74.006893            -84.654241           -74.006377   \n",
              "25%              40.734880            -73.991152            40.734372   \n",
              "50%              40.752678            -73.980082            40.753372   \n",
              "75%              40.767360            -73.963584            40.768167   \n",
              "max             401.083332             40.851027            43.415190   \n",
              "\n",
              "        no_of_passenger  \n",
              "count      50000.000000  \n",
              "unique              NaN  \n",
              "top                 NaN  \n",
              "freq                NaN  \n",
              "mean           1.667840  \n",
              "std            1.289195  \n",
              "min            0.000000  \n",
              "25%            1.000000  \n",
              "50%            1.000000  \n",
              "75%            2.000000  \n",
              "max            6.000000  "
            ],
            "text/html": [
              "\n",
              "  <div id=\"df-f3c89ab0-44eb-4533-9f35-1370156a02e0\">\n",
              "    <div class=\"colab-df-container\">\n",
              "      <div>\n",
              "<style scoped>\n",
              "    .dataframe tbody tr th:only-of-type {\n",
              "        vertical-align: middle;\n",
              "    }\n",
              "\n",
              "    .dataframe tbody tr th {\n",
              "        vertical-align: top;\n",
              "    }\n",
              "\n",
              "    .dataframe thead th {\n",
              "        text-align: right;\n",
              "    }\n",
              "</style>\n",
              "<table border=\"1\" class=\"dataframe\">\n",
              "  <thead>\n",
              "    <tr style=\"text-align: right;\">\n",
              "      <th></th>\n",
              "      <th>unique_id</th>\n",
              "      <th>amount</th>\n",
              "      <th>date_time_of_pickup</th>\n",
              "      <th>longitude_of_pickup</th>\n",
              "      <th>latitude_of_pickup</th>\n",
              "      <th>longitude_of_dropoff</th>\n",
              "      <th>latitude_of_dropoff</th>\n",
              "      <th>no_of_passenger</th>\n",
              "    </tr>\n",
              "  </thead>\n",
              "  <tbody>\n",
              "    <tr>\n",
              "      <th>count</th>\n",
              "      <td>50000</td>\n",
              "      <td>50000.000000</td>\n",
              "      <td>50000</td>\n",
              "      <td>50000.000000</td>\n",
              "      <td>50000.000000</td>\n",
              "      <td>50000.000000</td>\n",
              "      <td>50000.000000</td>\n",
              "      <td>50000.000000</td>\n",
              "    </tr>\n",
              "    <tr>\n",
              "      <th>unique</th>\n",
              "      <td>3597</td>\n",
              "      <td>NaN</td>\n",
              "      <td>49555</td>\n",
              "      <td>NaN</td>\n",
              "      <td>NaN</td>\n",
              "      <td>NaN</td>\n",
              "      <td>NaN</td>\n",
              "      <td>NaN</td>\n",
              "    </tr>\n",
              "    <tr>\n",
              "      <th>top</th>\n",
              "      <td>26:00.0</td>\n",
              "      <td>NaN</td>\n",
              "      <td>2011-09-03 01:30:00 UTC</td>\n",
              "      <td>NaN</td>\n",
              "      <td>NaN</td>\n",
              "      <td>NaN</td>\n",
              "      <td>NaN</td>\n",
              "      <td>NaN</td>\n",
              "    </tr>\n",
              "    <tr>\n",
              "      <th>freq</th>\n",
              "      <td>457</td>\n",
              "      <td>NaN</td>\n",
              "      <td>3</td>\n",
              "      <td>NaN</td>\n",
              "      <td>NaN</td>\n",
              "      <td>NaN</td>\n",
              "      <td>NaN</td>\n",
              "      <td>NaN</td>\n",
              "    </tr>\n",
              "    <tr>\n",
              "      <th>mean</th>\n",
              "      <td>NaN</td>\n",
              "      <td>11.364171</td>\n",
              "      <td>NaN</td>\n",
              "      <td>-72.509756</td>\n",
              "      <td>39.933759</td>\n",
              "      <td>-72.504616</td>\n",
              "      <td>39.926251</td>\n",
              "      <td>1.667840</td>\n",
              "    </tr>\n",
              "    <tr>\n",
              "      <th>std</th>\n",
              "      <td>NaN</td>\n",
              "      <td>9.685557</td>\n",
              "      <td>NaN</td>\n",
              "      <td>10.393860</td>\n",
              "      <td>6.224857</td>\n",
              "      <td>10.407570</td>\n",
              "      <td>6.014737</td>\n",
              "      <td>1.289195</td>\n",
              "    </tr>\n",
              "    <tr>\n",
              "      <th>min</th>\n",
              "      <td>NaN</td>\n",
              "      <td>-5.000000</td>\n",
              "      <td>NaN</td>\n",
              "      <td>-75.423848</td>\n",
              "      <td>-74.006893</td>\n",
              "      <td>-84.654241</td>\n",
              "      <td>-74.006377</td>\n",
              "      <td>0.000000</td>\n",
              "    </tr>\n",
              "    <tr>\n",
              "      <th>25%</th>\n",
              "      <td>NaN</td>\n",
              "      <td>6.000000</td>\n",
              "      <td>NaN</td>\n",
              "      <td>-73.992062</td>\n",
              "      <td>40.734880</td>\n",
              "      <td>-73.991152</td>\n",
              "      <td>40.734372</td>\n",
              "      <td>1.000000</td>\n",
              "    </tr>\n",
              "    <tr>\n",
              "      <th>50%</th>\n",
              "      <td>NaN</td>\n",
              "      <td>8.500000</td>\n",
              "      <td>NaN</td>\n",
              "      <td>-73.981840</td>\n",
              "      <td>40.752678</td>\n",
              "      <td>-73.980082</td>\n",
              "      <td>40.753372</td>\n",
              "      <td>1.000000</td>\n",
              "    </tr>\n",
              "    <tr>\n",
              "      <th>75%</th>\n",
              "      <td>NaN</td>\n",
              "      <td>12.500000</td>\n",
              "      <td>NaN</td>\n",
              "      <td>-73.967148</td>\n",
              "      <td>40.767360</td>\n",
              "      <td>-73.963584</td>\n",
              "      <td>40.768167</td>\n",
              "      <td>2.000000</td>\n",
              "    </tr>\n",
              "    <tr>\n",
              "      <th>max</th>\n",
              "      <td>NaN</td>\n",
              "      <td>200.000000</td>\n",
              "      <td>NaN</td>\n",
              "      <td>40.783472</td>\n",
              "      <td>401.083332</td>\n",
              "      <td>40.851027</td>\n",
              "      <td>43.415190</td>\n",
              "      <td>6.000000</td>\n",
              "    </tr>\n",
              "  </tbody>\n",
              "</table>\n",
              "</div>\n",
              "      <button class=\"colab-df-convert\" onclick=\"convertToInteractive('df-f3c89ab0-44eb-4533-9f35-1370156a02e0')\"\n",
              "              title=\"Convert this dataframe to an interactive table.\"\n",
              "              style=\"display:none;\">\n",
              "        \n",
              "  <svg xmlns=\"http://www.w3.org/2000/svg\" height=\"24px\"viewBox=\"0 0 24 24\"\n",
              "       width=\"24px\">\n",
              "    <path d=\"M0 0h24v24H0V0z\" fill=\"none\"/>\n",
              "    <path d=\"M18.56 5.44l.94 2.06.94-2.06 2.06-.94-2.06-.94-.94-2.06-.94 2.06-2.06.94zm-11 1L8.5 8.5l.94-2.06 2.06-.94-2.06-.94L8.5 2.5l-.94 2.06-2.06.94zm10 10l.94 2.06.94-2.06 2.06-.94-2.06-.94-.94-2.06-.94 2.06-2.06.94z\"/><path d=\"M17.41 7.96l-1.37-1.37c-.4-.4-.92-.59-1.43-.59-.52 0-1.04.2-1.43.59L10.3 9.45l-7.72 7.72c-.78.78-.78 2.05 0 2.83L4 21.41c.39.39.9.59 1.41.59.51 0 1.02-.2 1.41-.59l7.78-7.78 2.81-2.81c.8-.78.8-2.07 0-2.86zM5.41 20L4 18.59l7.72-7.72 1.47 1.35L5.41 20z\"/>\n",
              "  </svg>\n",
              "      </button>\n",
              "      \n",
              "  <style>\n",
              "    .colab-df-container {\n",
              "      display:flex;\n",
              "      flex-wrap:wrap;\n",
              "      gap: 12px;\n",
              "    }\n",
              "\n",
              "    .colab-df-convert {\n",
              "      background-color: #E8F0FE;\n",
              "      border: none;\n",
              "      border-radius: 50%;\n",
              "      cursor: pointer;\n",
              "      display: none;\n",
              "      fill: #1967D2;\n",
              "      height: 32px;\n",
              "      padding: 0 0 0 0;\n",
              "      width: 32px;\n",
              "    }\n",
              "\n",
              "    .colab-df-convert:hover {\n",
              "      background-color: #E2EBFA;\n",
              "      box-shadow: 0px 1px 2px rgba(60, 64, 67, 0.3), 0px 1px 3px 1px rgba(60, 64, 67, 0.15);\n",
              "      fill: #174EA6;\n",
              "    }\n",
              "\n",
              "    [theme=dark] .colab-df-convert {\n",
              "      background-color: #3B4455;\n",
              "      fill: #D2E3FC;\n",
              "    }\n",
              "\n",
              "    [theme=dark] .colab-df-convert:hover {\n",
              "      background-color: #434B5C;\n",
              "      box-shadow: 0px 1px 3px 1px rgba(0, 0, 0, 0.15);\n",
              "      filter: drop-shadow(0px 1px 2px rgba(0, 0, 0, 0.3));\n",
              "      fill: #FFFFFF;\n",
              "    }\n",
              "  </style>\n",
              "\n",
              "      <script>\n",
              "        const buttonEl =\n",
              "          document.querySelector('#df-f3c89ab0-44eb-4533-9f35-1370156a02e0 button.colab-df-convert');\n",
              "        buttonEl.style.display =\n",
              "          google.colab.kernel.accessAllowed ? 'block' : 'none';\n",
              "\n",
              "        async function convertToInteractive(key) {\n",
              "          const element = document.querySelector('#df-f3c89ab0-44eb-4533-9f35-1370156a02e0');\n",
              "          const dataTable =\n",
              "            await google.colab.kernel.invokeFunction('convertToInteractive',\n",
              "                                                     [key], {});\n",
              "          if (!dataTable) return;\n",
              "\n",
              "          const docLinkHtml = 'Like what you see? Visit the ' +\n",
              "            '<a target=\"_blank\" href=https://colab.research.google.com/notebooks/data_table.ipynb>data table notebook</a>'\n",
              "            + ' to learn more about interactive tables.';\n",
              "          element.innerHTML = '';\n",
              "          dataTable['output_type'] = 'display_data';\n",
              "          await google.colab.output.renderOutput(dataTable, element);\n",
              "          const docLink = document.createElement('div');\n",
              "          docLink.innerHTML = docLinkHtml;\n",
              "          element.appendChild(docLink);\n",
              "        }\n",
              "      </script>\n",
              "    </div>\n",
              "  </div>\n",
              "  "
            ]
          },
          "metadata": {},
          "execution_count": 234
        }
      ],
      "source": [
        "df.describe(include='all')    #gives STATISTICAL DESCRIPTION for ALL the Columns of any data type"
      ]
    },
    {
      "cell_type": "markdown",
      "metadata": {
        "id": "LtIiPHn51igx"
      },
      "source": [
        "Inference from the above description of data:\n",
        "\n",
        "-count: gives the number of observations in the respective column.\n",
        "\n",
        "-mean: gives the mean of the observation belonging to numerical data type Column\n",
        "\n",
        "-std: gives standard deviation of the observation belonging to numerical data type Column.\n",
        "\n",
        "-min: gives the minimum value of observation in the column.\n",
        "\n",
        "-25% refers to the observations that falls below 1st quartile\n",
        "\n",
        "-50% refers to the observation falls below 2md quartile\n",
        "\n",
        "---\n",
        "\n",
        "\n",
        "\n"
      ]
    },
    {
      "cell_type": "markdown",
      "metadata": {
        "id": "s2joEbYxzczY"
      },
      "source": [
        "From the able table we can understand and make the required changes in the given dataset:\n",
        "\n",
        "- In the column 'amount', the min amount is NEGATIVE which is in practical not possible, So we have to drop all such amounts which are <=0(less than equal to 0).\n",
        "\n",
        "- In the column 'no_of_passenger' we have minimum as 0, which is again physically not possible.\n"
      ]
    },
    {
      "cell_type": "code",
      "execution_count": 235,
      "metadata": {
        "colab": {
          "base_uri": "https://localhost:8080/",
          "height": 300
        },
        "id": "T4oeckZ3zbcb",
        "outputId": "beb6d631-bb03-486e-900e-b8fa5bc6eb89"
      },
      "outputs": [
        {
          "output_type": "execute_result",
          "data": {
            "text/plain": [
              "             amount  longitude_of_pickup  latitude_of_pickup  \\\n",
              "count  49826.000000         49826.000000        49826.000000   \n",
              "mean      11.373050           -72.510586           39.934185   \n",
              "std        9.693572            10.391352            6.225261   \n",
              "min        0.010000           -75.423848          -74.006893   \n",
              "25%        6.000000           -73.992066           40.734890   \n",
              "50%        8.500000           -73.981838           40.752685   \n",
              "75%       12.500000           -73.967145           40.767364   \n",
              "max      200.000000            40.783472          401.083332   \n",
              "\n",
              "       longitude_of_dropoff  latitude_of_dropoff  no_of_passenger  \n",
              "count          49826.000000         49826.000000     49826.000000  \n",
              "mean             -72.506925            39.927466         1.673424  \n",
              "std               10.400046             6.011749         1.287790  \n",
              "min              -84.654241           -74.006377         1.000000  \n",
              "25%              -73.991151            40.734378         1.000000  \n",
              "50%              -73.980086            40.753376         1.000000  \n",
              "75%              -73.963619            40.768163         2.000000  \n",
              "max               40.851027            43.415190         6.000000  "
            ],
            "text/html": [
              "\n",
              "  <div id=\"df-eecbcbac-e51a-40e9-b184-740d76aad88f\">\n",
              "    <div class=\"colab-df-container\">\n",
              "      <div>\n",
              "<style scoped>\n",
              "    .dataframe tbody tr th:only-of-type {\n",
              "        vertical-align: middle;\n",
              "    }\n",
              "\n",
              "    .dataframe tbody tr th {\n",
              "        vertical-align: top;\n",
              "    }\n",
              "\n",
              "    .dataframe thead th {\n",
              "        text-align: right;\n",
              "    }\n",
              "</style>\n",
              "<table border=\"1\" class=\"dataframe\">\n",
              "  <thead>\n",
              "    <tr style=\"text-align: right;\">\n",
              "      <th></th>\n",
              "      <th>amount</th>\n",
              "      <th>longitude_of_pickup</th>\n",
              "      <th>latitude_of_pickup</th>\n",
              "      <th>longitude_of_dropoff</th>\n",
              "      <th>latitude_of_dropoff</th>\n",
              "      <th>no_of_passenger</th>\n",
              "    </tr>\n",
              "  </thead>\n",
              "  <tbody>\n",
              "    <tr>\n",
              "      <th>count</th>\n",
              "      <td>49826.000000</td>\n",
              "      <td>49826.000000</td>\n",
              "      <td>49826.000000</td>\n",
              "      <td>49826.000000</td>\n",
              "      <td>49826.000000</td>\n",
              "      <td>49826.000000</td>\n",
              "    </tr>\n",
              "    <tr>\n",
              "      <th>mean</th>\n",
              "      <td>11.373050</td>\n",
              "      <td>-72.510586</td>\n",
              "      <td>39.934185</td>\n",
              "      <td>-72.506925</td>\n",
              "      <td>39.927466</td>\n",
              "      <td>1.673424</td>\n",
              "    </tr>\n",
              "    <tr>\n",
              "      <th>std</th>\n",
              "      <td>9.693572</td>\n",
              "      <td>10.391352</td>\n",
              "      <td>6.225261</td>\n",
              "      <td>10.400046</td>\n",
              "      <td>6.011749</td>\n",
              "      <td>1.287790</td>\n",
              "    </tr>\n",
              "    <tr>\n",
              "      <th>min</th>\n",
              "      <td>0.010000</td>\n",
              "      <td>-75.423848</td>\n",
              "      <td>-74.006893</td>\n",
              "      <td>-84.654241</td>\n",
              "      <td>-74.006377</td>\n",
              "      <td>1.000000</td>\n",
              "    </tr>\n",
              "    <tr>\n",
              "      <th>25%</th>\n",
              "      <td>6.000000</td>\n",
              "      <td>-73.992066</td>\n",
              "      <td>40.734890</td>\n",
              "      <td>-73.991151</td>\n",
              "      <td>40.734378</td>\n",
              "      <td>1.000000</td>\n",
              "    </tr>\n",
              "    <tr>\n",
              "      <th>50%</th>\n",
              "      <td>8.500000</td>\n",
              "      <td>-73.981838</td>\n",
              "      <td>40.752685</td>\n",
              "      <td>-73.980086</td>\n",
              "      <td>40.753376</td>\n",
              "      <td>1.000000</td>\n",
              "    </tr>\n",
              "    <tr>\n",
              "      <th>75%</th>\n",
              "      <td>12.500000</td>\n",
              "      <td>-73.967145</td>\n",
              "      <td>40.767364</td>\n",
              "      <td>-73.963619</td>\n",
              "      <td>40.768163</td>\n",
              "      <td>2.000000</td>\n",
              "    </tr>\n",
              "    <tr>\n",
              "      <th>max</th>\n",
              "      <td>200.000000</td>\n",
              "      <td>40.783472</td>\n",
              "      <td>401.083332</td>\n",
              "      <td>40.851027</td>\n",
              "      <td>43.415190</td>\n",
              "      <td>6.000000</td>\n",
              "    </tr>\n",
              "  </tbody>\n",
              "</table>\n",
              "</div>\n",
              "      <button class=\"colab-df-convert\" onclick=\"convertToInteractive('df-eecbcbac-e51a-40e9-b184-740d76aad88f')\"\n",
              "              title=\"Convert this dataframe to an interactive table.\"\n",
              "              style=\"display:none;\">\n",
              "        \n",
              "  <svg xmlns=\"http://www.w3.org/2000/svg\" height=\"24px\"viewBox=\"0 0 24 24\"\n",
              "       width=\"24px\">\n",
              "    <path d=\"M0 0h24v24H0V0z\" fill=\"none\"/>\n",
              "    <path d=\"M18.56 5.44l.94 2.06.94-2.06 2.06-.94-2.06-.94-.94-2.06-.94 2.06-2.06.94zm-11 1L8.5 8.5l.94-2.06 2.06-.94-2.06-.94L8.5 2.5l-.94 2.06-2.06.94zm10 10l.94 2.06.94-2.06 2.06-.94-2.06-.94-.94-2.06-.94 2.06-2.06.94z\"/><path d=\"M17.41 7.96l-1.37-1.37c-.4-.4-.92-.59-1.43-.59-.52 0-1.04.2-1.43.59L10.3 9.45l-7.72 7.72c-.78.78-.78 2.05 0 2.83L4 21.41c.39.39.9.59 1.41.59.51 0 1.02-.2 1.41-.59l7.78-7.78 2.81-2.81c.8-.78.8-2.07 0-2.86zM5.41 20L4 18.59l7.72-7.72 1.47 1.35L5.41 20z\"/>\n",
              "  </svg>\n",
              "      </button>\n",
              "      \n",
              "  <style>\n",
              "    .colab-df-container {\n",
              "      display:flex;\n",
              "      flex-wrap:wrap;\n",
              "      gap: 12px;\n",
              "    }\n",
              "\n",
              "    .colab-df-convert {\n",
              "      background-color: #E8F0FE;\n",
              "      border: none;\n",
              "      border-radius: 50%;\n",
              "      cursor: pointer;\n",
              "      display: none;\n",
              "      fill: #1967D2;\n",
              "      height: 32px;\n",
              "      padding: 0 0 0 0;\n",
              "      width: 32px;\n",
              "    }\n",
              "\n",
              "    .colab-df-convert:hover {\n",
              "      background-color: #E2EBFA;\n",
              "      box-shadow: 0px 1px 2px rgba(60, 64, 67, 0.3), 0px 1px 3px 1px rgba(60, 64, 67, 0.15);\n",
              "      fill: #174EA6;\n",
              "    }\n",
              "\n",
              "    [theme=dark] .colab-df-convert {\n",
              "      background-color: #3B4455;\n",
              "      fill: #D2E3FC;\n",
              "    }\n",
              "\n",
              "    [theme=dark] .colab-df-convert:hover {\n",
              "      background-color: #434B5C;\n",
              "      box-shadow: 0px 1px 3px 1px rgba(0, 0, 0, 0.15);\n",
              "      filter: drop-shadow(0px 1px 2px rgba(0, 0, 0, 0.3));\n",
              "      fill: #FFFFFF;\n",
              "    }\n",
              "  </style>\n",
              "\n",
              "      <script>\n",
              "        const buttonEl =\n",
              "          document.querySelector('#df-eecbcbac-e51a-40e9-b184-740d76aad88f button.colab-df-convert');\n",
              "        buttonEl.style.display =\n",
              "          google.colab.kernel.accessAllowed ? 'block' : 'none';\n",
              "\n",
              "        async function convertToInteractive(key) {\n",
              "          const element = document.querySelector('#df-eecbcbac-e51a-40e9-b184-740d76aad88f');\n",
              "          const dataTable =\n",
              "            await google.colab.kernel.invokeFunction('convertToInteractive',\n",
              "                                                     [key], {});\n",
              "          if (!dataTable) return;\n",
              "\n",
              "          const docLinkHtml = 'Like what you see? Visit the ' +\n",
              "            '<a target=\"_blank\" href=https://colab.research.google.com/notebooks/data_table.ipynb>data table notebook</a>'\n",
              "            + ' to learn more about interactive tables.';\n",
              "          element.innerHTML = '';\n",
              "          dataTable['output_type'] = 'display_data';\n",
              "          await google.colab.output.renderOutput(dataTable, element);\n",
              "          const docLink = document.createElement('div');\n",
              "          docLink.innerHTML = docLinkHtml;\n",
              "          element.appendChild(docLink);\n",
              "        }\n",
              "      </script>\n",
              "    </div>\n",
              "  </div>\n",
              "  "
            ]
          },
          "metadata": {},
          "execution_count": 235
        }
      ],
      "source": [
        "df=df[df['amount']>0]\n",
        "df=df[df['no_of_passenger']> 0]\n",
        "df.describe()"
      ]
    },
    {
      "cell_type": "markdown",
      "metadata": {
        "id": "VzQTOMJt0bYD"
      },
      "source": [
        "Now, the min amount and min no_of_passenger are posivitve and practically possible.\n",
        "\n",
        "---\n",
        "\n"
      ]
    },
    {
      "cell_type": "markdown",
      "metadata": {
        "id": "l85Oe0TyHUC4"
      },
      "source": [
        "Also, the unique_id column can be dropped as all the ids are unique and do not contribute in the solution of the problem statement."
      ]
    },
    {
      "cell_type": "code",
      "execution_count": 236,
      "metadata": {
        "id": "quEBd2xMHTS_"
      },
      "outputs": [],
      "source": [
        "df.drop(['unique_id'],axis=1,inplace=True)"
      ]
    },
    {
      "cell_type": "markdown",
      "metadata": {
        "id": "iFjXXb7P3qQ-"
      },
      "source": [
        "Using Haversine formula, To can get the distance travelled by the passenger from the given lattitudes and longitudes of pickup and dropoff locations."
      ]
    },
    {
      "cell_type": "code",
      "execution_count": 237,
      "metadata": {
        "id": "hgPe8nQE0Y2E"
      },
      "outputs": [],
      "source": [
        "#Defning function to compute distance from the formula\n",
        "\n",
        "def haversine_form(lon1, lat1, lon2, lat2):                  \n",
        "  from math import pi\n",
        "  p = pi/180\n",
        "  a = 0.5 - np.cos((lat2 - lat1) * p)/2 + np.cos(lat1 * p) * np.cos(lat2 * p) * (1 - np.cos((lon2 - lon1) * p))/2\n",
        "  return 0.6213712 * 12742 * np.arcsin(np.sqrt(a))"
      ]
    },
    {
      "cell_type": "code",
      "execution_count": 238,
      "metadata": {
        "colab": {
          "base_uri": "https://localhost:8080/",
          "height": 206
        },
        "id": "-7woYTYm4HDa",
        "outputId": "2ac9d192-565a-47e3-9229-770e27f7482b"
      },
      "outputs": [
        {
          "output_type": "execute_result",
          "data": {
            "text/plain": [
              "   amount      date_time_of_pickup  longitude_of_pickup  latitude_of_pickup  \\\n",
              "0     4.5  2009-06-15 17:26:21 UTC           -73.844311           40.721319   \n",
              "1    16.9  2010-01-05 16:52:16 UTC           -74.016048           40.711303   \n",
              "2     5.7  2011-08-18 00:35:00 UTC           -73.982738           40.761270   \n",
              "3     7.7  2012-04-21 04:30:42 UTC           -73.987130           40.733143   \n",
              "4     5.3  2010-03-09 07:51:00 UTC           -73.968095           40.768008   \n",
              "\n",
              "   longitude_of_dropoff  latitude_of_dropoff  no_of_passenger  dis_miles  \n",
              "0            -73.841610            40.712278                1   0.640487  \n",
              "1            -73.979268            40.782004                1   5.250670  \n",
              "2            -73.991242            40.750562                2   0.863411  \n",
              "3            -73.991567            40.758092                1   1.739386  \n",
              "4            -73.956655            40.783762                1   1.242218  "
            ],
            "text/html": [
              "\n",
              "  <div id=\"df-cb0ca503-1f31-461a-9d43-bbb9f2f400a6\">\n",
              "    <div class=\"colab-df-container\">\n",
              "      <div>\n",
              "<style scoped>\n",
              "    .dataframe tbody tr th:only-of-type {\n",
              "        vertical-align: middle;\n",
              "    }\n",
              "\n",
              "    .dataframe tbody tr th {\n",
              "        vertical-align: top;\n",
              "    }\n",
              "\n",
              "    .dataframe thead th {\n",
              "        text-align: right;\n",
              "    }\n",
              "</style>\n",
              "<table border=\"1\" class=\"dataframe\">\n",
              "  <thead>\n",
              "    <tr style=\"text-align: right;\">\n",
              "      <th></th>\n",
              "      <th>amount</th>\n",
              "      <th>date_time_of_pickup</th>\n",
              "      <th>longitude_of_pickup</th>\n",
              "      <th>latitude_of_pickup</th>\n",
              "      <th>longitude_of_dropoff</th>\n",
              "      <th>latitude_of_dropoff</th>\n",
              "      <th>no_of_passenger</th>\n",
              "      <th>dis_miles</th>\n",
              "    </tr>\n",
              "  </thead>\n",
              "  <tbody>\n",
              "    <tr>\n",
              "      <th>0</th>\n",
              "      <td>4.5</td>\n",
              "      <td>2009-06-15 17:26:21 UTC</td>\n",
              "      <td>-73.844311</td>\n",
              "      <td>40.721319</td>\n",
              "      <td>-73.841610</td>\n",
              "      <td>40.712278</td>\n",
              "      <td>1</td>\n",
              "      <td>0.640487</td>\n",
              "    </tr>\n",
              "    <tr>\n",
              "      <th>1</th>\n",
              "      <td>16.9</td>\n",
              "      <td>2010-01-05 16:52:16 UTC</td>\n",
              "      <td>-74.016048</td>\n",
              "      <td>40.711303</td>\n",
              "      <td>-73.979268</td>\n",
              "      <td>40.782004</td>\n",
              "      <td>1</td>\n",
              "      <td>5.250670</td>\n",
              "    </tr>\n",
              "    <tr>\n",
              "      <th>2</th>\n",
              "      <td>5.7</td>\n",
              "      <td>2011-08-18 00:35:00 UTC</td>\n",
              "      <td>-73.982738</td>\n",
              "      <td>40.761270</td>\n",
              "      <td>-73.991242</td>\n",
              "      <td>40.750562</td>\n",
              "      <td>2</td>\n",
              "      <td>0.863411</td>\n",
              "    </tr>\n",
              "    <tr>\n",
              "      <th>3</th>\n",
              "      <td>7.7</td>\n",
              "      <td>2012-04-21 04:30:42 UTC</td>\n",
              "      <td>-73.987130</td>\n",
              "      <td>40.733143</td>\n",
              "      <td>-73.991567</td>\n",
              "      <td>40.758092</td>\n",
              "      <td>1</td>\n",
              "      <td>1.739386</td>\n",
              "    </tr>\n",
              "    <tr>\n",
              "      <th>4</th>\n",
              "      <td>5.3</td>\n",
              "      <td>2010-03-09 07:51:00 UTC</td>\n",
              "      <td>-73.968095</td>\n",
              "      <td>40.768008</td>\n",
              "      <td>-73.956655</td>\n",
              "      <td>40.783762</td>\n",
              "      <td>1</td>\n",
              "      <td>1.242218</td>\n",
              "    </tr>\n",
              "  </tbody>\n",
              "</table>\n",
              "</div>\n",
              "      <button class=\"colab-df-convert\" onclick=\"convertToInteractive('df-cb0ca503-1f31-461a-9d43-bbb9f2f400a6')\"\n",
              "              title=\"Convert this dataframe to an interactive table.\"\n",
              "              style=\"display:none;\">\n",
              "        \n",
              "  <svg xmlns=\"http://www.w3.org/2000/svg\" height=\"24px\"viewBox=\"0 0 24 24\"\n",
              "       width=\"24px\">\n",
              "    <path d=\"M0 0h24v24H0V0z\" fill=\"none\"/>\n",
              "    <path d=\"M18.56 5.44l.94 2.06.94-2.06 2.06-.94-2.06-.94-.94-2.06-.94 2.06-2.06.94zm-11 1L8.5 8.5l.94-2.06 2.06-.94-2.06-.94L8.5 2.5l-.94 2.06-2.06.94zm10 10l.94 2.06.94-2.06 2.06-.94-2.06-.94-.94-2.06-.94 2.06-2.06.94z\"/><path d=\"M17.41 7.96l-1.37-1.37c-.4-.4-.92-.59-1.43-.59-.52 0-1.04.2-1.43.59L10.3 9.45l-7.72 7.72c-.78.78-.78 2.05 0 2.83L4 21.41c.39.39.9.59 1.41.59.51 0 1.02-.2 1.41-.59l7.78-7.78 2.81-2.81c.8-.78.8-2.07 0-2.86zM5.41 20L4 18.59l7.72-7.72 1.47 1.35L5.41 20z\"/>\n",
              "  </svg>\n",
              "      </button>\n",
              "      \n",
              "  <style>\n",
              "    .colab-df-container {\n",
              "      display:flex;\n",
              "      flex-wrap:wrap;\n",
              "      gap: 12px;\n",
              "    }\n",
              "\n",
              "    .colab-df-convert {\n",
              "      background-color: #E8F0FE;\n",
              "      border: none;\n",
              "      border-radius: 50%;\n",
              "      cursor: pointer;\n",
              "      display: none;\n",
              "      fill: #1967D2;\n",
              "      height: 32px;\n",
              "      padding: 0 0 0 0;\n",
              "      width: 32px;\n",
              "    }\n",
              "\n",
              "    .colab-df-convert:hover {\n",
              "      background-color: #E2EBFA;\n",
              "      box-shadow: 0px 1px 2px rgba(60, 64, 67, 0.3), 0px 1px 3px 1px rgba(60, 64, 67, 0.15);\n",
              "      fill: #174EA6;\n",
              "    }\n",
              "\n",
              "    [theme=dark] .colab-df-convert {\n",
              "      background-color: #3B4455;\n",
              "      fill: #D2E3FC;\n",
              "    }\n",
              "\n",
              "    [theme=dark] .colab-df-convert:hover {\n",
              "      background-color: #434B5C;\n",
              "      box-shadow: 0px 1px 3px 1px rgba(0, 0, 0, 0.15);\n",
              "      filter: drop-shadow(0px 1px 2px rgba(0, 0, 0, 0.3));\n",
              "      fill: #FFFFFF;\n",
              "    }\n",
              "  </style>\n",
              "\n",
              "      <script>\n",
              "        const buttonEl =\n",
              "          document.querySelector('#df-cb0ca503-1f31-461a-9d43-bbb9f2f400a6 button.colab-df-convert');\n",
              "        buttonEl.style.display =\n",
              "          google.colab.kernel.accessAllowed ? 'block' : 'none';\n",
              "\n",
              "        async function convertToInteractive(key) {\n",
              "          const element = document.querySelector('#df-cb0ca503-1f31-461a-9d43-bbb9f2f400a6');\n",
              "          const dataTable =\n",
              "            await google.colab.kernel.invokeFunction('convertToInteractive',\n",
              "                                                     [key], {});\n",
              "          if (!dataTable) return;\n",
              "\n",
              "          const docLinkHtml = 'Like what you see? Visit the ' +\n",
              "            '<a target=\"_blank\" href=https://colab.research.google.com/notebooks/data_table.ipynb>data table notebook</a>'\n",
              "            + ' to learn more about interactive tables.';\n",
              "          element.innerHTML = '';\n",
              "          dataTable['output_type'] = 'display_data';\n",
              "          await google.colab.output.renderOutput(dataTable, element);\n",
              "          const docLink = document.createElement('div');\n",
              "          docLink.innerHTML = docLinkHtml;\n",
              "          element.appendChild(docLink);\n",
              "        }\n",
              "      </script>\n",
              "    </div>\n",
              "  </div>\n",
              "  "
            ]
          },
          "metadata": {},
          "execution_count": 238
        }
      ],
      "source": [
        "#New column containing Distance is made named as dis_miles\n",
        "\n",
        "df[\"dis_miles\"]=haversine_form(df[\"longitude_of_pickup\"],df[\"latitude_of_pickup\"],df[\"longitude_of_dropoff\"],df[\"latitude_of_dropoff\"])\n",
        "df.head()"
      ]
    },
    {
      "cell_type": "markdown",
      "metadata": {
        "id": "eRRfptaA4PUG"
      },
      "source": [
        "so, the longitude and lattitude column can be dropped, as we got the relevant information already in column 'dis_mies' that contains the distance between pickup and drop location in units of miles."
      ]
    },
    {
      "cell_type": "code",
      "execution_count": 239,
      "metadata": {
        "colab": {
          "base_uri": "https://localhost:8080/",
          "height": 206
        },
        "id": "pYyosPGl4J23",
        "outputId": "2e149bad-7112-40c2-9f45-23a63c8ba72c"
      },
      "outputs": [
        {
          "output_type": "execute_result",
          "data": {
            "text/plain": [
              "   amount      date_time_of_pickup  no_of_passenger  dis_miles\n",
              "0     4.5  2009-06-15 17:26:21 UTC                1   0.640487\n",
              "1    16.9  2010-01-05 16:52:16 UTC                1   5.250670\n",
              "2     5.7  2011-08-18 00:35:00 UTC                2   0.863411\n",
              "3     7.7  2012-04-21 04:30:42 UTC                1   1.739386\n",
              "4     5.3  2010-03-09 07:51:00 UTC                1   1.242218"
            ],
            "text/html": [
              "\n",
              "  <div id=\"df-a585b75b-7d32-44e1-8549-084f61d694ff\">\n",
              "    <div class=\"colab-df-container\">\n",
              "      <div>\n",
              "<style scoped>\n",
              "    .dataframe tbody tr th:only-of-type {\n",
              "        vertical-align: middle;\n",
              "    }\n",
              "\n",
              "    .dataframe tbody tr th {\n",
              "        vertical-align: top;\n",
              "    }\n",
              "\n",
              "    .dataframe thead th {\n",
              "        text-align: right;\n",
              "    }\n",
              "</style>\n",
              "<table border=\"1\" class=\"dataframe\">\n",
              "  <thead>\n",
              "    <tr style=\"text-align: right;\">\n",
              "      <th></th>\n",
              "      <th>amount</th>\n",
              "      <th>date_time_of_pickup</th>\n",
              "      <th>no_of_passenger</th>\n",
              "      <th>dis_miles</th>\n",
              "    </tr>\n",
              "  </thead>\n",
              "  <tbody>\n",
              "    <tr>\n",
              "      <th>0</th>\n",
              "      <td>4.5</td>\n",
              "      <td>2009-06-15 17:26:21 UTC</td>\n",
              "      <td>1</td>\n",
              "      <td>0.640487</td>\n",
              "    </tr>\n",
              "    <tr>\n",
              "      <th>1</th>\n",
              "      <td>16.9</td>\n",
              "      <td>2010-01-05 16:52:16 UTC</td>\n",
              "      <td>1</td>\n",
              "      <td>5.250670</td>\n",
              "    </tr>\n",
              "    <tr>\n",
              "      <th>2</th>\n",
              "      <td>5.7</td>\n",
              "      <td>2011-08-18 00:35:00 UTC</td>\n",
              "      <td>2</td>\n",
              "      <td>0.863411</td>\n",
              "    </tr>\n",
              "    <tr>\n",
              "      <th>3</th>\n",
              "      <td>7.7</td>\n",
              "      <td>2012-04-21 04:30:42 UTC</td>\n",
              "      <td>1</td>\n",
              "      <td>1.739386</td>\n",
              "    </tr>\n",
              "    <tr>\n",
              "      <th>4</th>\n",
              "      <td>5.3</td>\n",
              "      <td>2010-03-09 07:51:00 UTC</td>\n",
              "      <td>1</td>\n",
              "      <td>1.242218</td>\n",
              "    </tr>\n",
              "  </tbody>\n",
              "</table>\n",
              "</div>\n",
              "      <button class=\"colab-df-convert\" onclick=\"convertToInteractive('df-a585b75b-7d32-44e1-8549-084f61d694ff')\"\n",
              "              title=\"Convert this dataframe to an interactive table.\"\n",
              "              style=\"display:none;\">\n",
              "        \n",
              "  <svg xmlns=\"http://www.w3.org/2000/svg\" height=\"24px\"viewBox=\"0 0 24 24\"\n",
              "       width=\"24px\">\n",
              "    <path d=\"M0 0h24v24H0V0z\" fill=\"none\"/>\n",
              "    <path d=\"M18.56 5.44l.94 2.06.94-2.06 2.06-.94-2.06-.94-.94-2.06-.94 2.06-2.06.94zm-11 1L8.5 8.5l.94-2.06 2.06-.94-2.06-.94L8.5 2.5l-.94 2.06-2.06.94zm10 10l.94 2.06.94-2.06 2.06-.94-2.06-.94-.94-2.06-.94 2.06-2.06.94z\"/><path d=\"M17.41 7.96l-1.37-1.37c-.4-.4-.92-.59-1.43-.59-.52 0-1.04.2-1.43.59L10.3 9.45l-7.72 7.72c-.78.78-.78 2.05 0 2.83L4 21.41c.39.39.9.59 1.41.59.51 0 1.02-.2 1.41-.59l7.78-7.78 2.81-2.81c.8-.78.8-2.07 0-2.86zM5.41 20L4 18.59l7.72-7.72 1.47 1.35L5.41 20z\"/>\n",
              "  </svg>\n",
              "      </button>\n",
              "      \n",
              "  <style>\n",
              "    .colab-df-container {\n",
              "      display:flex;\n",
              "      flex-wrap:wrap;\n",
              "      gap: 12px;\n",
              "    }\n",
              "\n",
              "    .colab-df-convert {\n",
              "      background-color: #E8F0FE;\n",
              "      border: none;\n",
              "      border-radius: 50%;\n",
              "      cursor: pointer;\n",
              "      display: none;\n",
              "      fill: #1967D2;\n",
              "      height: 32px;\n",
              "      padding: 0 0 0 0;\n",
              "      width: 32px;\n",
              "    }\n",
              "\n",
              "    .colab-df-convert:hover {\n",
              "      background-color: #E2EBFA;\n",
              "      box-shadow: 0px 1px 2px rgba(60, 64, 67, 0.3), 0px 1px 3px 1px rgba(60, 64, 67, 0.15);\n",
              "      fill: #174EA6;\n",
              "    }\n",
              "\n",
              "    [theme=dark] .colab-df-convert {\n",
              "      background-color: #3B4455;\n",
              "      fill: #D2E3FC;\n",
              "    }\n",
              "\n",
              "    [theme=dark] .colab-df-convert:hover {\n",
              "      background-color: #434B5C;\n",
              "      box-shadow: 0px 1px 3px 1px rgba(0, 0, 0, 0.15);\n",
              "      filter: drop-shadow(0px 1px 2px rgba(0, 0, 0, 0.3));\n",
              "      fill: #FFFFFF;\n",
              "    }\n",
              "  </style>\n",
              "\n",
              "      <script>\n",
              "        const buttonEl =\n",
              "          document.querySelector('#df-a585b75b-7d32-44e1-8549-084f61d694ff button.colab-df-convert');\n",
              "        buttonEl.style.display =\n",
              "          google.colab.kernel.accessAllowed ? 'block' : 'none';\n",
              "\n",
              "        async function convertToInteractive(key) {\n",
              "          const element = document.querySelector('#df-a585b75b-7d32-44e1-8549-084f61d694ff');\n",
              "          const dataTable =\n",
              "            await google.colab.kernel.invokeFunction('convertToInteractive',\n",
              "                                                     [key], {});\n",
              "          if (!dataTable) return;\n",
              "\n",
              "          const docLinkHtml = 'Like what you see? Visit the ' +\n",
              "            '<a target=\"_blank\" href=https://colab.research.google.com/notebooks/data_table.ipynb>data table notebook</a>'\n",
              "            + ' to learn more about interactive tables.';\n",
              "          element.innerHTML = '';\n",
              "          dataTable['output_type'] = 'display_data';\n",
              "          await google.colab.output.renderOutput(dataTable, element);\n",
              "          const docLink = document.createElement('div');\n",
              "          docLink.innerHTML = docLinkHtml;\n",
              "          element.appendChild(docLink);\n",
              "        }\n",
              "      </script>\n",
              "    </div>\n",
              "  </div>\n",
              "  "
            ]
          },
          "metadata": {},
          "execution_count": 239
        }
      ],
      "source": [
        "df=df.drop(['longitude_of_pickup','latitude_of_pickup','longitude_of_dropoff','latitude_of_dropoff'],axis=1)\n",
        "df.head()"
      ]
    },
    {
      "cell_type": "markdown",
      "metadata": {
        "id": "FNzIFsx-7FUg"
      },
      "source": [
        "Now, to get day,month,year and time from the column 'date_time_of_pickup'; first we need to change the UTC format given in dataset to datetime function, and then extract the day,date,time,month and year."
      ]
    },
    {
      "cell_type": "code",
      "execution_count": 240,
      "metadata": {
        "colab": {
          "base_uri": "https://localhost:8080/",
          "height": 206
        },
        "id": "6bCfErPe4uR4",
        "outputId": "1ff23b82-7549-4049-cbab-65cdb69c0362"
      },
      "outputs": [
        {
          "output_type": "execute_result",
          "data": {
            "text/plain": [
              "   amount       date_time_of_pickup  no_of_passenger  dis_miles  year  month  \\\n",
              "0     4.5 2009-06-15 17:26:21+00:00                1   0.640487  2009      6   \n",
              "1    16.9 2010-01-05 16:52:16+00:00                1   5.250670  2010      1   \n",
              "2     5.7 2011-08-18 00:35:00+00:00                2   0.863411  2011      8   \n",
              "3     7.7 2012-04-21 04:30:42+00:00                1   1.739386  2012      4   \n",
              "4     5.3 2010-03-09 07:51:00+00:00                1   1.242218  2010      3   \n",
              "\n",
              "   day  day_of_week  hour  \n",
              "0   15            0    17  \n",
              "1    5            1    16  \n",
              "2   18            3     0  \n",
              "3   21            5     4  \n",
              "4    9            1     7  "
            ],
            "text/html": [
              "\n",
              "  <div id=\"df-9ed77f60-52a3-4d9a-ac0d-182e1c01666c\">\n",
              "    <div class=\"colab-df-container\">\n",
              "      <div>\n",
              "<style scoped>\n",
              "    .dataframe tbody tr th:only-of-type {\n",
              "        vertical-align: middle;\n",
              "    }\n",
              "\n",
              "    .dataframe tbody tr th {\n",
              "        vertical-align: top;\n",
              "    }\n",
              "\n",
              "    .dataframe thead th {\n",
              "        text-align: right;\n",
              "    }\n",
              "</style>\n",
              "<table border=\"1\" class=\"dataframe\">\n",
              "  <thead>\n",
              "    <tr style=\"text-align: right;\">\n",
              "      <th></th>\n",
              "      <th>amount</th>\n",
              "      <th>date_time_of_pickup</th>\n",
              "      <th>no_of_passenger</th>\n",
              "      <th>dis_miles</th>\n",
              "      <th>year</th>\n",
              "      <th>month</th>\n",
              "      <th>day</th>\n",
              "      <th>day_of_week</th>\n",
              "      <th>hour</th>\n",
              "    </tr>\n",
              "  </thead>\n",
              "  <tbody>\n",
              "    <tr>\n",
              "      <th>0</th>\n",
              "      <td>4.5</td>\n",
              "      <td>2009-06-15 17:26:21+00:00</td>\n",
              "      <td>1</td>\n",
              "      <td>0.640487</td>\n",
              "      <td>2009</td>\n",
              "      <td>6</td>\n",
              "      <td>15</td>\n",
              "      <td>0</td>\n",
              "      <td>17</td>\n",
              "    </tr>\n",
              "    <tr>\n",
              "      <th>1</th>\n",
              "      <td>16.9</td>\n",
              "      <td>2010-01-05 16:52:16+00:00</td>\n",
              "      <td>1</td>\n",
              "      <td>5.250670</td>\n",
              "      <td>2010</td>\n",
              "      <td>1</td>\n",
              "      <td>5</td>\n",
              "      <td>1</td>\n",
              "      <td>16</td>\n",
              "    </tr>\n",
              "    <tr>\n",
              "      <th>2</th>\n",
              "      <td>5.7</td>\n",
              "      <td>2011-08-18 00:35:00+00:00</td>\n",
              "      <td>2</td>\n",
              "      <td>0.863411</td>\n",
              "      <td>2011</td>\n",
              "      <td>8</td>\n",
              "      <td>18</td>\n",
              "      <td>3</td>\n",
              "      <td>0</td>\n",
              "    </tr>\n",
              "    <tr>\n",
              "      <th>3</th>\n",
              "      <td>7.7</td>\n",
              "      <td>2012-04-21 04:30:42+00:00</td>\n",
              "      <td>1</td>\n",
              "      <td>1.739386</td>\n",
              "      <td>2012</td>\n",
              "      <td>4</td>\n",
              "      <td>21</td>\n",
              "      <td>5</td>\n",
              "      <td>4</td>\n",
              "    </tr>\n",
              "    <tr>\n",
              "      <th>4</th>\n",
              "      <td>5.3</td>\n",
              "      <td>2010-03-09 07:51:00+00:00</td>\n",
              "      <td>1</td>\n",
              "      <td>1.242218</td>\n",
              "      <td>2010</td>\n",
              "      <td>3</td>\n",
              "      <td>9</td>\n",
              "      <td>1</td>\n",
              "      <td>7</td>\n",
              "    </tr>\n",
              "  </tbody>\n",
              "</table>\n",
              "</div>\n",
              "      <button class=\"colab-df-convert\" onclick=\"convertToInteractive('df-9ed77f60-52a3-4d9a-ac0d-182e1c01666c')\"\n",
              "              title=\"Convert this dataframe to an interactive table.\"\n",
              "              style=\"display:none;\">\n",
              "        \n",
              "  <svg xmlns=\"http://www.w3.org/2000/svg\" height=\"24px\"viewBox=\"0 0 24 24\"\n",
              "       width=\"24px\">\n",
              "    <path d=\"M0 0h24v24H0V0z\" fill=\"none\"/>\n",
              "    <path d=\"M18.56 5.44l.94 2.06.94-2.06 2.06-.94-2.06-.94-.94-2.06-.94 2.06-2.06.94zm-11 1L8.5 8.5l.94-2.06 2.06-.94-2.06-.94L8.5 2.5l-.94 2.06-2.06.94zm10 10l.94 2.06.94-2.06 2.06-.94-2.06-.94-.94-2.06-.94 2.06-2.06.94z\"/><path d=\"M17.41 7.96l-1.37-1.37c-.4-.4-.92-.59-1.43-.59-.52 0-1.04.2-1.43.59L10.3 9.45l-7.72 7.72c-.78.78-.78 2.05 0 2.83L4 21.41c.39.39.9.59 1.41.59.51 0 1.02-.2 1.41-.59l7.78-7.78 2.81-2.81c.8-.78.8-2.07 0-2.86zM5.41 20L4 18.59l7.72-7.72 1.47 1.35L5.41 20z\"/>\n",
              "  </svg>\n",
              "      </button>\n",
              "      \n",
              "  <style>\n",
              "    .colab-df-container {\n",
              "      display:flex;\n",
              "      flex-wrap:wrap;\n",
              "      gap: 12px;\n",
              "    }\n",
              "\n",
              "    .colab-df-convert {\n",
              "      background-color: #E8F0FE;\n",
              "      border: none;\n",
              "      border-radius: 50%;\n",
              "      cursor: pointer;\n",
              "      display: none;\n",
              "      fill: #1967D2;\n",
              "      height: 32px;\n",
              "      padding: 0 0 0 0;\n",
              "      width: 32px;\n",
              "    }\n",
              "\n",
              "    .colab-df-convert:hover {\n",
              "      background-color: #E2EBFA;\n",
              "      box-shadow: 0px 1px 2px rgba(60, 64, 67, 0.3), 0px 1px 3px 1px rgba(60, 64, 67, 0.15);\n",
              "      fill: #174EA6;\n",
              "    }\n",
              "\n",
              "    [theme=dark] .colab-df-convert {\n",
              "      background-color: #3B4455;\n",
              "      fill: #D2E3FC;\n",
              "    }\n",
              "\n",
              "    [theme=dark] .colab-df-convert:hover {\n",
              "      background-color: #434B5C;\n",
              "      box-shadow: 0px 1px 3px 1px rgba(0, 0, 0, 0.15);\n",
              "      filter: drop-shadow(0px 1px 2px rgba(0, 0, 0, 0.3));\n",
              "      fill: #FFFFFF;\n",
              "    }\n",
              "  </style>\n",
              "\n",
              "      <script>\n",
              "        const buttonEl =\n",
              "          document.querySelector('#df-9ed77f60-52a3-4d9a-ac0d-182e1c01666c button.colab-df-convert');\n",
              "        buttonEl.style.display =\n",
              "          google.colab.kernel.accessAllowed ? 'block' : 'none';\n",
              "\n",
              "        async function convertToInteractive(key) {\n",
              "          const element = document.querySelector('#df-9ed77f60-52a3-4d9a-ac0d-182e1c01666c');\n",
              "          const dataTable =\n",
              "            await google.colab.kernel.invokeFunction('convertToInteractive',\n",
              "                                                     [key], {});\n",
              "          if (!dataTable) return;\n",
              "\n",
              "          const docLinkHtml = 'Like what you see? Visit the ' +\n",
              "            '<a target=\"_blank\" href=https://colab.research.google.com/notebooks/data_table.ipynb>data table notebook</a>'\n",
              "            + ' to learn more about interactive tables.';\n",
              "          element.innerHTML = '';\n",
              "          dataTable['output_type'] = 'display_data';\n",
              "          await google.colab.output.renderOutput(dataTable, element);\n",
              "          const docLink = document.createElement('div');\n",
              "          docLink.innerHTML = docLinkHtml;\n",
              "          element.appendChild(docLink);\n",
              "        }\n",
              "      </script>\n",
              "    </div>\n",
              "  </div>\n",
              "  "
            ]
          },
          "metadata": {},
          "execution_count": 240
        }
      ],
      "source": [
        "#Converting the format in date_time_of_pickup into datetime uding the functions from pandas \n",
        "\n",
        "df['date_time_of_pickup'] = pd.to_datetime(df['date_time_of_pickup'])\n",
        "\n",
        "import datetime\n",
        "\n",
        "df['year']=df['date_time_of_pickup'].dt.year\n",
        "df['month'] =df['date_time_of_pickup'].dt.month\n",
        "df['day'] =df['date_time_of_pickup'].dt.day\n",
        "df['day_of_week']=df['date_time_of_pickup'].dt.dayofweek\n",
        "df['hour'] = df['date_time_of_pickup'].dt.hour\n",
        "\n",
        "df.head()"
      ]
    },
    {
      "cell_type": "markdown",
      "metadata": {
        "id": "61wnm7A875Lk"
      },
      "source": [
        "Explaination of the code used above:\n",
        "\n",
        "df['year']=df['date_time_of_pickup'].dt.year: This line extracts the year component from the datetime column and creates a new column named 'year' in the DataFrame.\n",
        "\n",
        "df['month'] =df['date_time_of_pickup'].dt.month: Similarly, this line extracts the month component and creates a new column named 'month' in the DataFrame.\n",
        "\n",
        "df['day'] =df['date_time_of_pickup'].dt.day: This line extracts the day component and creates a new column named 'day' in the DataFrame.\n",
        "\n",
        "df['hour'] = df['date_time_of_pickup'].dt.hour: This line extracts the hour component and creates a new column named 'hour' in the DataFrame.\n",
        "\n",
        "---\n",
        "SO, column date_time_of_pickup can be droped.\n"
      ]
    },
    {
      "cell_type": "code",
      "execution_count": 241,
      "metadata": {
        "id": "czuxsB7J74Dj"
      },
      "outputs": [],
      "source": [
        "df.drop([\"date_time_of_pickup\"],axis=1,inplace=True)"
      ]
    },
    {
      "cell_type": "code",
      "execution_count": 242,
      "metadata": {
        "colab": {
          "base_uri": "https://localhost:8080/",
          "height": 363
        },
        "id": "jVlZDcz68Pa5",
        "outputId": "3783caf3-7513-4259-c751-c8acf491fcdf"
      },
      "outputs": [
        {
          "output_type": "execute_result",
          "data": {
            "text/plain": [
              "       amount  no_of_passenger  dis_miles  year month  day day_of_week  hour\n",
              "17570   48.83                1   6.907981  2013   Apr    2         Tue    18\n",
              "46990    6.10                1   1.171412  2012   Jul   26         Thu     6\n",
              "46650    7.30                5   1.591578  2010   Feb   12         Fri    17\n",
              "33927    3.00                1   0.297746  2012   Nov   29         Thu    11\n",
              "45540    5.50                1   0.849283  2013   May   13         Mon     7\n",
              "43466    8.50                1   1.176879  2012   Sep   21         Fri     0\n",
              "42101    2.90                2   0.152456  2012   Jul   13         Fri    22\n",
              "39974    6.50                1   0.968180  2012   Apr   15         Sun    18\n",
              "14917    5.70                1   0.484867  2011   Oct   31         Mon    17\n",
              "40363    4.50                1   0.344874  2014   May    8         Thu    10"
            ],
            "text/html": [
              "\n",
              "  <div id=\"df-c1304c88-ac15-4aa7-9138-74f8b45d9a01\">\n",
              "    <div class=\"colab-df-container\">\n",
              "      <div>\n",
              "<style scoped>\n",
              "    .dataframe tbody tr th:only-of-type {\n",
              "        vertical-align: middle;\n",
              "    }\n",
              "\n",
              "    .dataframe tbody tr th {\n",
              "        vertical-align: top;\n",
              "    }\n",
              "\n",
              "    .dataframe thead th {\n",
              "        text-align: right;\n",
              "    }\n",
              "</style>\n",
              "<table border=\"1\" class=\"dataframe\">\n",
              "  <thead>\n",
              "    <tr style=\"text-align: right;\">\n",
              "      <th></th>\n",
              "      <th>amount</th>\n",
              "      <th>no_of_passenger</th>\n",
              "      <th>dis_miles</th>\n",
              "      <th>year</th>\n",
              "      <th>month</th>\n",
              "      <th>day</th>\n",
              "      <th>day_of_week</th>\n",
              "      <th>hour</th>\n",
              "    </tr>\n",
              "  </thead>\n",
              "  <tbody>\n",
              "    <tr>\n",
              "      <th>17570</th>\n",
              "      <td>48.83</td>\n",
              "      <td>1</td>\n",
              "      <td>6.907981</td>\n",
              "      <td>2013</td>\n",
              "      <td>Apr</td>\n",
              "      <td>2</td>\n",
              "      <td>Tue</td>\n",
              "      <td>18</td>\n",
              "    </tr>\n",
              "    <tr>\n",
              "      <th>46990</th>\n",
              "      <td>6.10</td>\n",
              "      <td>1</td>\n",
              "      <td>1.171412</td>\n",
              "      <td>2012</td>\n",
              "      <td>Jul</td>\n",
              "      <td>26</td>\n",
              "      <td>Thu</td>\n",
              "      <td>6</td>\n",
              "    </tr>\n",
              "    <tr>\n",
              "      <th>46650</th>\n",
              "      <td>7.30</td>\n",
              "      <td>5</td>\n",
              "      <td>1.591578</td>\n",
              "      <td>2010</td>\n",
              "      <td>Feb</td>\n",
              "      <td>12</td>\n",
              "      <td>Fri</td>\n",
              "      <td>17</td>\n",
              "    </tr>\n",
              "    <tr>\n",
              "      <th>33927</th>\n",
              "      <td>3.00</td>\n",
              "      <td>1</td>\n",
              "      <td>0.297746</td>\n",
              "      <td>2012</td>\n",
              "      <td>Nov</td>\n",
              "      <td>29</td>\n",
              "      <td>Thu</td>\n",
              "      <td>11</td>\n",
              "    </tr>\n",
              "    <tr>\n",
              "      <th>45540</th>\n",
              "      <td>5.50</td>\n",
              "      <td>1</td>\n",
              "      <td>0.849283</td>\n",
              "      <td>2013</td>\n",
              "      <td>May</td>\n",
              "      <td>13</td>\n",
              "      <td>Mon</td>\n",
              "      <td>7</td>\n",
              "    </tr>\n",
              "    <tr>\n",
              "      <th>43466</th>\n",
              "      <td>8.50</td>\n",
              "      <td>1</td>\n",
              "      <td>1.176879</td>\n",
              "      <td>2012</td>\n",
              "      <td>Sep</td>\n",
              "      <td>21</td>\n",
              "      <td>Fri</td>\n",
              "      <td>0</td>\n",
              "    </tr>\n",
              "    <tr>\n",
              "      <th>42101</th>\n",
              "      <td>2.90</td>\n",
              "      <td>2</td>\n",
              "      <td>0.152456</td>\n",
              "      <td>2012</td>\n",
              "      <td>Jul</td>\n",
              "      <td>13</td>\n",
              "      <td>Fri</td>\n",
              "      <td>22</td>\n",
              "    </tr>\n",
              "    <tr>\n",
              "      <th>39974</th>\n",
              "      <td>6.50</td>\n",
              "      <td>1</td>\n",
              "      <td>0.968180</td>\n",
              "      <td>2012</td>\n",
              "      <td>Apr</td>\n",
              "      <td>15</td>\n",
              "      <td>Sun</td>\n",
              "      <td>18</td>\n",
              "    </tr>\n",
              "    <tr>\n",
              "      <th>14917</th>\n",
              "      <td>5.70</td>\n",
              "      <td>1</td>\n",
              "      <td>0.484867</td>\n",
              "      <td>2011</td>\n",
              "      <td>Oct</td>\n",
              "      <td>31</td>\n",
              "      <td>Mon</td>\n",
              "      <td>17</td>\n",
              "    </tr>\n",
              "    <tr>\n",
              "      <th>40363</th>\n",
              "      <td>4.50</td>\n",
              "      <td>1</td>\n",
              "      <td>0.344874</td>\n",
              "      <td>2014</td>\n",
              "      <td>May</td>\n",
              "      <td>8</td>\n",
              "      <td>Thu</td>\n",
              "      <td>10</td>\n",
              "    </tr>\n",
              "  </tbody>\n",
              "</table>\n",
              "</div>\n",
              "      <button class=\"colab-df-convert\" onclick=\"convertToInteractive('df-c1304c88-ac15-4aa7-9138-74f8b45d9a01')\"\n",
              "              title=\"Convert this dataframe to an interactive table.\"\n",
              "              style=\"display:none;\">\n",
              "        \n",
              "  <svg xmlns=\"http://www.w3.org/2000/svg\" height=\"24px\"viewBox=\"0 0 24 24\"\n",
              "       width=\"24px\">\n",
              "    <path d=\"M0 0h24v24H0V0z\" fill=\"none\"/>\n",
              "    <path d=\"M18.56 5.44l.94 2.06.94-2.06 2.06-.94-2.06-.94-.94-2.06-.94 2.06-2.06.94zm-11 1L8.5 8.5l.94-2.06 2.06-.94-2.06-.94L8.5 2.5l-.94 2.06-2.06.94zm10 10l.94 2.06.94-2.06 2.06-.94-2.06-.94-.94-2.06-.94 2.06-2.06.94z\"/><path d=\"M17.41 7.96l-1.37-1.37c-.4-.4-.92-.59-1.43-.59-.52 0-1.04.2-1.43.59L10.3 9.45l-7.72 7.72c-.78.78-.78 2.05 0 2.83L4 21.41c.39.39.9.59 1.41.59.51 0 1.02-.2 1.41-.59l7.78-7.78 2.81-2.81c.8-.78.8-2.07 0-2.86zM5.41 20L4 18.59l7.72-7.72 1.47 1.35L5.41 20z\"/>\n",
              "  </svg>\n",
              "      </button>\n",
              "      \n",
              "  <style>\n",
              "    .colab-df-container {\n",
              "      display:flex;\n",
              "      flex-wrap:wrap;\n",
              "      gap: 12px;\n",
              "    }\n",
              "\n",
              "    .colab-df-convert {\n",
              "      background-color: #E8F0FE;\n",
              "      border: none;\n",
              "      border-radius: 50%;\n",
              "      cursor: pointer;\n",
              "      display: none;\n",
              "      fill: #1967D2;\n",
              "      height: 32px;\n",
              "      padding: 0 0 0 0;\n",
              "      width: 32px;\n",
              "    }\n",
              "\n",
              "    .colab-df-convert:hover {\n",
              "      background-color: #E2EBFA;\n",
              "      box-shadow: 0px 1px 2px rgba(60, 64, 67, 0.3), 0px 1px 3px 1px rgba(60, 64, 67, 0.15);\n",
              "      fill: #174EA6;\n",
              "    }\n",
              "\n",
              "    [theme=dark] .colab-df-convert {\n",
              "      background-color: #3B4455;\n",
              "      fill: #D2E3FC;\n",
              "    }\n",
              "\n",
              "    [theme=dark] .colab-df-convert:hover {\n",
              "      background-color: #434B5C;\n",
              "      box-shadow: 0px 1px 3px 1px rgba(0, 0, 0, 0.15);\n",
              "      filter: drop-shadow(0px 1px 2px rgba(0, 0, 0, 0.3));\n",
              "      fill: #FFFFFF;\n",
              "    }\n",
              "  </style>\n",
              "\n",
              "      <script>\n",
              "        const buttonEl =\n",
              "          document.querySelector('#df-c1304c88-ac15-4aa7-9138-74f8b45d9a01 button.colab-df-convert');\n",
              "        buttonEl.style.display =\n",
              "          google.colab.kernel.accessAllowed ? 'block' : 'none';\n",
              "\n",
              "        async function convertToInteractive(key) {\n",
              "          const element = document.querySelector('#df-c1304c88-ac15-4aa7-9138-74f8b45d9a01');\n",
              "          const dataTable =\n",
              "            await google.colab.kernel.invokeFunction('convertToInteractive',\n",
              "                                                     [key], {});\n",
              "          if (!dataTable) return;\n",
              "\n",
              "          const docLinkHtml = 'Like what you see? Visit the ' +\n",
              "            '<a target=\"_blank\" href=https://colab.research.google.com/notebooks/data_table.ipynb>data table notebook</a>'\n",
              "            + ' to learn more about interactive tables.';\n",
              "          element.innerHTML = '';\n",
              "          dataTable['output_type'] = 'display_data';\n",
              "          await google.colab.output.renderOutput(dataTable, element);\n",
              "          const docLink = document.createElement('div');\n",
              "          docLink.innerHTML = docLinkHtml;\n",
              "          element.appendChild(docLink);\n",
              "        }\n",
              "      </script>\n",
              "    </div>\n",
              "  </div>\n",
              "  "
            ]
          },
          "metadata": {},
          "execution_count": 242
        }
      ],
      "source": [
        "#Using the information from \"pandas.DatetimeIndex.dayofweek\" replacing the the numbers with their name of days, and months \n",
        "\n",
        "df[\"day_of_week\"]=df['day_of_week'].replace({0:'Mon',1:'Tue',2:'Wed',3:'Thu',4:'Fri',5:'Sat',6:'Sun'})\n",
        "df['month']=df['month'].replace({1:'Jan',2:'Feb',3:'Mar',4:'Apr',5:'May',6:'Jun',7:'Jul',8:'Aug',9:'Sep',10:'Oct',11:'Nov',12:'Dec'})\n",
        "\n",
        "df.sample(10)"
      ]
    },
    {
      "cell_type": "markdown",
      "metadata": {
        "id": "a3HCsj_3_U-u"
      },
      "source": [
        "- Data visulaisation and Understanding can be performed, as now we have the columns in a form which can be directly plotted and inferred easily."
      ]
    },
    {
      "cell_type": "code",
      "execution_count": 243,
      "metadata": {
        "id": "vEyORmR7_TCh",
        "colab": {
          "base_uri": "https://localhost:8080/",
          "height": 275
        },
        "outputId": "2c8600c4-5188-4049-b4cc-865f0533e1ae"
      },
      "outputs": [
        {
          "output_type": "execute_result",
          "data": {
            "text/plain": [
              "<seaborn.axisgrid.PairGrid at 0x7f1e32160ee0>"
            ]
          },
          "metadata": {},
          "execution_count": 243
        },
        {
          "output_type": "display_data",
          "data": {
            "text/plain": [
              "<Figure size 1500x250 with 6 Axes>"
            ],
            "image/png": "[encoded data removed]"
          },
          "metadata": {}
        }
      ],
      "source": [
        "sns.pairplot(df,y_vars=['amount'],x_vars=['dis_miles','year','month','day','day_of_week','hour'],diag_kind='auto')  #gives the Visual relation between all the combination of two attributes\n",
        "\n",
        "#To get the required relation in Independent and Dependent Variables, the variables for x and y are specifially mentioned to the parameters of pairplot. "
      ]
    },
    {
      "cell_type": "markdown",
      "source": [
        "- From amount vs dis_miles; Most of the amount came from passengers who travelled small distances. It means most of the people do not prefer Taxi to travel large distances but instead use for small routes\n",
        "\n",
        "- In other plots, not much inference can be made bcoz the data is bit scattered, will be analysed by using other visual methods."
      ],
      "metadata": {
        "id": "mvpTvc-oxcpl"
      }
    },
    {
      "cell_type": "markdown",
      "metadata": {
        "id": "fUPABoxhh-ML"
      },
      "source": [
        "\n",
        "\n",
        "---\n",
        "Anlysing relation of year with fare amount.\n",
        "\n"
      ]
    },
    {
      "cell_type": "code",
      "execution_count": 244,
      "metadata": {
        "colab": {
          "base_uri": "https://localhost:8080/",
          "height": 570
        },
        "id": "xOjpFrOrxbP_",
        "outputId": "f39ae787-dc68-4091-d652-ac22ad2f22dc"
      },
      "outputs": [
        {
          "output_type": "execute_result",
          "data": {
            "text/plain": [
              "1    34800\n",
              "2     7386\n",
              "5     3453\n",
              "3     2183\n",
              "4     1015\n",
              "6      989\n",
              "Name: no_of_passenger, dtype: int64"
            ]
          },
          "metadata": {},
          "execution_count": 244
        },
        {
          "output_type": "display_data",
          "data": {
            "text/plain": [
              "<Figure size 640x480 with 1 Axes>"
            ],
            "image/png": "[encoded data removed]"
          },
          "metadata": {}
        }
      ],
      "source": [
        "sns.countplot(x='year',data=df)\n",
        "df['no_of_passenger'].value_counts()"
      ]
    },
    {
      "cell_type": "markdown",
      "source": [
        "- From year 2012 there is declination, which means People have reduced using Taxi for travelling. And might be beacuse of this, the enteries of fare amount of Taxi for year 2015 is very less compared to other years."
      ],
      "metadata": {
        "id": "GuslHQG9bBGs"
      }
    },
    {
      "cell_type": "code",
      "execution_count": 245,
      "metadata": {
        "id": "75n6sSZwiUzP",
        "colab": {
          "base_uri": "https://localhost:8080/",
          "height": 469
        },
        "outputId": "83fecbfe-6b0a-4de3-9f47-de7f7a733de0"
      },
      "outputs": [
        {
          "output_type": "execute_result",
          "data": {
            "text/plain": [
              "<Axes: xlabel='year', ylabel='amount'>"
            ]
          },
          "metadata": {},
          "execution_count": 245
        },
        {
          "output_type": "display_data",
          "data": {
            "text/plain": [
              "<Figure size 640x480 with 1 Axes>"
            ],
            "image/png": "[encoded data removed]"
          },
          "metadata": {}
        }
      ],
      "source": [
        "sns.barplot(x = 'year', y = 'amount', data = df)"
      ]
    },
    {
      "cell_type": "markdown",
      "metadata": {
        "id": "QxCjmouSskjf"
      },
      "source": [
        "- In this above plot, with Years the Taxi prices have increased."
      ]
    },
    {
      "cell_type": "markdown",
      "source": [
        "- What can relation can be inferred from year and amount plots?\n",
        "\n",
        "As the Taxi fares got increased with years people also reduced using Taxis as transport. [This is a possible situation that can be inferred.]\n",
        "\n",
        "\n",
        "---"
      ],
      "metadata": {
        "id": "1xUV8v7RZ1Bu"
      }
    },
    {
      "cell_type": "markdown",
      "source": [
        "Anlysing relation of month with fare amount."
      ],
      "metadata": {
        "id": "mYjHBRcHqmax"
      }
    },
    {
      "cell_type": "code",
      "execution_count": 246,
      "metadata": {
        "id": "DfOge5oIxeqH",
        "colab": {
          "base_uri": "https://localhost:8080/",
          "height": 466
        },
        "outputId": "dcab2c5a-022e-40d7-b432-8d4ee53fb67a"
      },
      "outputs": [
        {
          "output_type": "execute_result",
          "data": {
            "text/plain": [
              "<Axes: xlabel='month', ylabel='count'>"
            ]
          },
          "metadata": {},
          "execution_count": 246
        },
        {
          "output_type": "display_data",
          "data": {
            "text/plain": [
              "<Figure size 640x480 with 1 Axes>"
            ],
            "image/png": "[encoded data removed]"
          },
          "metadata": {}
        }
      ],
      "source": [
        "sns.countplot(x='month',data=df)"
      ]
    },
    {
      "cell_type": "markdown",
      "source": [
        "- Enteries for months Aug, Nov, Sep, Jul are less then it can be infered that people have not used Taxi for transport much in these months."
      ],
      "metadata": {
        "id": "d7yOa6GzsI9_"
      }
    },
    {
      "cell_type": "code",
      "execution_count": 247,
      "metadata": {
        "colab": {
          "base_uri": "https://localhost:8080/",
          "height": 466
        },
        "id": "-oLSETXZit6s",
        "outputId": "ff53f724-b8f0-4611-c9d1-0f05843842fc"
      },
      "outputs": [
        {
          "output_type": "execute_result",
          "data": {
            "text/plain": [
              "<Axes: xlabel='month', ylabel='amount'>"
            ]
          },
          "metadata": {},
          "execution_count": 247
        },
        {
          "output_type": "display_data",
          "data": {
            "text/plain": [
              "<Figure size 640x480 with 1 Axes>"
            ],
            "image/png": "[encoded data removed]"
          },
          "metadata": {}
        }
      ],
      "source": [
        "sns.barplot(x = 'month', y = 'amount', data = df)"
      ]
    },
    {
      "cell_type": "markdown",
      "metadata": {
        "id": "foUE53J1sxYK"
      },
      "source": [
        "- The total fare amount has been more in few months like September.\n",
        "\n",
        "As saw the relation between years and amount the amount got increased with upcoming years and so that could be the reason that total fare amount is high even for the months when people have not travelled from Taxi much. "
      ]
    },
    {
      "cell_type": "markdown",
      "metadata": {
        "id": "IUdhCyVlx5FV"
      },
      "source": [
        "\n",
        "\n",
        "---"
      ]
    },
    {
      "cell_type": "markdown",
      "source": [
        "Anlysing relation of day of week with fare amount."
      ],
      "metadata": {
        "id": "d8gMbxF4sOA0"
      }
    },
    {
      "cell_type": "code",
      "execution_count": 248,
      "metadata": {
        "colab": {
          "base_uri": "https://localhost:8080/",
          "height": 593
        },
        "id": "UTiN6bugx1EK",
        "outputId": "7a1f3ef1-b26a-444a-f7b8-f0f0cb6953d1"
      },
      "outputs": [
        {
          "output_type": "execute_result",
          "data": {
            "text/plain": [
              "Fri    7636\n",
              "Sat    7607\n",
              "Thu    7380\n",
              "Wed    7185\n",
              "Tue    6901\n",
              "Mon    6620\n",
              "Sun    6497\n",
              "Name: day_of_week, dtype: int64"
            ]
          },
          "metadata": {},
          "execution_count": 248
        },
        {
          "output_type": "display_data",
          "data": {
            "text/plain": [
              "<Figure size 640x480 with 1 Axes>"
            ],
            "image/png": "[encoded data removed]"
          },
          "metadata": {}
        }
      ],
      "source": [
        "sns.countplot(x='day_of_week',data=df)\n",
        "df['day_of_week'].value_counts()"
      ]
    },
    {
      "cell_type": "markdown",
      "source": [
        "- On Sundays, Taxi haven't been used much for transpotation. But on Saturdays and Friday it is opposite. It might be because Sunday it is holiday, so people prefer not to travel much from Taxi."
      ],
      "metadata": {
        "id": "D-pnGkMS7_su"
      }
    },
    {
      "cell_type": "code",
      "execution_count": 249,
      "metadata": {
        "id": "sOgHCgryiztO",
        "colab": {
          "base_uri": "https://localhost:8080/",
          "height": 467
        },
        "outputId": "4bbe472f-5be0-49d2-876f-add62f369a01"
      },
      "outputs": [
        {
          "output_type": "execute_result",
          "data": {
            "text/plain": [
              "<Axes: xlabel='day_of_week', ylabel='amount'>"
            ]
          },
          "metadata": {},
          "execution_count": 249
        },
        {
          "output_type": "display_data",
          "data": {
            "text/plain": [
              "<Figure size 640x480 with 1 Axes>"
            ],
            "image/png": "[encoded data removed]"
          },
          "metadata": {}
        }
      ],
      "source": [
        "sns.barplot(x = 'day_of_week', y = 'amount', data = df)"
      ]
    },
    {
      "cell_type": "markdown",
      "metadata": {
        "id": "L4-Rb57QtPMM"
      },
      "source": [
        "- Total fare amount is more in days like Thursday, Monday and Sunday.\n",
        "\n",
        "Same arguement can be made again here that within years the fare prices have rose."
      ]
    },
    {
      "cell_type": "markdown",
      "metadata": {
        "id": "Gkhj-rdlxsdZ"
      },
      "source": [
        "\n",
        "\n",
        "---"
      ]
    },
    {
      "cell_type": "markdown",
      "metadata": {
        "id": "ZkPyITZmu8uD"
      },
      "source": [
        "Anlysing relation of hours in a day with fare amount.\n"
      ]
    },
    {
      "cell_type": "code",
      "execution_count": 250,
      "metadata": {
        "id": "_9hFocAjjJfU",
        "colab": {
          "base_uri": "https://localhost:8080/",
          "height": 466
        },
        "outputId": "8a4e2854-3f8e-4f31-f817-5cf0651422b1"
      },
      "outputs": [
        {
          "output_type": "stream",
          "name": "stdout",
          "text": [
            "Plot of how frequent the people have used taxi for ride for certain hours in a day : Axes(0.125,0.11;0.775x0.77)\n"
          ]
        },
        {
          "output_type": "display_data",
          "data": {
            "text/plain": [
              "<Figure size 640x480 with 1 Axes>"
            ],
            "image/png": "[encoded data removed]"
          },
          "metadata": {}
        }
      ],
      "source": [
        "print(\"Plot of how frequent the people have used taxi for ride for certain hours in a day :\",sns.countplot(x='hour',data=df))"
      ]
    },
    {
      "cell_type": "markdown",
      "source": [
        "Taxi has been mostly used around 5pm-6pm, and very less used 4am-5am."
      ],
      "metadata": {
        "id": "ddm7maOu9Q-s"
      }
    },
    {
      "cell_type": "code",
      "execution_count": 251,
      "metadata": {
        "id": "sICYrNd3uuAt",
        "colab": {
          "base_uri": "https://localhost:8080/",
          "height": 466
        },
        "outputId": "dc48cb95-6986-4e23-c3ad-f30af7d96646"
      },
      "outputs": [
        {
          "output_type": "stream",
          "name": "stdout",
          "text": [
            "Amount vs hour : Axes(0.125,0.11;0.775x0.77)\n"
          ]
        },
        {
          "output_type": "display_data",
          "data": {
            "text/plain": [
              "<Figure size 640x480 with 1 Axes>"
            ],
            "image/png": "[encoded data removed]"
          },
          "metadata": {}
        }
      ],
      "source": [
        "print(\"Amount vs hour :\",sns.barplot(x = 'hour', y = 'amount', data = df))"
      ]
    },
    {
      "cell_type": "markdown",
      "source": [
        "Fare amount is higher around 4am - 5am, even if people have not used Taxi much in these hours.\n",
        "\n",
        "So, it can be inferred that Taxis might have early morning Charges."
      ],
      "metadata": {
        "id": "1nvaebFe-QVM"
      }
    },
    {
      "cell_type": "markdown",
      "metadata": {
        "id": "EkxvOH79vFWT"
      },
      "source": [
        "\n",
        "\n",
        "---\n",
        "\n"
      ]
    },
    {
      "cell_type": "markdown",
      "source": [
        "Anlysing relation of distance with fare amount.\n"
      ],
      "metadata": {
        "id": "dCR7SPgStAJm"
      }
    },
    {
      "cell_type": "code",
      "execution_count": 252,
      "metadata": {
        "id": "etX7j_k-w8V2",
        "colab": {
          "base_uri": "https://localhost:8080/",
          "height": 467
        },
        "outputId": "cbb93f1d-34d2-4c4d-919b-09b3380cb32e"
      },
      "outputs": [
        {
          "output_type": "execute_result",
          "data": {
            "text/plain": [
              "<Axes: xlabel='dis_miles', ylabel='count'>"
            ]
          },
          "metadata": {},
          "execution_count": 252
        },
        {
          "output_type": "display_data",
          "data": {
            "text/plain": [
              "<Figure size 640x480 with 1 Axes>"
            ],
            "image/png": "[encoded data removed]"
          },
          "metadata": {}
        }
      ],
      "source": [
        " sns.countplot(x='dis_miles',data=df)"
      ]
    },
    {
      "cell_type": "markdown",
      "source": [
        "NO good inference can be made.\n",
        "But as we have already seen above in pairplot that people have mostly used Taxi for travelling small routes."
      ],
      "metadata": {
        "id": "XKWQBh3V9Wm8"
      }
    },
    {
      "cell_type": "code",
      "execution_count": 253,
      "metadata": {
        "id": "xMlBDyQckP78",
        "colab": {
          "base_uri": "https://localhost:8080/",
          "height": 467
        },
        "outputId": "af5da06b-ff59-4fb8-dab6-b0ef80ce0984"
      },
      "outputs": [
        {
          "output_type": "execute_result",
          "data": {
            "text/plain": [
              "<Axes: xlabel='dis_miles', ylabel='amount'>"
            ]
          },
          "metadata": {},
          "execution_count": 253
        },
        {
          "output_type": "display_data",
          "data": {
            "text/plain": [
              "<Figure size 640x480 with 1 Axes>"
            ],
            "image/png": "[encoded data removed]"
          },
          "metadata": {}
        }
      ],
      "source": [
        " sns.barplot(x = 'dis_miles', y = 'amount', data = df)"
      ]
    },
    {
      "cell_type": "markdown",
      "source": [
        "The fare amount increases as the distance of travel increases."
      ],
      "metadata": {
        "id": "lVqjVcgG9mPv"
      }
    },
    {
      "cell_type": "markdown",
      "metadata": {
        "id": "wqI1BLvJxpdn"
      },
      "source": [
        "\n",
        "\n",
        "---"
      ]
    },
    {
      "cell_type": "markdown",
      "metadata": {
        "id": "xbHHsTk0wwo8"
      },
      "source": [
        "Anlysing relation of number of passenge with fare amount"
      ]
    },
    {
      "cell_type": "code",
      "execution_count": 254,
      "metadata": {
        "id": "48oW_nhywnF6",
        "colab": {
          "base_uri": "https://localhost:8080/",
          "height": 571
        },
        "outputId": "b2f28087-a950-40de-a0ca-c37b11dfaad6"
      },
      "outputs": [
        {
          "output_type": "execute_result",
          "data": {
            "text/plain": [
              "1    34800\n",
              "2     7386\n",
              "5     3453\n",
              "3     2183\n",
              "4     1015\n",
              "6      989\n",
              "Name: no_of_passenger, dtype: int64"
            ]
          },
          "metadata": {},
          "execution_count": 254
        },
        {
          "output_type": "display_data",
          "data": {
            "text/plain": [
              "<Figure size 640x480 with 1 Axes>"
            ],
            "image/png": "[encoded data removed]"
          },
          "metadata": {}
        }
      ],
      "source": [
        "sns.countplot(x='no_of_passenger',data=df)\n",
        "df['no_of_passenger'].value_counts()"
      ]
    },
    {
      "cell_type": "markdown",
      "source": [
        "Most of the time, the number of passenger has been one."
      ],
      "metadata": {
        "id": "9PRLfICZ-vna"
      }
    },
    {
      "cell_type": "code",
      "execution_count": 255,
      "metadata": {
        "id": "L4cbeY76kaDO",
        "colab": {
          "base_uri": "https://localhost:8080/",
          "height": 467
        },
        "outputId": "4404a276-2348-4f50-cf40-f2b45d1bb61f"
      },
      "outputs": [
        {
          "output_type": "execute_result",
          "data": {
            "text/plain": [
              "<Axes: xlabel='no_of_passenger', ylabel='amount'>"
            ]
          },
          "metadata": {},
          "execution_count": 255
        },
        {
          "output_type": "display_data",
          "data": {
            "text/plain": [
              "<Figure size 640x480 with 1 Axes>"
            ],
            "image/png": "[encoded data removed]"
          },
          "metadata": {}
        }
      ],
      "source": [
        "sns.barplot(x = 'no_of_passenger', y = 'amount', data = df)"
      ]
    },
    {
      "cell_type": "markdown",
      "source": [
        "Even though count of single passenger is much large (as shown above), but still the total fare amount is more when number of passengers are more.\n"
      ],
      "metadata": {
        "id": "k0npbnC6Aseb"
      }
    },
    {
      "cell_type": "markdown",
      "metadata": {
        "id": "iS55PxNKw5tf"
      },
      "source": [
        "\n",
        "\n",
        "---\n",
        "\n"
      ]
    },
    {
      "cell_type": "markdown",
      "source": [
        "#Correlation\n",
        "-gives  the measure of strength of relation between two attributes.\n",
        "\n",
        "-correlation is high when value is close to 1\n",
        "\n",
        "-correlation is high b/w miles and fitness, that is there is relation b/w miles and fitness\n",
        "\n",
        "-correlation range[-1,1], |correlation|<=1\n",
        "\n",
        "-Positive correlation means both the attributes\n",
        "\n",
        "-correlation value close to 0=> NO relationship\n",
        "\n",
        "-correlation close to 0.5 => Moderate relation"
      ],
      "metadata": {
        "id": "QJ9lqWKEt56f"
      }
    },
    {
      "cell_type": "code",
      "execution_count": 256,
      "metadata": {
        "id": "_EOahVgAkk45",
        "colab": {
          "base_uri": "https://localhost:8080/",
          "height": 292
        },
        "outputId": "fbf44522-b95a-45e7-8a35-ebb61a75f18e"
      },
      "outputs": [
        {
          "output_type": "stream",
          "name": "stderr",
          "text": [
            "<ipython-input-256-7d5195e2bf4d>:1: FutureWarning: The default value of numeric_only in DataFrame.corr is deprecated. In a future version, it will default to False. Select only valid columns or specify the value of numeric_only to silence this warning.\n",
            "  corr=df.corr()\n"
          ]
        },
        {
          "output_type": "execute_result",
          "data": {
            "text/plain": [
              "                   amount  no_of_passenger  dis_miles      year       day  \\\n",
              "amount           1.000000         0.015718   0.017526  0.120969 -0.001514   \n",
              "no_of_passenger  0.015718         1.000000  -0.003093  0.005636  0.006781   \n",
              "dis_miles        0.017526        -0.003093   1.000000  0.023190  0.011338   \n",
              "year             0.120969         0.005636   0.023190  1.000000 -0.011084   \n",
              "day             -0.001514         0.006781   0.011338 -0.011084  1.000000   \n",
              "hour            -0.022106         0.011687   0.000430  0.004030 -0.008199   \n",
              "\n",
              "                     hour  \n",
              "amount          -0.022106  \n",
              "no_of_passenger  0.011687  \n",
              "dis_miles        0.000430  \n",
              "year             0.004030  \n",
              "day             -0.008199  \n",
              "hour             1.000000  "
            ],
            "text/html": [
              "\n",
              "  <div id=\"df-5dc2ca9d-764c-4aeb-a00d-e2433d96badb\">\n",
              "    <div class=\"colab-df-container\">\n",
              "      <div>\n",
              "<style scoped>\n",
              "    .dataframe tbody tr th:only-of-type {\n",
              "        vertical-align: middle;\n",
              "    }\n",
              "\n",
              "    .dataframe tbody tr th {\n",
              "        vertical-align: top;\n",
              "    }\n",
              "\n",
              "    .dataframe thead th {\n",
              "        text-align: right;\n",
              "    }\n",
              "</style>\n",
              "<table border=\"1\" class=\"dataframe\">\n",
              "  <thead>\n",
              "    <tr style=\"text-align: right;\">\n",
              "      <th></th>\n",
              "      <th>amount</th>\n",
              "      <th>no_of_passenger</th>\n",
              "      <th>dis_miles</th>\n",
              "      <th>year</th>\n",
              "      <th>day</th>\n",
              "      <th>hour</th>\n",
              "    </tr>\n",
              "  </thead>\n",
              "  <tbody>\n",
              "    <tr>\n",
              "      <th>amount</th>\n",
              "      <td>1.000000</td>\n",
              "      <td>0.015718</td>\n",
              "      <td>0.017526</td>\n",
              "      <td>0.120969</td>\n",
              "      <td>-0.001514</td>\n",
              "      <td>-0.022106</td>\n",
              "    </tr>\n",
              "    <tr>\n",
              "      <th>no_of_passenger</th>\n",
              "      <td>0.015718</td>\n",
              "      <td>1.000000</td>\n",
              "      <td>-0.003093</td>\n",
              "      <td>0.005636</td>\n",
              "      <td>0.006781</td>\n",
              "      <td>0.011687</td>\n",
              "    </tr>\n",
              "    <tr>\n",
              "      <th>dis_miles</th>\n",
              "      <td>0.017526</td>\n",
              "      <td>-0.003093</td>\n",
              "      <td>1.000000</td>\n",
              "      <td>0.023190</td>\n",
              "      <td>0.011338</td>\n",
              "      <td>0.000430</td>\n",
              "    </tr>\n",
              "    <tr>\n",
              "      <th>year</th>\n",
              "      <td>0.120969</td>\n",
              "      <td>0.005636</td>\n",
              "      <td>0.023190</td>\n",
              "      <td>1.000000</td>\n",
              "      <td>-0.011084</td>\n",
              "      <td>0.004030</td>\n",
              "    </tr>\n",
              "    <tr>\n",
              "      <th>day</th>\n",
              "      <td>-0.001514</td>\n",
              "      <td>0.006781</td>\n",
              "      <td>0.011338</td>\n",
              "      <td>-0.011084</td>\n",
              "      <td>1.000000</td>\n",
              "      <td>-0.008199</td>\n",
              "    </tr>\n",
              "    <tr>\n",
              "      <th>hour</th>\n",
              "      <td>-0.022106</td>\n",
              "      <td>0.011687</td>\n",
              "      <td>0.000430</td>\n",
              "      <td>0.004030</td>\n",
              "      <td>-0.008199</td>\n",
              "      <td>1.000000</td>\n",
              "    </tr>\n",
              "  </tbody>\n",
              "</table>\n",
              "</div>\n",
              "      <button class=\"colab-df-convert\" onclick=\"convertToInteractive('df-5dc2ca9d-764c-4aeb-a00d-e2433d96badb')\"\n",
              "              title=\"Convert this dataframe to an interactive table.\"\n",
              "              style=\"display:none;\">\n",
              "        \n",
              "  <svg xmlns=\"http://www.w3.org/2000/svg\" height=\"24px\"viewBox=\"0 0 24 24\"\n",
              "       width=\"24px\">\n",
              "    <path d=\"M0 0h24v24H0V0z\" fill=\"none\"/>\n",
              "    <path d=\"M18.56 5.44l.94 2.06.94-2.06 2.06-.94-2.06-.94-.94-2.06-.94 2.06-2.06.94zm-11 1L8.5 8.5l.94-2.06 2.06-.94-2.06-.94L8.5 2.5l-.94 2.06-2.06.94zm10 10l.94 2.06.94-2.06 2.06-.94-2.06-.94-.94-2.06-.94 2.06-2.06.94z\"/><path d=\"M17.41 7.96l-1.37-1.37c-.4-.4-.92-.59-1.43-.59-.52 0-1.04.2-1.43.59L10.3 9.45l-7.72 7.72c-.78.78-.78 2.05 0 2.83L4 21.41c.39.39.9.59 1.41.59.51 0 1.02-.2 1.41-.59l7.78-7.78 2.81-2.81c.8-.78.8-2.07 0-2.86zM5.41 20L4 18.59l7.72-7.72 1.47 1.35L5.41 20z\"/>\n",
              "  </svg>\n",
              "      </button>\n",
              "      \n",
              "  <style>\n",
              "    .colab-df-container {\n",
              "      display:flex;\n",
              "      flex-wrap:wrap;\n",
              "      gap: 12px;\n",
              "    }\n",
              "\n",
              "    .colab-df-convert {\n",
              "      background-color: #E8F0FE;\n",
              "      border: none;\n",
              "      border-radius: 50%;\n",
              "      cursor: pointer;\n",
              "      display: none;\n",
              "      fill: #1967D2;\n",
              "      height: 32px;\n",
              "      padding: 0 0 0 0;\n",
              "      width: 32px;\n",
              "    }\n",
              "\n",
              "    .colab-df-convert:hover {\n",
              "      background-color: #E2EBFA;\n",
              "      box-shadow: 0px 1px 2px rgba(60, 64, 67, 0.3), 0px 1px 3px 1px rgba(60, 64, 67, 0.15);\n",
              "      fill: #174EA6;\n",
              "    }\n",
              "\n",
              "    [theme=dark] .colab-df-convert {\n",
              "      background-color: #3B4455;\n",
              "      fill: #D2E3FC;\n",
              "    }\n",
              "\n",
              "    [theme=dark] .colab-df-convert:hover {\n",
              "      background-color: #434B5C;\n",
              "      box-shadow: 0px 1px 3px 1px rgba(0, 0, 0, 0.15);\n",
              "      filter: drop-shadow(0px 1px 2px rgba(0, 0, 0, 0.3));\n",
              "      fill: #FFFFFF;\n",
              "    }\n",
              "  </style>\n",
              "\n",
              "      <script>\n",
              "        const buttonEl =\n",
              "          document.querySelector('#df-5dc2ca9d-764c-4aeb-a00d-e2433d96badb button.colab-df-convert');\n",
              "        buttonEl.style.display =\n",
              "          google.colab.kernel.accessAllowed ? 'block' : 'none';\n",
              "\n",
              "        async function convertToInteractive(key) {\n",
              "          const element = document.querySelector('#df-5dc2ca9d-764c-4aeb-a00d-e2433d96badb');\n",
              "          const dataTable =\n",
              "            await google.colab.kernel.invokeFunction('convertToInteractive',\n",
              "                                                     [key], {});\n",
              "          if (!dataTable) return;\n",
              "\n",
              "          const docLinkHtml = 'Like what you see? Visit the ' +\n",
              "            '<a target=\"_blank\" href=https://colab.research.google.com/notebooks/data_table.ipynb>data table notebook</a>'\n",
              "            + ' to learn more about interactive tables.';\n",
              "          element.innerHTML = '';\n",
              "          dataTable['output_type'] = 'display_data';\n",
              "          await google.colab.output.renderOutput(dataTable, element);\n",
              "          const docLink = document.createElement('div');\n",
              "          docLink.innerHTML = docLinkHtml;\n",
              "          element.appendChild(docLink);\n",
              "        }\n",
              "      </script>\n",
              "    </div>\n",
              "  </div>\n",
              "  "
            ]
          },
          "metadata": {},
          "execution_count": 256
        }
      ],
      "source": [
        "corr=df.corr()\n",
        "corr"
      ]
    },
    {
      "cell_type": "markdown",
      "source": [
        "Correlation is highest between year and amount as comapred to other attributes."
      ],
      "metadata": {
        "id": "uMiIAF_Ki2j7"
      }
    },
    {
      "cell_type": "code",
      "execution_count": 257,
      "metadata": {
        "id": "mu01apA3yVgk",
        "colab": {
          "base_uri": "https://localhost:8080/",
          "height": 555
        },
        "outputId": "3074ed66-83c4-4e4e-fa1c-df7c2fc617c4"
      },
      "outputs": [
        {
          "output_type": "execute_result",
          "data": {
            "text/plain": [
              "<Axes: >"
            ]
          },
          "metadata": {},
          "execution_count": 257
        },
        {
          "output_type": "display_data",
          "data": {
            "text/plain": [
              "<Figure size 640x480 with 2 Axes>"
            ],
            "image/png": "[encoded data removed]"
          },
          "metadata": {}
        }
      ],
      "source": [
        "sns.heatmap(corr,annot=True,cmap=\"YlGnBu\")  \n",
        "\n",
        "#Visual Representation of Correlation"
      ]
    },
    {
      "cell_type": "markdown",
      "metadata": {
        "id": "5d-erXnlyjpb"
      },
      "source": [
        "- Missing values\n",
        "\n",
        "Missing data can result in bias, although this need not always be the case, depending on the missing data mechanism and the applied statistical approach."
      ]
    },
    {
      "cell_type": "code",
      "execution_count": 258,
      "metadata": {
        "id": "XMhPop8ZyUcV",
        "colab": {
          "base_uri": "https://localhost:8080/"
        },
        "outputId": "75b02622-aafb-417b-9474-0362b50afa6e"
      },
      "outputs": [
        {
          "output_type": "execute_result",
          "data": {
            "text/plain": [
              "amount             0\n",
              "no_of_passenger    0\n",
              "dis_miles          0\n",
              "year               0\n",
              "month              0\n",
              "day                0\n",
              "day_of_week        0\n",
              "hour               0\n",
              "dtype: int64"
            ]
          },
          "metadata": {},
          "execution_count": 258
        }
      ],
      "source": [
        "#check for missing values\n",
        "\n",
        "df.isnull().sum()"
      ]
    },
    {
      "cell_type": "markdown",
      "source": [
        "-There are no missing values in the dataset."
      ],
      "metadata": {
        "id": "9lwe5t4jiELJ"
      }
    },
    {
      "cell_type": "markdown",
      "source": [
        "- Duplicates\n",
        "\n",
        "Datasets that contain duplicates may contaminate the training data with the test data or vice versa.\n",
        "\n",
        "So, we will remove the duplicates"
      ],
      "metadata": {
        "id": "JXCd7YY1jeIW"
      }
    },
    {
      "cell_type": "code",
      "source": [
        "##Check for duplicates\n",
        "df.duplicated().sum()"
      ],
      "metadata": {
        "colab": {
          "base_uri": "https://localhost:8080/"
        },
        "id": "_iU8TCBjjdmc",
        "outputId": "12effce6-32b5-49d9-c1be-d0a6086e6914"
      },
      "execution_count": 259,
      "outputs": [
        {
          "output_type": "execute_result",
          "data": {
            "text/plain": [
              "0"
            ]
          },
          "metadata": {},
          "execution_count": 259
        }
      ]
    },
    {
      "cell_type": "markdown",
      "source": [
        "-There are no duplicates in the dataset."
      ],
      "metadata": {
        "id": "QxnSp433p7Jc"
      }
    },
    {
      "cell_type": "markdown",
      "metadata": {
        "id": "eKjOlNkqyqNa"
      },
      "source": [
        "- Outliers\n",
        "\n",
        "Outliers are data points in a data ser that is distance from all other observations, that is it lie outside the overall distribution\n",
        "\n",
        "Occurrence of Outlier in the input data causes a machine learning model to provide false results. So, to prevent this we will drop outliers."
      ]
    },
    {
      "cell_type": "code",
      "execution_count": 260,
      "metadata": {
        "id": "a7Rpze2fypBB",
        "colab": {
          "base_uri": "https://localhost:8080/",
          "height": 447
        },
        "outputId": "9ed9d3a4-3377-421e-bf06-ed8ad392e126"
      },
      "outputs": [
        {
          "output_type": "execute_result",
          "data": {
            "text/plain": [
              "<Axes: >"
            ]
          },
          "metadata": {},
          "execution_count": 260
        },
        {
          "output_type": "display_data",
          "data": {
            "text/plain": [
              "<Figure size 640x480 with 1 Axes>"
            ],
            "image/png": "[encoded data removed]"
          },
          "metadata": {}
        }
      ],
      "source": [
        "df.boxplot()"
      ]
    },
    {
      "cell_type": "markdown",
      "source": [
        "Outliers are present in amount, no_of_passenger, and dis_miles columns."
      ],
      "metadata": {
        "id": "qrTIP3NUjo_7"
      }
    },
    {
      "cell_type": "code",
      "execution_count": 261,
      "metadata": {
        "id": "JS04MkWqyulM"
      },
      "outputs": [],
      "source": [
        "#Function To Removr Outliers\n",
        "\n",
        "def remove_outlier(col):\n",
        "  sorted(col)\n",
        "  Q1,Q3=col.quantile([0.25,0.75])\n",
        "  IQR=Q3-Q1\n",
        "  lower_range=Q1-1.5*IQR\n",
        "  upper_range=  Q3+1.5*IQR\n",
        "  return lower_range, upper_range"
      ]
    },
    {
      "cell_type": "code",
      "execution_count": 262,
      "metadata": {
        "id": "B0zq0S04PjQt",
        "colab": {
          "base_uri": "https://localhost:8080/",
          "height": 447
        },
        "outputId": "b27938e2-e88d-4264-f0ea-310a82e9d48e"
      },
      "outputs": [
        {
          "output_type": "execute_result",
          "data": {
            "text/plain": [
              "<Axes: >"
            ]
          },
          "metadata": {},
          "execution_count": 262
        },
        {
          "output_type": "display_data",
          "data": {
            "text/plain": [
              "<Figure size 640x480 with 1 Axes>"
            ],
            "image/png": "[encoded data removed]"
          },
          "metadata": {}
        }
      ],
      "source": [
        "#Removing Outliers from 'dis_miles' column\n",
        "\n",
        "low_dist,high_dist=remove_outlier(df[\"dis_miles\"])\n",
        "df[\"dis_miles\"]=np.where(df[\"dis_miles\"]<low_dist,low_dist,df[\"dis_miles\"])\n",
        "df[\"dis_miles\"]=np.where(df[\"dis_miles\"]>high_dist,high_dist,df[\"dis_miles\"])\n",
        "\n",
        "df.boxplot([\"dis_miles\"])"
      ]
    },
    {
      "cell_type": "code",
      "execution_count": 263,
      "metadata": {
        "id": "jqWhJ9KnP7Nz",
        "colab": {
          "base_uri": "https://localhost:8080/",
          "height": 447
        },
        "outputId": "114b9b1b-ce3f-4125-feb0-7f1f5c439600"
      },
      "outputs": [
        {
          "output_type": "execute_result",
          "data": {
            "text/plain": [
              "<Axes: >"
            ]
          },
          "metadata": {},
          "execution_count": 263
        },
        {
          "output_type": "display_data",
          "data": {
            "text/plain": [
              "<Figure size 640x480 with 1 Axes>"
            ],
            "image/png": "[encoded data removed]"
          },
          "metadata": {}
        }
      ],
      "source": [
        "#Removing Outliers from 'no_of_passenger' column\n",
        "\n",
        "\n",
        "low_pass,high_pass=remove_outlier(df[\"no_of_passenger\"])\n",
        "df[\"no_of_passenger\"]=np.where(df[\"no_of_passenger\"]<low_pass,low_pass,df[\"no_of_passenger\"])\n",
        "df[\"no_of_passenger\"]=np.where(df[\"no_of_passenger\"]>high_pass,high_pass,df[\"no_of_passenger\"])\n",
        "\n",
        "df.boxplot([\"no_of_passenger\"])"
      ]
    },
    {
      "cell_type": "code",
      "execution_count": 264,
      "metadata": {
        "id": "Rgu1PVJ3QCK4",
        "colab": {
          "base_uri": "https://localhost:8080/",
          "height": 447
        },
        "outputId": "c69d5238-482f-4edb-ee2f-786c2a9a7b87"
      },
      "outputs": [
        {
          "output_type": "execute_result",
          "data": {
            "text/plain": [
              "<Axes: >"
            ]
          },
          "metadata": {},
          "execution_count": 264
        },
        {
          "output_type": "display_data",
          "data": {
            "text/plain": [
              "<Figure size 640x480 with 1 Axes>"
            ],
            "image/png": "[encoded data removed]"
          },
          "metadata": {}
        }
      ],
      "source": [
        "#Removing Outliers from 'amount' column\n",
        "\n",
        "\n",
        "low_amt,high_amt=remove_outlier(df[\"amount\"])\n",
        "df[\"amount\"]=np.where(df[\"amount\"]<low_amt,low_amt,df[\"amount\"])\n",
        "df[\"amount\"]=np.where(df[\"amount\"]>high_amt,high_amt,df[\"amount\"])\n",
        "\n",
        "df.boxplot([\"amount\"])"
      ]
    },
    {
      "cell_type": "markdown",
      "metadata": {
        "id": "ikI8QDLXQLTZ"
      },
      "source": [
        "- Encoding\n",
        "\n",
        "It is used to represent categorical variables as numerical values, specifically for ordinal variables where the categories have an inherent order. The encoding works by creating a binary representation of each category and concatenating the binary values to form a new numerical variable."
      ]
    },
    {
      "cell_type": "code",
      "execution_count": 265,
      "metadata": {
        "id": "-bs04CLrHEp9",
        "colab": {
          "base_uri": "https://localhost:8080/"
        },
        "outputId": "e49c4f97-4f18-4f07-a8dc-00ebe548c7ab"
      },
      "outputs": [
        {
          "output_type": "execute_result",
          "data": {
            "text/plain": [
              "amount             float64\n",
              "no_of_passenger    float64\n",
              "dis_miles          float64\n",
              "year                 int64\n",
              "month               object\n",
              "day                  int64\n",
              "day_of_week         object\n",
              "hour                 int64\n",
              "dtype: object"
            ]
          },
          "metadata": {},
          "execution_count": 265
        }
      ],
      "source": [
        "df.dtypes"
      ]
    },
    {
      "cell_type": "code",
      "execution_count": 266,
      "metadata": {
        "id": "8Fm_NgcAQEvT",
        "colab": {
          "base_uri": "https://localhost:8080/"
        },
        "outputId": "4a574ed6-fe1d-4042-9f11-e9cb9d933d1b"
      },
      "outputs": [
        {
          "output_type": "execute_result",
          "data": {
            "text/plain": [
              "amount             float64\n",
              "no_of_passenger    float64\n",
              "dis_miles          float64\n",
              "year                 int64\n",
              "day                  int64\n",
              "hour                 int64\n",
              "day_of_week_Fri      uint8\n",
              "day_of_week_Mon      uint8\n",
              "day_of_week_Sat      uint8\n",
              "day_of_week_Sun      uint8\n",
              "day_of_week_Thu      uint8\n",
              "day_of_week_Tue      uint8\n",
              "day_of_week_Wed      uint8\n",
              "month_Apr            uint8\n",
              "month_Aug            uint8\n",
              "month_Dec            uint8\n",
              "month_Feb            uint8\n",
              "month_Jan            uint8\n",
              "month_Jul            uint8\n",
              "month_Jun            uint8\n",
              "month_Mar            uint8\n",
              "month_May            uint8\n",
              "month_Nov            uint8\n",
              "month_Oct            uint8\n",
              "month_Sep            uint8\n",
              "dtype: object"
            ]
          },
          "metadata": {},
          "execution_count": 266
        }
      ],
      "source": [
        "# One hot encoding\n",
        "df=pd.get_dummies(df,columns=['day_of_week','month'])\n",
        "df.dtypes"
      ]
    },
    {
      "cell_type": "markdown",
      "metadata": {
        "id": "t9zM2r2YJAfr"
      },
      "source": [
        " One hot encoding is a technique that we use to represent categorical variables as numerical values.\n",
        "\n",
        " Thus, we have all numerical type column and modelling can be done."
      ]
    },
    {
      "cell_type": "markdown",
      "metadata": {
        "id": "tCEChL9LJaIa"
      },
      "source": [
        "\n",
        "\n",
        "---\n",
        "# Regression Models\n",
        "\n",
        "A regression model provides a function that describes the relationship between one or more independent variables and a response or dependent variable. \n"
      ]
    },
    {
      "cell_type": "markdown",
      "metadata": {
        "id": "FMP5bN6ZJgfW"
      },
      "source": [
        "-Spliting the data into test and train."
      ]
    },
    {
      "cell_type": "code",
      "execution_count": 267,
      "metadata": {
        "id": "S9OVvRTCIxFV",
        "colab": {
          "base_uri": "https://localhost:8080/"
        },
        "outputId": "d3a4ac9c-a13f-4343-c536-7751cbf3bc98"
      },
      "outputs": [
        {
          "output_type": "stream",
          "name": "stdout",
          "text": [
            "Size of train datset: \n",
            " (34878, 24) \n",
            " (34878, 1)\n",
            "Size of train datset: \n",
            " (14948, 24) \n",
            " (14948, 1)\n"
          ]
        }
      ],
      "source": [
        "X=df.drop([\"amount\"],axis=1)  #except the amount column all others columns are Independent variables\n",
        "\n",
        "y=df[[\"amount\"]]  ##Dependent Variable Y=amount\n",
        "\n",
        "#Spliting the data into ratio tran:test = 70:30\n",
        "x_train,x_test,y_train,y_test= train_test_split(X,y,test_size=0.30,random_state=1)\n",
        "\n",
        "print('Size of train datset: \\n',x_train.shape,'\\n', y_train.shape)\n",
        "print('Size of train datset: \\n',x_test.shape,'\\n', y_test.shape)"
      ]
    },
    {
      "cell_type": "markdown",
      "metadata": {
        "id": "6BAR0mudKrfU"
      },
      "source": [
        "1. Linear Regression\n",
        "\n",
        "Linear regression is a type of machine-learning algorithm more specifically a supervised machine-learning algorithm that learns from the labeled datasets and maps the data points to the most optimized linear functions."
      ]
    },
    {
      "cell_type": "code",
      "execution_count": 268,
      "metadata": {
        "id": "Gl7qBtTDJrav",
        "colab": {
          "base_uri": "https://localhost:8080/",
          "height": 74
        },
        "outputId": "b35a431c-37fd-4dfa-e084-41bb651bd944"
      },
      "outputs": [
        {
          "output_type": "execute_result",
          "data": {
            "text/plain": [
              "LinearRegression()"
            ],
            "text/html": [
              "<style>#sk-container-id-57 {color: black;background-color: white;}#sk-container-id-57 pre{padding: 0;}#sk-container-id-57 div.sk-toggleable {background-color: white;}#sk-container-id-57 label.sk-toggleable__label {cursor: pointer;display: block;width: 100%;margin-bottom: 0;padding: 0.3em;box-sizing: border-box;text-align: center;}#sk-container-id-57 label.sk-toggleable__label-arrow:before {content: \"▸\";float: left;margin-right: 0.25em;color: #696969;}#sk-container-id-57 label.sk-toggleable__label-arrow:hover:before {color: black;}#sk-container-id-57 div.sk-estimator:hover label.sk-toggleable__label-arrow:before {color: black;}#sk-container-id-57 div.sk-toggleable__content {max-height: 0;max-width: 0;overflow: hidden;text-align: left;background-color: #f0f8ff;}#sk-container-id-57 div.sk-toggleable__content pre {margin: 0.2em;color: black;border-radius: 0.25em;background-color: #f0f8ff;}#sk-container-id-57 input.sk-toggleable__control:checked~div.sk-toggleable__content {max-height: 200px;max-width: 100%;overflow: auto;}#sk-container-id-57 input.sk-toggleable__control:checked~label.sk-toggleable__label-arrow:before {content: \"▾\";}#sk-container-id-57 div.sk-estimator input.sk-toggleable__control:checked~label.sk-toggleable__label {background-color: #d4ebff;}#sk-container-id-57 div.sk-label input.sk-toggleable__control:checked~label.sk-toggleable__label {background-color: #d4ebff;}#sk-container-id-57 input.sk-hidden--visually {border: 0;clip: rect(1px 1px 1px 1px);clip: rect(1px, 1px, 1px, 1px);height: 1px;margin: -1px;overflow: hidden;padding: 0;position: absolute;width: 1px;}#sk-container-id-57 div.sk-estimator {font-family: monospace;background-color: #f0f8ff;border: 1px dotted black;border-radius: 0.25em;box-sizing: border-box;margin-bottom: 0.5em;}#sk-container-id-57 div.sk-estimator:hover {background-color: #d4ebff;}#sk-container-id-57 div.sk-parallel-item::after {content: \"\";width: 100%;border-bottom: 1px solid gray;flex-grow: 1;}#sk-container-id-57 div.sk-label:hover label.sk-toggleable__label {background-color: #d4ebff;}#sk-container-id-57 div.sk-serial::before {content: \"\";position: absolute;border-left: 1px solid gray;box-sizing: border-box;top: 0;bottom: 0;left: 50%;z-index: 0;}#sk-container-id-57 div.sk-serial {display: flex;flex-direction: column;align-items: center;background-color: white;padding-right: 0.2em;padding-left: 0.2em;position: relative;}#sk-container-id-57 div.sk-item {position: relative;z-index: 1;}#sk-container-id-57 div.sk-parallel {display: flex;align-items: stretch;justify-content: center;background-color: white;position: relative;}#sk-container-id-57 div.sk-item::before, #sk-container-id-57 div.sk-parallel-item::before {content: \"\";position: absolute;border-left: 1px solid gray;box-sizing: border-box;top: 0;bottom: 0;left: 50%;z-index: -1;}#sk-container-id-57 div.sk-parallel-item {display: flex;flex-direction: column;z-index: 1;position: relative;background-color: white;}#sk-container-id-57 div.sk-parallel-item:first-child::after {align-self: flex-end;width: 50%;}#sk-container-id-57 div.sk-parallel-item:last-child::after {align-self: flex-start;width: 50%;}#sk-container-id-57 div.sk-parallel-item:only-child::after {width: 0;}#sk-container-id-57 div.sk-dashed-wrapped {border: 1px dashed gray;margin: 0 0.4em 0.5em 0.4em;box-sizing: border-box;padding-bottom: 0.4em;background-color: white;}#sk-container-id-57 div.sk-label label {font-family: monospace;font-weight: bold;display: inline-block;line-height: 1.2em;}#sk-container-id-57 div.sk-label-container {text-align: center;}#sk-container-id-57 div.sk-container {/* jupyter's `normalize.less` sets `[hidden] { display: none; }` but bootstrap.min.css set `[hidden] { display: none !important; }` so we also need the `!important` here to be able to override the default hidden behavior on the sphinx rendered scikit-learn.org. See: https://github.com/scikit-learn/scikit-learn/issues/21755 */display: inline-block !important;position: relative;}#sk-container-id-57 div.sk-text-repr-fallback {display: none;}</style><div id=\"sk-container-id-57\" class=\"sk-top-container\"><div class=\"sk-text-repr-fallback\"><pre>LinearRegression()</pre><b>In a Jupyter environment, please rerun this cell to show the HTML representation or trust the notebook. <br />On GitHub, the HTML representation is unable to render, please try loading this page with nbviewer.org.</b></div><div class=\"sk-container\" hidden><div class=\"sk-item\"><div class=\"sk-estimator sk-toggleable\"><input class=\"sk-toggleable__control sk-hidden--visually\" id=\"sk-estimator-id-63\" type=\"checkbox\" checked><label for=\"sk-estimator-id-63\" class=\"sk-toggleable__label sk-toggleable__label-arrow\">LinearRegression</label><div class=\"sk-toggleable__content\"><pre>LinearRegression()</pre></div></div></div></div></div>"
            ]
          },
          "metadata": {},
          "execution_count": 268
        }
      ],
      "source": [
        "model_1=LinearRegression()\n",
        "model_1.fit(x_train,y_train)"
      ]
    },
    {
      "cell_type": "code",
      "execution_count": 269,
      "metadata": {
        "id": "yv8EgK5MKBKj",
        "colab": {
          "base_uri": "https://localhost:8080/"
        },
        "outputId": "48b19a7c-b51a-464a-df7f-bee9341031ed"
      },
      "outputs": [
        {
          "output_type": "stream",
          "name": "stdout",
          "text": [
            "Training Dataset Score:  0.7304296703353002\n"
          ]
        }
      ],
      "source": [
        "print(\"Training Dataset Score: \",model_1.score(x_train,y_train))"
      ]
    },
    {
      "cell_type": "code",
      "execution_count": 270,
      "metadata": {
        "id": "Ayy_vx6YKF4F",
        "colab": {
          "base_uri": "https://localhost:8080/"
        },
        "outputId": "467e7f03-e236-4e99-a293-81e0965068ea"
      },
      "outputs": [
        {
          "output_type": "stream",
          "name": "stdout",
          "text": [
            "Test Dataset Score:  0.7303043603056986\n"
          ]
        }
      ],
      "source": [
        "print(\"Test Dataset Score: \",model_1.score(x_test,y_test))"
      ]
    },
    {
      "cell_type": "markdown",
      "metadata": {
        "id": "Tujk44poKueB"
      },
      "source": [
        "- Standardisation of the data: \n",
        "\n",
        "Standardization or Z-Score Normalization is the transformation of features by subtracting from mean and dividing by standard deviation. This is often called as Z-score.\n",
        "\n",
        "It is used when we want to ensure zero mean and unit standard deviation."
      ]
    },
    {
      "cell_type": "code",
      "execution_count": 271,
      "metadata": {
        "id": "T6IRY1yUUCkE"
      },
      "outputs": [],
      "source": [
        "from scipy.stats import zscore"
      ]
    },
    {
      "cell_type": "markdown",
      "source": [
        "-Z-score is measured in terms of standard deviations from the mean. If a Z-score is 0, it indicates that the data point's score is identical to the mean score."
      ],
      "metadata": {
        "id": "twlpcF__uvM-"
      }
    },
    {
      "cell_type": "code",
      "execution_count": 272,
      "metadata": {
        "id": "QW3iGUnqKaU_",
        "colab": {
          "base_uri": "https://localhost:8080/",
          "height": 480
        },
        "outputId": "beeee802-50b5-4830-c9b5-28f872a63bb0"
      },
      "outputs": [
        {
          "output_type": "execute_result",
          "data": {
            "text/plain": [
              "       no_of_passenger     dis_miles          year           day  \\\n",
              "count     4.982600e+04  4.982600e+04  4.982600e+04  4.982600e+04   \n",
              "mean      1.273461e-16  4.235363e-17 -3.217179e-14  3.066003e-18   \n",
              "std       1.000010e+00  1.000010e+00  1.000010e+00  1.000010e+00   \n",
              "min      -5.892023e-01 -1.281025e+00 -1.469109e+00 -1.694048e+00   \n",
              "25%      -5.892023e-01 -7.348376e-01 -9.329645e-01 -8.858147e-01   \n",
              "50%      -5.892023e-01 -3.341081e-01  1.393249e-01  3.788096e-02   \n",
              "75%       5.668588e-01  4.592327e-01  6.754696e-01  8.461147e-01   \n",
              "max       2.300950e+00  2.250338e+00  1.747759e+00  1.769810e+00   \n",
              "\n",
              "               hour  day_of_week_Fri  day_of_week_Mon  day_of_week_Sat  \\\n",
              "count  4.982600e+04     4.982600e+04     4.982600e+04     4.982600e+04   \n",
              "mean  -8.727414e-17    -3.992935e-18     2.053509e-17    -9.126708e-18   \n",
              "std    1.000010e+00     1.000010e+00     1.000010e+00     1.000010e+00   \n",
              "min   -2.072337e+00    -4.254301e-01    -3.914326e-01    -4.244756e-01   \n",
              "25%   -6.895250e-01    -4.254301e-01    -3.914326e-01    -4.244756e-01   \n",
              "50%    7.870391e-02    -4.254301e-01    -3.914326e-01    -4.244756e-01   \n",
              "75%    8.469328e-01    -4.254301e-01    -3.914326e-01    -4.244756e-01   \n",
              "max    1.461516e+00     2.350562e+00     2.554718e+00     2.355848e+00   \n",
              "\n",
              "       day_of_week_Sun  day_of_week_Thu  ...     month_Dec     month_Feb  \\\n",
              "count     4.982600e+04     4.982600e+04  ...  4.982600e+04  4.982600e+04   \n",
              "mean     -4.278144e-18    -4.584745e-17  ...  4.777261e-17  5.454634e-17   \n",
              "std       1.000010e+00     1.000010e+00  ...  1.000010e+00  1.000010e+00   \n",
              "min      -3.872283e-01    -4.169748e-01  ... -2.954834e-01 -3.066251e-01   \n",
              "25%      -3.872283e-01    -4.169748e-01  ... -2.954834e-01 -3.066251e-01   \n",
              "50%      -3.872283e-01    -4.169748e-01  ... -2.954834e-01 -3.066251e-01   \n",
              "75%      -3.872283e-01    -4.169748e-01  ... -2.954834e-01 -3.066251e-01   \n",
              "max       2.582456e+00     2.398227e+00  ...  3.384285e+00  3.261311e+00   \n",
              "\n",
              "          month_Jan     month_Jul     month_Jun     month_Mar     month_May  \\\n",
              "count  4.982600e+04  4.982600e+04  4.982600e+04  4.982600e+04  4.982600e+04   \n",
              "mean  -3.058873e-17  1.176490e-17 -5.105252e-17 -2.509845e-17  4.449270e-17   \n",
              "std    1.000010e+00  1.000010e+00  1.000010e+00  1.000010e+00  1.000010e+00   \n",
              "min   -3.160497e-01 -2.809007e-01 -3.152809e-01 -3.206380e-01 -3.188077e-01   \n",
              "25%   -3.160497e-01 -2.809007e-01 -3.152809e-01 -3.206380e-01 -3.188077e-01   \n",
              "50%   -3.160497e-01 -2.809007e-01 -3.152809e-01 -3.206380e-01 -3.188077e-01   \n",
              "75%   -3.160497e-01 -2.809007e-01 -3.152809e-01 -3.206380e-01 -3.188077e-01   \n",
              "max    3.164059e+00  3.559977e+00  3.171775e+00  3.118782e+00  3.136687e+00   \n",
              "\n",
              "          month_Nov     month_Oct     month_Sep  \n",
              "count  4.982600e+04  4.982600e+04  4.982600e+04  \n",
              "mean   6.303133e-17 -8.691763e-17  2.395761e-17  \n",
              "std    1.000010e+00  1.000010e+00  1.000010e+00  \n",
              "min   -2.853668e-01 -2.969664e-01 -2.874589e-01  \n",
              "25%   -2.853668e-01 -2.969664e-01 -2.874589e-01  \n",
              "50%   -2.853668e-01 -2.969664e-01 -2.874589e-01  \n",
              "75%   -2.853668e-01 -2.969664e-01 -2.874589e-01  \n",
              "max    3.504262e+00  3.367384e+00  3.478759e+00  \n",
              "\n",
              "[8 rows x 24 columns]"
            ],
            "text/html": [
              "\n",
              "  <div id=\"df-c0957311-a14a-4fb2-aef8-fbeca00462b2\">\n",
              "    <div class=\"colab-df-container\">\n",
              "      <div>\n",
              "<style scoped>\n",
              "    .dataframe tbody tr th:only-of-type {\n",
              "        vertical-align: middle;\n",
              "    }\n",
              "\n",
              "    .dataframe tbody tr th {\n",
              "        vertical-align: top;\n",
              "    }\n",
              "\n",
              "    .dataframe thead th {\n",
              "        text-align: right;\n",
              "    }\n",
              "</style>\n",
              "<table border=\"1\" class=\"dataframe\">\n",
              "  <thead>\n",
              "    <tr style=\"text-align: right;\">\n",
              "      <th></th>\n",
              "      <th>no_of_passenger</th>\n",
              "      <th>dis_miles</th>\n",
              "      <th>year</th>\n",
              "      <th>day</th>\n",
              "      <th>hour</th>\n",
              "      <th>day_of_week_Fri</th>\n",
              "      <th>day_of_week_Mon</th>\n",
              "      <th>day_of_week_Sat</th>\n",
              "      <th>day_of_week_Sun</th>\n",
              "      <th>day_of_week_Thu</th>\n",
              "      <th>...</th>\n",
              "      <th>month_Dec</th>\n",
              "      <th>month_Feb</th>\n",
              "      <th>month_Jan</th>\n",
              "      <th>month_Jul</th>\n",
              "      <th>month_Jun</th>\n",
              "      <th>month_Mar</th>\n",
              "      <th>month_May</th>\n",
              "      <th>month_Nov</th>\n",
              "      <th>month_Oct</th>\n",
              "      <th>month_Sep</th>\n",
              "    </tr>\n",
              "  </thead>\n",
              "  <tbody>\n",
              "    <tr>\n",
              "      <th>count</th>\n",
              "      <td>4.982600e+04</td>\n",
              "      <td>4.982600e+04</td>\n",
              "      <td>4.982600e+04</td>\n",
              "      <td>4.982600e+04</td>\n",
              "      <td>4.982600e+04</td>\n",
              "      <td>4.982600e+04</td>\n",
              "      <td>4.982600e+04</td>\n",
              "      <td>4.982600e+04</td>\n",
              "      <td>4.982600e+04</td>\n",
              "      <td>4.982600e+04</td>\n",
              "      <td>...</td>\n",
              "      <td>4.982600e+04</td>\n",
              "      <td>4.982600e+04</td>\n",
              "      <td>4.982600e+04</td>\n",
              "      <td>4.982600e+04</td>\n",
              "      <td>4.982600e+04</td>\n",
              "      <td>4.982600e+04</td>\n",
              "      <td>4.982600e+04</td>\n",
              "      <td>4.982600e+04</td>\n",
              "      <td>4.982600e+04</td>\n",
              "      <td>4.982600e+04</td>\n",
              "    </tr>\n",
              "    <tr>\n",
              "      <th>mean</th>\n",
              "      <td>1.273461e-16</td>\n",
              "      <td>4.235363e-17</td>\n",
              "      <td>-3.217179e-14</td>\n",
              "      <td>3.066003e-18</td>\n",
              "      <td>-8.727414e-17</td>\n",
              "      <td>-3.992935e-18</td>\n",
              "      <td>2.053509e-17</td>\n",
              "      <td>-9.126708e-18</td>\n",
              "      <td>-4.278144e-18</td>\n",
              "      <td>-4.584745e-17</td>\n",
              "      <td>...</td>\n",
              "      <td>4.777261e-17</td>\n",
              "      <td>5.454634e-17</td>\n",
              "      <td>-3.058873e-17</td>\n",
              "      <td>1.176490e-17</td>\n",
              "      <td>-5.105252e-17</td>\n",
              "      <td>-2.509845e-17</td>\n",
              "      <td>4.449270e-17</td>\n",
              "      <td>6.303133e-17</td>\n",
              "      <td>-8.691763e-17</td>\n",
              "      <td>2.395761e-17</td>\n",
              "    </tr>\n",
              "    <tr>\n",
              "      <th>std</th>\n",
              "      <td>1.000010e+00</td>\n",
              "      <td>1.000010e+00</td>\n",
              "      <td>1.000010e+00</td>\n",
              "      <td>1.000010e+00</td>\n",
              "      <td>1.000010e+00</td>\n",
              "      <td>1.000010e+00</td>\n",
              "      <td>1.000010e+00</td>\n",
              "      <td>1.000010e+00</td>\n",
              "      <td>1.000010e+00</td>\n",
              "      <td>1.000010e+00</td>\n",
              "      <td>...</td>\n",
              "      <td>1.000010e+00</td>\n",
              "      <td>1.000010e+00</td>\n",
              "      <td>1.000010e+00</td>\n",
              "      <td>1.000010e+00</td>\n",
              "      <td>1.000010e+00</td>\n",
              "      <td>1.000010e+00</td>\n",
              "      <td>1.000010e+00</td>\n",
              "      <td>1.000010e+00</td>\n",
              "      <td>1.000010e+00</td>\n",
              "      <td>1.000010e+00</td>\n",
              "    </tr>\n",
              "    <tr>\n",
              "      <th>min</th>\n",
              "      <td>-5.892023e-01</td>\n",
              "      <td>-1.281025e+00</td>\n",
              "      <td>-1.469109e+00</td>\n",
              "      <td>-1.694048e+00</td>\n",
              "      <td>-2.072337e+00</td>\n",
              "      <td>-4.254301e-01</td>\n",
              "      <td>-3.914326e-01</td>\n",
              "      <td>-4.244756e-01</td>\n",
              "      <td>-3.872283e-01</td>\n",
              "      <td>-4.169748e-01</td>\n",
              "      <td>...</td>\n",
              "      <td>-2.954834e-01</td>\n",
              "      <td>-3.066251e-01</td>\n",
              "      <td>-3.160497e-01</td>\n",
              "      <td>-2.809007e-01</td>\n",
              "      <td>-3.152809e-01</td>\n",
              "      <td>-3.206380e-01</td>\n",
              "      <td>-3.188077e-01</td>\n",
              "      <td>-2.853668e-01</td>\n",
              "      <td>-2.969664e-01</td>\n",
              "      <td>-2.874589e-01</td>\n",
              "    </tr>\n",
              "    <tr>\n",
              "      <th>25%</th>\n",
              "      <td>-5.892023e-01</td>\n",
              "      <td>-7.348376e-01</td>\n",
              "      <td>-9.329645e-01</td>\n",
              "      <td>-8.858147e-01</td>\n",
              "      <td>-6.895250e-01</td>\n",
              "      <td>-4.254301e-01</td>\n",
              "      <td>-3.914326e-01</td>\n",
              "      <td>-4.244756e-01</td>\n",
              "      <td>-3.872283e-01</td>\n",
              "      <td>-4.169748e-01</td>\n",
              "      <td>...</td>\n",
              "      <td>-2.954834e-01</td>\n",
              "      <td>-3.066251e-01</td>\n",
              "      <td>-3.160497e-01</td>\n",
              "      <td>-2.809007e-01</td>\n",
              "      <td>-3.152809e-01</td>\n",
              "      <td>-3.206380e-01</td>\n",
              "      <td>-3.188077e-01</td>\n",
              "      <td>-2.853668e-01</td>\n",
              "      <td>-2.969664e-01</td>\n",
              "      <td>-2.874589e-01</td>\n",
              "    </tr>\n",
              "    <tr>\n",
              "      <th>50%</th>\n",
              "      <td>-5.892023e-01</td>\n",
              "      <td>-3.341081e-01</td>\n",
              "      <td>1.393249e-01</td>\n",
              "      <td>3.788096e-02</td>\n",
              "      <td>7.870391e-02</td>\n",
              "      <td>-4.254301e-01</td>\n",
              "      <td>-3.914326e-01</td>\n",
              "      <td>-4.244756e-01</td>\n",
              "      <td>-3.872283e-01</td>\n",
              "      <td>-4.169748e-01</td>\n",
              "      <td>...</td>\n",
              "      <td>-2.954834e-01</td>\n",
              "      <td>-3.066251e-01</td>\n",
              "      <td>-3.160497e-01</td>\n",
              "      <td>-2.809007e-01</td>\n",
              "      <td>-3.152809e-01</td>\n",
              "      <td>-3.206380e-01</td>\n",
              "      <td>-3.188077e-01</td>\n",
              "      <td>-2.853668e-01</td>\n",
              "      <td>-2.969664e-01</td>\n",
              "      <td>-2.874589e-01</td>\n",
              "    </tr>\n",
              "    <tr>\n",
              "      <th>75%</th>\n",
              "      <td>5.668588e-01</td>\n",
              "      <td>4.592327e-01</td>\n",
              "      <td>6.754696e-01</td>\n",
              "      <td>8.461147e-01</td>\n",
              "      <td>8.469328e-01</td>\n",
              "      <td>-4.254301e-01</td>\n",
              "      <td>-3.914326e-01</td>\n",
              "      <td>-4.244756e-01</td>\n",
              "      <td>-3.872283e-01</td>\n",
              "      <td>-4.169748e-01</td>\n",
              "      <td>...</td>\n",
              "      <td>-2.954834e-01</td>\n",
              "      <td>-3.066251e-01</td>\n",
              "      <td>-3.160497e-01</td>\n",
              "      <td>-2.809007e-01</td>\n",
              "      <td>-3.152809e-01</td>\n",
              "      <td>-3.206380e-01</td>\n",
              "      <td>-3.188077e-01</td>\n",
              "      <td>-2.853668e-01</td>\n",
              "      <td>-2.969664e-01</td>\n",
              "      <td>-2.874589e-01</td>\n",
              "    </tr>\n",
              "    <tr>\n",
              "      <th>max</th>\n",
              "      <td>2.300950e+00</td>\n",
              "      <td>2.250338e+00</td>\n",
              "      <td>1.747759e+00</td>\n",
              "      <td>1.769810e+00</td>\n",
              "      <td>1.461516e+00</td>\n",
              "      <td>2.350562e+00</td>\n",
              "      <td>2.554718e+00</td>\n",
              "      <td>2.355848e+00</td>\n",
              "      <td>2.582456e+00</td>\n",
              "      <td>2.398227e+00</td>\n",
              "      <td>...</td>\n",
              "      <td>3.384285e+00</td>\n",
              "      <td>3.261311e+00</td>\n",
              "      <td>3.164059e+00</td>\n",
              "      <td>3.559977e+00</td>\n",
              "      <td>3.171775e+00</td>\n",
              "      <td>3.118782e+00</td>\n",
              "      <td>3.136687e+00</td>\n",
              "      <td>3.504262e+00</td>\n",
              "      <td>3.367384e+00</td>\n",
              "      <td>3.478759e+00</td>\n",
              "    </tr>\n",
              "  </tbody>\n",
              "</table>\n",
              "<p>8 rows × 24 columns</p>\n",
              "</div>\n",
              "      <button class=\"colab-df-convert\" onclick=\"convertToInteractive('df-c0957311-a14a-4fb2-aef8-fbeca00462b2')\"\n",
              "              title=\"Convert this dataframe to an interactive table.\"\n",
              "              style=\"display:none;\">\n",
              "        \n",
              "  <svg xmlns=\"http://www.w3.org/2000/svg\" height=\"24px\"viewBox=\"0 0 24 24\"\n",
              "       width=\"24px\">\n",
              "    <path d=\"M0 0h24v24H0V0z\" fill=\"none\"/>\n",
              "    <path d=\"M18.56 5.44l.94 2.06.94-2.06 2.06-.94-2.06-.94-.94-2.06-.94 2.06-2.06.94zm-11 1L8.5 8.5l.94-2.06 2.06-.94-2.06-.94L8.5 2.5l-.94 2.06-2.06.94zm10 10l.94 2.06.94-2.06 2.06-.94-2.06-.94-.94-2.06-.94 2.06-2.06.94z\"/><path d=\"M17.41 7.96l-1.37-1.37c-.4-.4-.92-.59-1.43-.59-.52 0-1.04.2-1.43.59L10.3 9.45l-7.72 7.72c-.78.78-.78 2.05 0 2.83L4 21.41c.39.39.9.59 1.41.59.51 0 1.02-.2 1.41-.59l7.78-7.78 2.81-2.81c.8-.78.8-2.07 0-2.86zM5.41 20L4 18.59l7.72-7.72 1.47 1.35L5.41 20z\"/>\n",
              "  </svg>\n",
              "      </button>\n",
              "      \n",
              "  <style>\n",
              "    .colab-df-container {\n",
              "      display:flex;\n",
              "      flex-wrap:wrap;\n",
              "      gap: 12px;\n",
              "    }\n",
              "\n",
              "    .colab-df-convert {\n",
              "      background-color: #E8F0FE;\n",
              "      border: none;\n",
              "      border-radius: 50%;\n",
              "      cursor: pointer;\n",
              "      display: none;\n",
              "      fill: #1967D2;\n",
              "      height: 32px;\n",
              "      padding: 0 0 0 0;\n",
              "      width: 32px;\n",
              "    }\n",
              "\n",
              "    .colab-df-convert:hover {\n",
              "      background-color: #E2EBFA;\n",
              "      box-shadow: 0px 1px 2px rgba(60, 64, 67, 0.3), 0px 1px 3px 1px rgba(60, 64, 67, 0.15);\n",
              "      fill: #174EA6;\n",
              "    }\n",
              "\n",
              "    [theme=dark] .colab-df-convert {\n",
              "      background-color: #3B4455;\n",
              "      fill: #D2E3FC;\n",
              "    }\n",
              "\n",
              "    [theme=dark] .colab-df-convert:hover {\n",
              "      background-color: #434B5C;\n",
              "      box-shadow: 0px 1px 3px 1px rgba(0, 0, 0, 0.15);\n",
              "      filter: drop-shadow(0px 1px 2px rgba(0, 0, 0, 0.3));\n",
              "      fill: #FFFFFF;\n",
              "    }\n",
              "  </style>\n",
              "\n",
              "      <script>\n",
              "        const buttonEl =\n",
              "          document.querySelector('#df-c0957311-a14a-4fb2-aef8-fbeca00462b2 button.colab-df-convert');\n",
              "        buttonEl.style.display =\n",
              "          google.colab.kernel.accessAllowed ? 'block' : 'none';\n",
              "\n",
              "        async function convertToInteractive(key) {\n",
              "          const element = document.querySelector('#df-c0957311-a14a-4fb2-aef8-fbeca00462b2');\n",
              "          const dataTable =\n",
              "            await google.colab.kernel.invokeFunction('convertToInteractive',\n",
              "                                                     [key], {});\n",
              "          if (!dataTable) return;\n",
              "\n",
              "          const docLinkHtml = 'Like what you see? Visit the ' +\n",
              "            '<a target=\"_blank\" href=https://colab.research.google.com/notebooks/data_table.ipynb>data table notebook</a>'\n",
              "            + ' to learn more about interactive tables.';\n",
              "          element.innerHTML = '';\n",
              "          dataTable['output_type'] = 'display_data';\n",
              "          await google.colab.output.renderOutput(dataTable, element);\n",
              "          const docLink = document.createElement('div');\n",
              "          docLink.innerHTML = docLinkHtml;\n",
              "          element.appendChild(docLink);\n",
              "        }\n",
              "      </script>\n",
              "    </div>\n",
              "  </div>\n",
              "  "
            ]
          },
          "metadata": {},
          "execution_count": 272
        }
      ],
      "source": [
        "xscaled_1=X.apply(zscore)\n",
        "xscaled_1.describe()"
      ]
    },
    {
      "cell_type": "code",
      "execution_count": 273,
      "metadata": {
        "id": "PFyEAzilLSwH"
      },
      "outputs": [],
      "source": [
        "x_trainS,x_testS,y_train,y_test= train_test_split(xscaled_1,y,test_size=0.30,random_state=1)"
      ]
    },
    {
      "cell_type": "markdown",
      "metadata": {
        "id": "gfeMZLHJdE4n"
      },
      "source": [
        "\n",
        "\n",
        "---\n",
        "\n"
      ]
    },
    {
      "cell_type": "markdown",
      "metadata": {
        "id": "WTb9H1bndHW3"
      },
      "source": [
        "- Standardised Linear Regression"
      ]
    },
    {
      "cell_type": "code",
      "execution_count": 274,
      "metadata": {
        "id": "gF0FLHKNVYc9",
        "colab": {
          "base_uri": "https://localhost:8080/",
          "height": 74
        },
        "outputId": "4ac4fa25-97e6-45f2-fce3-1d75c30317a2"
      },
      "outputs": [
        {
          "output_type": "execute_result",
          "data": {
            "text/plain": [
              "LinearRegression()"
            ],
            "text/html": [
              "<style>#sk-container-id-58 {color: black;background-color: white;}#sk-container-id-58 pre{padding: 0;}#sk-container-id-58 div.sk-toggleable {background-color: white;}#sk-container-id-58 label.sk-toggleable__label {cursor: pointer;display: block;width: 100%;margin-bottom: 0;padding: 0.3em;box-sizing: border-box;text-align: center;}#sk-container-id-58 label.sk-toggleable__label-arrow:before {content: \"▸\";float: left;margin-right: 0.25em;color: #696969;}#sk-container-id-58 label.sk-toggleable__label-arrow:hover:before {color: black;}#sk-container-id-58 div.sk-estimator:hover label.sk-toggleable__label-arrow:before {color: black;}#sk-container-id-58 div.sk-toggleable__content {max-height: 0;max-width: 0;overflow: hidden;text-align: left;background-color: #f0f8ff;}#sk-container-id-58 div.sk-toggleable__content pre {margin: 0.2em;color: black;border-radius: 0.25em;background-color: #f0f8ff;}#sk-container-id-58 input.sk-toggleable__control:checked~div.sk-toggleable__content {max-height: 200px;max-width: 100%;overflow: auto;}#sk-container-id-58 input.sk-toggleable__control:checked~label.sk-toggleable__label-arrow:before {content: \"▾\";}#sk-container-id-58 div.sk-estimator input.sk-toggleable__control:checked~label.sk-toggleable__label {background-color: #d4ebff;}#sk-container-id-58 div.sk-label input.sk-toggleable__control:checked~label.sk-toggleable__label {background-color: #d4ebff;}#sk-container-id-58 input.sk-hidden--visually {border: 0;clip: rect(1px 1px 1px 1px);clip: rect(1px, 1px, 1px, 1px);height: 1px;margin: -1px;overflow: hidden;padding: 0;position: absolute;width: 1px;}#sk-container-id-58 div.sk-estimator {font-family: monospace;background-color: #f0f8ff;border: 1px dotted black;border-radius: 0.25em;box-sizing: border-box;margin-bottom: 0.5em;}#sk-container-id-58 div.sk-estimator:hover {background-color: #d4ebff;}#sk-container-id-58 div.sk-parallel-item::after {content: \"\";width: 100%;border-bottom: 1px solid gray;flex-grow: 1;}#sk-container-id-58 div.sk-label:hover label.sk-toggleable__label {background-color: #d4ebff;}#sk-container-id-58 div.sk-serial::before {content: \"\";position: absolute;border-left: 1px solid gray;box-sizing: border-box;top: 0;bottom: 0;left: 50%;z-index: 0;}#sk-container-id-58 div.sk-serial {display: flex;flex-direction: column;align-items: center;background-color: white;padding-right: 0.2em;padding-left: 0.2em;position: relative;}#sk-container-id-58 div.sk-item {position: relative;z-index: 1;}#sk-container-id-58 div.sk-parallel {display: flex;align-items: stretch;justify-content: center;background-color: white;position: relative;}#sk-container-id-58 div.sk-item::before, #sk-container-id-58 div.sk-parallel-item::before {content: \"\";position: absolute;border-left: 1px solid gray;box-sizing: border-box;top: 0;bottom: 0;left: 50%;z-index: -1;}#sk-container-id-58 div.sk-parallel-item {display: flex;flex-direction: column;z-index: 1;position: relative;background-color: white;}#sk-container-id-58 div.sk-parallel-item:first-child::after {align-self: flex-end;width: 50%;}#sk-container-id-58 div.sk-parallel-item:last-child::after {align-self: flex-start;width: 50%;}#sk-container-id-58 div.sk-parallel-item:only-child::after {width: 0;}#sk-container-id-58 div.sk-dashed-wrapped {border: 1px dashed gray;margin: 0 0.4em 0.5em 0.4em;box-sizing: border-box;padding-bottom: 0.4em;background-color: white;}#sk-container-id-58 div.sk-label label {font-family: monospace;font-weight: bold;display: inline-block;line-height: 1.2em;}#sk-container-id-58 div.sk-label-container {text-align: center;}#sk-container-id-58 div.sk-container {/* jupyter's `normalize.less` sets `[hidden] { display: none; }` but bootstrap.min.css set `[hidden] { display: none !important; }` so we also need the `!important` here to be able to override the default hidden behavior on the sphinx rendered scikit-learn.org. See: https://github.com/scikit-learn/scikit-learn/issues/21755 */display: inline-block !important;position: relative;}#sk-container-id-58 div.sk-text-repr-fallback {display: none;}</style><div id=\"sk-container-id-58\" class=\"sk-top-container\"><div class=\"sk-text-repr-fallback\"><pre>LinearRegression()</pre><b>In a Jupyter environment, please rerun this cell to show the HTML representation or trust the notebook. <br />On GitHub, the HTML representation is unable to render, please try loading this page with nbviewer.org.</b></div><div class=\"sk-container\" hidden><div class=\"sk-item\"><div class=\"sk-estimator sk-toggleable\"><input class=\"sk-toggleable__control sk-hidden--visually\" id=\"sk-estimator-id-64\" type=\"checkbox\" checked><label for=\"sk-estimator-id-64\" class=\"sk-toggleable__label sk-toggleable__label-arrow\">LinearRegression</label><div class=\"sk-toggleable__content\"><pre>LinearRegression()</pre></div></div></div></div></div>"
            ]
          },
          "metadata": {},
          "execution_count": 274
        }
      ],
      "source": [
        "model_1s=LinearRegression()\n",
        "model_1s.fit(x_trainS,y_train)"
      ]
    },
    {
      "cell_type": "code",
      "execution_count": 275,
      "metadata": {
        "id": "Mua4SlfoVYZg",
        "colab": {
          "base_uri": "https://localhost:8080/"
        },
        "outputId": "7065233f-f481-4def-fda8-5cccc9aaee34"
      },
      "outputs": [
        {
          "output_type": "stream",
          "name": "stdout",
          "text": [
            "Training Dataset Score:  0.7303803765485524\n"
          ]
        }
      ],
      "source": [
        "print(\"Training Dataset Score: \",model_1s.score(x_trainS,y_train))"
      ]
    },
    {
      "cell_type": "code",
      "execution_count": 369,
      "metadata": {
        "id": "-5fnrg3OdNbQ",
        "colab": {
          "base_uri": "https://localhost:8080/"
        },
        "outputId": "b01956df-d5a1-438c-9ff4-600d99dd9f3f"
      },
      "outputs": [
        {
          "output_type": "stream",
          "name": "stdout",
          "text": [
            "Testining Dataset Score:  0.7303803765485524\n"
          ]
        }
      ],
      "source": [
        "print(\"Testing Dataset Score: \",model_1s.score(x_trainS,y_train))"
      ]
    },
    {
      "cell_type": "markdown",
      "metadata": {
        "id": "hrCsJ9j_NxAe"
      },
      "source": [
        "2. KNN (KNearest Neighbor) Regression\n",
        "\n",
        "KNN regression, intuitively, approximates the association between independent variables and the continuous outcome by averaging the observations in the same neighbourhood."
      ]
    },
    {
      "cell_type": "code",
      "execution_count": 336,
      "metadata": {
        "id": "IaOa0zwbLxxv",
        "colab": {
          "base_uri": "https://localhost:8080/",
          "height": 74
        },
        "outputId": "e8fb1acd-987d-481b-c030-48bf9c4790c0"
      },
      "outputs": [
        {
          "output_type": "execute_result",
          "data": {
            "text/plain": [
              "KNeighborsRegressor(n_neighbors=30)"
            ],
            "text/html": [
              "<style>#sk-container-id-79 {color: black;background-color: white;}#sk-container-id-79 pre{padding: 0;}#sk-container-id-79 div.sk-toggleable {background-color: white;}#sk-container-id-79 label.sk-toggleable__label {cursor: pointer;display: block;width: 100%;margin-bottom: 0;padding: 0.3em;box-sizing: border-box;text-align: center;}#sk-container-id-79 label.sk-toggleable__label-arrow:before {content: \"▸\";float: left;margin-right: 0.25em;color: #696969;}#sk-container-id-79 label.sk-toggleable__label-arrow:hover:before {color: black;}#sk-container-id-79 div.sk-estimator:hover label.sk-toggleable__label-arrow:before {color: black;}#sk-container-id-79 div.sk-toggleable__content {max-height: 0;max-width: 0;overflow: hidden;text-align: left;background-color: #f0f8ff;}#sk-container-id-79 div.sk-toggleable__content pre {margin: 0.2em;color: black;border-radius: 0.25em;background-color: #f0f8ff;}#sk-container-id-79 input.sk-toggleable__control:checked~div.sk-toggleable__content {max-height: 200px;max-width: 100%;overflow: auto;}#sk-container-id-79 input.sk-toggleable__control:checked~label.sk-toggleable__label-arrow:before {content: \"▾\";}#sk-container-id-79 div.sk-estimator input.sk-toggleable__control:checked~label.sk-toggleable__label {background-color: #d4ebff;}#sk-container-id-79 div.sk-label input.sk-toggleable__control:checked~label.sk-toggleable__label {background-color: #d4ebff;}#sk-container-id-79 input.sk-hidden--visually {border: 0;clip: rect(1px 1px 1px 1px);clip: rect(1px, 1px, 1px, 1px);height: 1px;margin: -1px;overflow: hidden;padding: 0;position: absolute;width: 1px;}#sk-container-id-79 div.sk-estimator {font-family: monospace;background-color: #f0f8ff;border: 1px dotted black;border-radius: 0.25em;box-sizing: border-box;margin-bottom: 0.5em;}#sk-container-id-79 div.sk-estimator:hover {background-color: #d4ebff;}#sk-container-id-79 div.sk-parallel-item::after {content: \"\";width: 100%;border-bottom: 1px solid gray;flex-grow: 1;}#sk-container-id-79 div.sk-label:hover label.sk-toggleable__label {background-color: #d4ebff;}#sk-container-id-79 div.sk-serial::before {content: \"\";position: absolute;border-left: 1px solid gray;box-sizing: border-box;top: 0;bottom: 0;left: 50%;z-index: 0;}#sk-container-id-79 div.sk-serial {display: flex;flex-direction: column;align-items: center;background-color: white;padding-right: 0.2em;padding-left: 0.2em;position: relative;}#sk-container-id-79 div.sk-item {position: relative;z-index: 1;}#sk-container-id-79 div.sk-parallel {display: flex;align-items: stretch;justify-content: center;background-color: white;position: relative;}#sk-container-id-79 div.sk-item::before, #sk-container-id-79 div.sk-parallel-item::before {content: \"\";position: absolute;border-left: 1px solid gray;box-sizing: border-box;top: 0;bottom: 0;left: 50%;z-index: -1;}#sk-container-id-79 div.sk-parallel-item {display: flex;flex-direction: column;z-index: 1;position: relative;background-color: white;}#sk-container-id-79 div.sk-parallel-item:first-child::after {align-self: flex-end;width: 50%;}#sk-container-id-79 div.sk-parallel-item:last-child::after {align-self: flex-start;width: 50%;}#sk-container-id-79 div.sk-parallel-item:only-child::after {width: 0;}#sk-container-id-79 div.sk-dashed-wrapped {border: 1px dashed gray;margin: 0 0.4em 0.5em 0.4em;box-sizing: border-box;padding-bottom: 0.4em;background-color: white;}#sk-container-id-79 div.sk-label label {font-family: monospace;font-weight: bold;display: inline-block;line-height: 1.2em;}#sk-container-id-79 div.sk-label-container {text-align: center;}#sk-container-id-79 div.sk-container {/* jupyter's `normalize.less` sets `[hidden] { display: none; }` but bootstrap.min.css set `[hidden] { display: none !important; }` so we also need the `!important` here to be able to override the default hidden behavior on the sphinx rendered scikit-learn.org. See: https://github.com/scikit-learn/scikit-learn/issues/21755 */display: inline-block !important;position: relative;}#sk-container-id-79 div.sk-text-repr-fallback {display: none;}</style><div id=\"sk-container-id-79\" class=\"sk-top-container\"><div class=\"sk-text-repr-fallback\"><pre>KNeighborsRegressor(n_neighbors=30)</pre><b>In a Jupyter environment, please rerun this cell to show the HTML representation or trust the notebook. <br />On GitHub, the HTML representation is unable to render, please try loading this page with nbviewer.org.</b></div><div class=\"sk-container\" hidden><div class=\"sk-item\"><div class=\"sk-estimator sk-toggleable\"><input class=\"sk-toggleable__control sk-hidden--visually\" id=\"sk-estimator-id-87\" type=\"checkbox\" checked><label for=\"sk-estimator-id-87\" class=\"sk-toggleable__label sk-toggleable__label-arrow\">KNeighborsRegressor</label><div class=\"sk-toggleable__content\"><pre>KNeighborsRegressor(n_neighbors=30)</pre></div></div></div></div></div>"
            ]
          },
          "metadata": {},
          "execution_count": 336
        }
      ],
      "source": [
        "model_2=KNeighborsRegressor(n_neighbors=30,weights='uniform',p=2)           # The values assigned to parameter inside the paranthesis reduces OVERFITTING by the model and to get possible score\n",
        "model_2.fit(x_train,y_train)"
      ]
    },
    {
      "cell_type": "code",
      "execution_count": 337,
      "metadata": {
        "id": "Qn-HeuDZR9Q5",
        "colab": {
          "base_uri": "https://localhost:8080/"
        },
        "outputId": "67ac0b58-ec41-439b-d083-4cae39ae5ade"
      },
      "outputs": [
        {
          "output_type": "stream",
          "name": "stdout",
          "text": [
            "Training Dataset Score:  0.7264859542485694\n"
          ]
        }
      ],
      "source": [
        "print(\"Training Dataset Score: \",model_2.score(x_train,y_train))"
      ]
    },
    {
      "cell_type": "code",
      "execution_count": 338,
      "metadata": {
        "id": "eHHggC3fSM8_",
        "colab": {
          "base_uri": "https://localhost:8080/"
        },
        "outputId": "bfd28ed1-db57-480f-92fa-f13a85cd5fdc"
      },
      "outputs": [
        {
          "output_type": "stream",
          "name": "stdout",
          "text": [
            "Test Dataset Score:  0.7082368812307338\n"
          ]
        }
      ],
      "source": [
        "print(\"Test Dataset Score: \",model_2.score(x_test,y_test))"
      ]
    },
    {
      "cell_type": "markdown",
      "metadata": {
        "id": "xmetlB1ygMU4"
      },
      "source": [
        "- KNN Regression with Standardisation"
      ]
    },
    {
      "cell_type": "code",
      "execution_count": 412,
      "metadata": {
        "id": "aQpJ7drxSQSo",
        "colab": {
          "base_uri": "https://localhost:8080/",
          "height": 74
        },
        "outputId": "331d6f88-c6d6-4716-dca9-f98d85d05678"
      },
      "outputs": [
        {
          "output_type": "execute_result",
          "data": {
            "text/plain": [
              "KNeighborsRegressor(n_neighbors=16)"
            ],
            "text/html": [
              "<style>#sk-container-id-104 {color: black;background-color: white;}#sk-container-id-104 pre{padding: 0;}#sk-container-id-104 div.sk-toggleable {background-color: white;}#sk-container-id-104 label.sk-toggleable__label {cursor: pointer;display: block;width: 100%;margin-bottom: 0;padding: 0.3em;box-sizing: border-box;text-align: center;}#sk-container-id-104 label.sk-toggleable__label-arrow:before {content: \"▸\";float: left;margin-right: 0.25em;color: #696969;}#sk-container-id-104 label.sk-toggleable__label-arrow:hover:before {color: black;}#sk-container-id-104 div.sk-estimator:hover label.sk-toggleable__label-arrow:before {color: black;}#sk-container-id-104 div.sk-toggleable__content {max-height: 0;max-width: 0;overflow: hidden;text-align: left;background-color: #f0f8ff;}#sk-container-id-104 div.sk-toggleable__content pre {margin: 0.2em;color: black;border-radius: 0.25em;background-color: #f0f8ff;}#sk-container-id-104 input.sk-toggleable__control:checked~div.sk-toggleable__content {max-height: 200px;max-width: 100%;overflow: auto;}#sk-container-id-104 input.sk-toggleable__control:checked~label.sk-toggleable__label-arrow:before {content: \"▾\";}#sk-container-id-104 div.sk-estimator input.sk-toggleable__control:checked~label.sk-toggleable__label {background-color: #d4ebff;}#sk-container-id-104 div.sk-label input.sk-toggleable__control:checked~label.sk-toggleable__label {background-color: #d4ebff;}#sk-container-id-104 input.sk-hidden--visually {border: 0;clip: rect(1px 1px 1px 1px);clip: rect(1px, 1px, 1px, 1px);height: 1px;margin: -1px;overflow: hidden;padding: 0;position: absolute;width: 1px;}#sk-container-id-104 div.sk-estimator {font-family: monospace;background-color: #f0f8ff;border: 1px dotted black;border-radius: 0.25em;box-sizing: border-box;margin-bottom: 0.5em;}#sk-container-id-104 div.sk-estimator:hover {background-color: #d4ebff;}#sk-container-id-104 div.sk-parallel-item::after {content: \"\";width: 100%;border-bottom: 1px solid gray;flex-grow: 1;}#sk-container-id-104 div.sk-label:hover label.sk-toggleable__label {background-color: #d4ebff;}#sk-container-id-104 div.sk-serial::before {content: \"\";position: absolute;border-left: 1px solid gray;box-sizing: border-box;top: 0;bottom: 0;left: 50%;z-index: 0;}#sk-container-id-104 div.sk-serial {display: flex;flex-direction: column;align-items: center;background-color: white;padding-right: 0.2em;padding-left: 0.2em;position: relative;}#sk-container-id-104 div.sk-item {position: relative;z-index: 1;}#sk-container-id-104 div.sk-parallel {display: flex;align-items: stretch;justify-content: center;background-color: white;position: relative;}#sk-container-id-104 div.sk-item::before, #sk-container-id-104 div.sk-parallel-item::before {content: \"\";position: absolute;border-left: 1px solid gray;box-sizing: border-box;top: 0;bottom: 0;left: 50%;z-index: -1;}#sk-container-id-104 div.sk-parallel-item {display: flex;flex-direction: column;z-index: 1;position: relative;background-color: white;}#sk-container-id-104 div.sk-parallel-item:first-child::after {align-self: flex-end;width: 50%;}#sk-container-id-104 div.sk-parallel-item:last-child::after {align-self: flex-start;width: 50%;}#sk-container-id-104 div.sk-parallel-item:only-child::after {width: 0;}#sk-container-id-104 div.sk-dashed-wrapped {border: 1px dashed gray;margin: 0 0.4em 0.5em 0.4em;box-sizing: border-box;padding-bottom: 0.4em;background-color: white;}#sk-container-id-104 div.sk-label label {font-family: monospace;font-weight: bold;display: inline-block;line-height: 1.2em;}#sk-container-id-104 div.sk-label-container {text-align: center;}#sk-container-id-104 div.sk-container {/* jupyter's `normalize.less` sets `[hidden] { display: none; }` but bootstrap.min.css set `[hidden] { display: none !important; }` so we also need the `!important` here to be able to override the default hidden behavior on the sphinx rendered scikit-learn.org. See: https://github.com/scikit-learn/scikit-learn/issues/21755 */display: inline-block !important;position: relative;}#sk-container-id-104 div.sk-text-repr-fallback {display: none;}</style><div id=\"sk-container-id-104\" class=\"sk-top-container\"><div class=\"sk-text-repr-fallback\"><pre>KNeighborsRegressor(n_neighbors=16)</pre><b>In a Jupyter environment, please rerun this cell to show the HTML representation or trust the notebook. <br />On GitHub, the HTML representation is unable to render, please try loading this page with nbviewer.org.</b></div><div class=\"sk-container\" hidden><div class=\"sk-item\"><div class=\"sk-estimator sk-toggleable\"><input class=\"sk-toggleable__control sk-hidden--visually\" id=\"sk-estimator-id-112\" type=\"checkbox\" checked><label for=\"sk-estimator-id-112\" class=\"sk-toggleable__label sk-toggleable__label-arrow\">KNeighborsRegressor</label><div class=\"sk-toggleable__content\"><pre>KNeighborsRegressor(n_neighbors=16)</pre></div></div></div></div></div>"
            ]
          },
          "metadata": {},
          "execution_count": 412
        }
      ],
      "source": [
        "model_2s=KNeighborsRegressor(n_neighbors=16,weights='uniform')\n",
        "model_2s.fit(x_trainS,y_train)"
      ]
    },
    {
      "cell_type": "code",
      "execution_count": 413,
      "metadata": {
        "id": "eNUJW8YOghxd",
        "colab": {
          "base_uri": "https://localhost:8080/"
        },
        "outputId": "d6f7d3f3-63c7-4a57-ee50-20c169bf5680"
      },
      "outputs": [
        {
          "output_type": "stream",
          "name": "stdout",
          "text": [
            "Training Dataset Score:  0.7158246496920548\n"
          ]
        }
      ],
      "source": [
        "print(\"Training Dataset Score: \",model_2s.score(x_trainS,y_train))"
      ]
    },
    {
      "cell_type": "code",
      "execution_count": 414,
      "metadata": {
        "id": "hEGT8F0Xgkrh",
        "colab": {
          "base_uri": "https://localhost:8080/"
        },
        "outputId": "8e89c11b-652e-42d0-cf5d-0031e6761b0b"
      },
      "outputs": [
        {
          "output_type": "stream",
          "name": "stdout",
          "text": [
            "Test Dataset Score:  0.6756536377043622\n"
          ]
        }
      ],
      "source": [
        "print(\"Test Dataset Score: \",model_2s.score(x_testS,y_test))"
      ]
    },
    {
      "cell_type": "markdown",
      "metadata": {
        "id": "wTosGmWKgpVn"
      },
      "source": [
        "3. SVR (Support Vector Regression)\n",
        "\n",
        "The SVR algorithm aims to find the hyperplane that passes through as many data points as possible within a certain distance, called the margin. This approach helps to reduce the prediction error and allows SVR to handle non-linear relationships between input variables and the target variable using a kernel function."
      ]
    },
    {
      "cell_type": "code",
      "execution_count": 283,
      "metadata": {
        "id": "OULiU1p8hwv9",
        "colab": {
          "base_uri": "https://localhost:8080/",
          "height": 129
        },
        "outputId": "0231ba5d-0186-4bf6-8d1b-220d7e0bc735"
      },
      "outputs": [
        {
          "output_type": "stream",
          "name": "stderr",
          "text": [
            "/usr/local/lib/python3.10/dist-packages/sklearn/utils/validation.py:1143: DataConversionWarning: A column-vector y was passed when a 1d array was expected. Please change the shape of y to (n_samples, ), for example using ravel().\n",
            "  y = column_or_1d(y, warn=True)\n"
          ]
        },
        {
          "output_type": "execute_result",
          "data": {
            "text/plain": [
              "SVR(degree=75, epsilon=2.0, kernel='poly')"
            ],
            "text/html": [
              "<style>#sk-container-id-61 {color: black;background-color: white;}#sk-container-id-61 pre{padding: 0;}#sk-container-id-61 div.sk-toggleable {background-color: white;}#sk-container-id-61 label.sk-toggleable__label {cursor: pointer;display: block;width: 100%;margin-bottom: 0;padding: 0.3em;box-sizing: border-box;text-align: center;}#sk-container-id-61 label.sk-toggleable__label-arrow:before {content: \"▸\";float: left;margin-right: 0.25em;color: #696969;}#sk-container-id-61 label.sk-toggleable__label-arrow:hover:before {color: black;}#sk-container-id-61 div.sk-estimator:hover label.sk-toggleable__label-arrow:before {color: black;}#sk-container-id-61 div.sk-toggleable__content {max-height: 0;max-width: 0;overflow: hidden;text-align: left;background-color: #f0f8ff;}#sk-container-id-61 div.sk-toggleable__content pre {margin: 0.2em;color: black;border-radius: 0.25em;background-color: #f0f8ff;}#sk-container-id-61 input.sk-toggleable__control:checked~div.sk-toggleable__content {max-height: 200px;max-width: 100%;overflow: auto;}#sk-container-id-61 input.sk-toggleable__control:checked~label.sk-toggleable__label-arrow:before {content: \"▾\";}#sk-container-id-61 div.sk-estimator input.sk-toggleable__control:checked~label.sk-toggleable__label {background-color: #d4ebff;}#sk-container-id-61 div.sk-label input.sk-toggleable__control:checked~label.sk-toggleable__label {background-color: #d4ebff;}#sk-container-id-61 input.sk-hidden--visually {border: 0;clip: rect(1px 1px 1px 1px);clip: rect(1px, 1px, 1px, 1px);height: 1px;margin: -1px;overflow: hidden;padding: 0;position: absolute;width: 1px;}#sk-container-id-61 div.sk-estimator {font-family: monospace;background-color: #f0f8ff;border: 1px dotted black;border-radius: 0.25em;box-sizing: border-box;margin-bottom: 0.5em;}#sk-container-id-61 div.sk-estimator:hover {background-color: #d4ebff;}#sk-container-id-61 div.sk-parallel-item::after {content: \"\";width: 100%;border-bottom: 1px solid gray;flex-grow: 1;}#sk-container-id-61 div.sk-label:hover label.sk-toggleable__label {background-color: #d4ebff;}#sk-container-id-61 div.sk-serial::before {content: \"\";position: absolute;border-left: 1px solid gray;box-sizing: border-box;top: 0;bottom: 0;left: 50%;z-index: 0;}#sk-container-id-61 div.sk-serial {display: flex;flex-direction: column;align-items: center;background-color: white;padding-right: 0.2em;padding-left: 0.2em;position: relative;}#sk-container-id-61 div.sk-item {position: relative;z-index: 1;}#sk-container-id-61 div.sk-parallel {display: flex;align-items: stretch;justify-content: center;background-color: white;position: relative;}#sk-container-id-61 div.sk-item::before, #sk-container-id-61 div.sk-parallel-item::before {content: \"\";position: absolute;border-left: 1px solid gray;box-sizing: border-box;top: 0;bottom: 0;left: 50%;z-index: -1;}#sk-container-id-61 div.sk-parallel-item {display: flex;flex-direction: column;z-index: 1;position: relative;background-color: white;}#sk-container-id-61 div.sk-parallel-item:first-child::after {align-self: flex-end;width: 50%;}#sk-container-id-61 div.sk-parallel-item:last-child::after {align-self: flex-start;width: 50%;}#sk-container-id-61 div.sk-parallel-item:only-child::after {width: 0;}#sk-container-id-61 div.sk-dashed-wrapped {border: 1px dashed gray;margin: 0 0.4em 0.5em 0.4em;box-sizing: border-box;padding-bottom: 0.4em;background-color: white;}#sk-container-id-61 div.sk-label label {font-family: monospace;font-weight: bold;display: inline-block;line-height: 1.2em;}#sk-container-id-61 div.sk-label-container {text-align: center;}#sk-container-id-61 div.sk-container {/* jupyter's `normalize.less` sets `[hidden] { display: none; }` but bootstrap.min.css set `[hidden] { display: none !important; }` so we also need the `!important` here to be able to override the default hidden behavior on the sphinx rendered scikit-learn.org. See: https://github.com/scikit-learn/scikit-learn/issues/21755 */display: inline-block !important;position: relative;}#sk-container-id-61 div.sk-text-repr-fallback {display: none;}</style><div id=\"sk-container-id-61\" class=\"sk-top-container\"><div class=\"sk-text-repr-fallback\"><pre>SVR(degree=75, epsilon=2.0, kernel=&#x27;poly&#x27;)</pre><b>In a Jupyter environment, please rerun this cell to show the HTML representation or trust the notebook. <br />On GitHub, the HTML representation is unable to render, please try loading this page with nbviewer.org.</b></div><div class=\"sk-container\" hidden><div class=\"sk-item\"><div class=\"sk-estimator sk-toggleable\"><input class=\"sk-toggleable__control sk-hidden--visually\" id=\"sk-estimator-id-67\" type=\"checkbox\" checked><label for=\"sk-estimator-id-67\" class=\"sk-toggleable__label sk-toggleable__label-arrow\">SVR</label><div class=\"sk-toggleable__content\"><pre>SVR(degree=75, epsilon=2.0, kernel=&#x27;poly&#x27;)</pre></div></div></div></div></div>"
            ]
          },
          "metadata": {},
          "execution_count": 283
        }
      ],
      "source": [
        "model_3=SVR(kernel='poly',degree=75,epsilon=2.0,gamma='scale')                      \n",
        "model_3.fit(x_train,y_train)"
      ]
    },
    {
      "cell_type": "code",
      "execution_count": 284,
      "metadata": {
        "id": "Z4OLDfYoh45B",
        "colab": {
          "base_uri": "https://localhost:8080/"
        },
        "outputId": "7b879986-a000-4288-db37-fafe149742c1"
      },
      "outputs": [
        {
          "output_type": "stream",
          "name": "stdout",
          "text": [
            "Training Dataset Score:  0.7245922119092452\n"
          ]
        }
      ],
      "source": [
        "print(\"Training Dataset Score: \",model_3.score(x_train,y_train))"
      ]
    },
    {
      "cell_type": "code",
      "execution_count": 285,
      "metadata": {
        "id": "ENY5xeBTh9Ju",
        "colab": {
          "base_uri": "https://localhost:8080/"
        },
        "outputId": "106eba3d-0e03-4580-c664-bf552bfc86b1"
      },
      "outputs": [
        {
          "output_type": "stream",
          "name": "stdout",
          "text": [
            "Test Dataset Score:  0.7244468727856065\n"
          ]
        }
      ],
      "source": [
        "print(\"Test Dataset Score: \",model_3.score(x_test,y_test))"
      ]
    },
    {
      "cell_type": "markdown",
      "metadata": {
        "id": "rnJ90uhqiAX8"
      },
      "source": [
        "- SVR with Standardisation"
      ]
    },
    {
      "cell_type": "code",
      "execution_count": 430,
      "metadata": {
        "id": "akjrZKrQiHZR",
        "colab": {
          "base_uri": "https://localhost:8080/",
          "height": 129
        },
        "outputId": "c44b90c8-2c8d-44ad-f796-33e1631e0cfc"
      },
      "outputs": [
        {
          "output_type": "stream",
          "name": "stderr",
          "text": [
            "/usr/local/lib/python3.10/dist-packages/sklearn/utils/validation.py:1143: DataConversionWarning: A column-vector y was passed when a 1d array was expected. Please change the shape of y to (n_samples, ), for example using ravel().\n",
            "  y = column_or_1d(y, warn=True)\n"
          ]
        },
        {
          "output_type": "execute_result",
          "data": {
            "text/plain": [
              "SVR(degree=9, epsilon=1.5, kernel='poly')"
            ],
            "text/html": [
              "<style>#sk-container-id-110 {color: black;background-color: white;}#sk-container-id-110 pre{padding: 0;}#sk-container-id-110 div.sk-toggleable {background-color: white;}#sk-container-id-110 label.sk-toggleable__label {cursor: pointer;display: block;width: 100%;margin-bottom: 0;padding: 0.3em;box-sizing: border-box;text-align: center;}#sk-container-id-110 label.sk-toggleable__label-arrow:before {content: \"▸\";float: left;margin-right: 0.25em;color: #696969;}#sk-container-id-110 label.sk-toggleable__label-arrow:hover:before {color: black;}#sk-container-id-110 div.sk-estimator:hover label.sk-toggleable__label-arrow:before {color: black;}#sk-container-id-110 div.sk-toggleable__content {max-height: 0;max-width: 0;overflow: hidden;text-align: left;background-color: #f0f8ff;}#sk-container-id-110 div.sk-toggleable__content pre {margin: 0.2em;color: black;border-radius: 0.25em;background-color: #f0f8ff;}#sk-container-id-110 input.sk-toggleable__control:checked~div.sk-toggleable__content {max-height: 200px;max-width: 100%;overflow: auto;}#sk-container-id-110 input.sk-toggleable__control:checked~label.sk-toggleable__label-arrow:before {content: \"▾\";}#sk-container-id-110 div.sk-estimator input.sk-toggleable__control:checked~label.sk-toggleable__label {background-color: #d4ebff;}#sk-container-id-110 div.sk-label input.sk-toggleable__control:checked~label.sk-toggleable__label {background-color: #d4ebff;}#sk-container-id-110 input.sk-hidden--visually {border: 0;clip: rect(1px 1px 1px 1px);clip: rect(1px, 1px, 1px, 1px);height: 1px;margin: -1px;overflow: hidden;padding: 0;position: absolute;width: 1px;}#sk-container-id-110 div.sk-estimator {font-family: monospace;background-color: #f0f8ff;border: 1px dotted black;border-radius: 0.25em;box-sizing: border-box;margin-bottom: 0.5em;}#sk-container-id-110 div.sk-estimator:hover {background-color: #d4ebff;}#sk-container-id-110 div.sk-parallel-item::after {content: \"\";width: 100%;border-bottom: 1px solid gray;flex-grow: 1;}#sk-container-id-110 div.sk-label:hover label.sk-toggleable__label {background-color: #d4ebff;}#sk-container-id-110 div.sk-serial::before {content: \"\";position: absolute;border-left: 1px solid gray;box-sizing: border-box;top: 0;bottom: 0;left: 50%;z-index: 0;}#sk-container-id-110 div.sk-serial {display: flex;flex-direction: column;align-items: center;background-color: white;padding-right: 0.2em;padding-left: 0.2em;position: relative;}#sk-container-id-110 div.sk-item {position: relative;z-index: 1;}#sk-container-id-110 div.sk-parallel {display: flex;align-items: stretch;justify-content: center;background-color: white;position: relative;}#sk-container-id-110 div.sk-item::before, #sk-container-id-110 div.sk-parallel-item::before {content: \"\";position: absolute;border-left: 1px solid gray;box-sizing: border-box;top: 0;bottom: 0;left: 50%;z-index: -1;}#sk-container-id-110 div.sk-parallel-item {display: flex;flex-direction: column;z-index: 1;position: relative;background-color: white;}#sk-container-id-110 div.sk-parallel-item:first-child::after {align-self: flex-end;width: 50%;}#sk-container-id-110 div.sk-parallel-item:last-child::after {align-self: flex-start;width: 50%;}#sk-container-id-110 div.sk-parallel-item:only-child::after {width: 0;}#sk-container-id-110 div.sk-dashed-wrapped {border: 1px dashed gray;margin: 0 0.4em 0.5em 0.4em;box-sizing: border-box;padding-bottom: 0.4em;background-color: white;}#sk-container-id-110 div.sk-label label {font-family: monospace;font-weight: bold;display: inline-block;line-height: 1.2em;}#sk-container-id-110 div.sk-label-container {text-align: center;}#sk-container-id-110 div.sk-container {/* jupyter's `normalize.less` sets `[hidden] { display: none; }` but bootstrap.min.css set `[hidden] { display: none !important; }` so we also need the `!important` here to be able to override the default hidden behavior on the sphinx rendered scikit-learn.org. See: https://github.com/scikit-learn/scikit-learn/issues/21755 */display: inline-block !important;position: relative;}#sk-container-id-110 div.sk-text-repr-fallback {display: none;}</style><div id=\"sk-container-id-110\" class=\"sk-top-container\"><div class=\"sk-text-repr-fallback\"><pre>SVR(degree=9, epsilon=1.5, kernel=&#x27;poly&#x27;)</pre><b>In a Jupyter environment, please rerun this cell to show the HTML representation or trust the notebook. <br />On GitHub, the HTML representation is unable to render, please try loading this page with nbviewer.org.</b></div><div class=\"sk-container\" hidden><div class=\"sk-item\"><div class=\"sk-estimator sk-toggleable\"><input class=\"sk-toggleable__control sk-hidden--visually\" id=\"sk-estimator-id-118\" type=\"checkbox\" checked><label for=\"sk-estimator-id-118\" class=\"sk-toggleable__label sk-toggleable__label-arrow\">SVR</label><div class=\"sk-toggleable__content\"><pre>SVR(degree=9, epsilon=1.5, kernel=&#x27;poly&#x27;)</pre></div></div></div></div></div>"
            ]
          },
          "metadata": {},
          "execution_count": 430
        }
      ],
      "source": [
        "model_3s=SVR(kernel='poly',degree=9,epsilon=1.5)\n",
        "\n",
        "#Standardisation:\n",
        "xscaled_1=X.apply(zscore)\n",
        "xscaled_1.describe()\n",
        "x_trainS,x_testS,y_train,y_test= train_test_split(xscaled_1,y,test_size=0.30,random_state=1)\n",
        "\n",
        "\n",
        "model_3s.fit(x_trainS,y_train)"
      ]
    },
    {
      "cell_type": "code",
      "execution_count": 431,
      "metadata": {
        "id": "6N27ttbsiO9w",
        "colab": {
          "base_uri": "https://localhost:8080/"
        },
        "outputId": "28c70450-24e7-44dc-8cb5-18adc9b99af0"
      },
      "outputs": [
        {
          "output_type": "stream",
          "name": "stdout",
          "text": [
            "Training Dataset Score:  0.7533940350356011\n"
          ]
        }
      ],
      "source": [
        "print(\"Training Dataset Score: \",model_3s.score(x_trainS,y_train))"
      ]
    },
    {
      "cell_type": "code",
      "execution_count": 432,
      "metadata": {
        "id": "keHry61ViUaI",
        "colab": {
          "base_uri": "https://localhost:8080/"
        },
        "outputId": "e05b33b3-5be3-4b8a-ac71-4da91df55254"
      },
      "outputs": [
        {
          "output_type": "stream",
          "name": "stdout",
          "text": [
            "Test Dataset Score:  0.7212708732997573\n"
          ]
        }
      ],
      "source": [
        "print(\"Test Dataset Score: \",model_3s.score(x_testS,y_test))"
      ]
    },
    {
      "cell_type": "markdown",
      "metadata": {
        "id": "klRDOIrpiZWs"
      },
      "source": [
        "4. DT (Decision Tree) Regression:\n",
        "\n",
        "Decision tree regression observes features of an object and trains a model in the structure of a tree to predict data in the future to produce meaningful continuous output. Continuous output means that the output/result is not discrete, i.e., it is not represented just by a discrete, known set of numbers or values."
      ]
    },
    {
      "cell_type": "code",
      "execution_count": 289,
      "metadata": {
        "id": "etj3wZ_0ii-b",
        "colab": {
          "base_uri": "https://localhost:8080/",
          "height": 146
        },
        "outputId": "34e4a486-aaa1-472e-d856-a6dff2ea0852"
      },
      "outputs": [
        {
          "output_type": "stream",
          "name": "stderr",
          "text": [
            "/usr/local/lib/python3.10/dist-packages/sklearn/tree/_classes.py:277: FutureWarning: `max_features='auto'` has been deprecated in 1.1 and will be removed in 1.3. To keep the past behaviour, explicitly set `max_features=1.0'`.\n",
            "  warnings.warn(\n"
          ]
        },
        {
          "output_type": "execute_result",
          "data": {
            "text/plain": [
              "DecisionTreeRegressor(max_depth=9, max_features='auto', min_samples_split=3,\n",
              "                      random_state=1)"
            ],
            "text/html": [
              "<style>#sk-container-id-63 {color: black;background-color: white;}#sk-container-id-63 pre{padding: 0;}#sk-container-id-63 div.sk-toggleable {background-color: white;}#sk-container-id-63 label.sk-toggleable__label {cursor: pointer;display: block;width: 100%;margin-bottom: 0;padding: 0.3em;box-sizing: border-box;text-align: center;}#sk-container-id-63 label.sk-toggleable__label-arrow:before {content: \"▸\";float: left;margin-right: 0.25em;color: #696969;}#sk-container-id-63 label.sk-toggleable__label-arrow:hover:before {color: black;}#sk-container-id-63 div.sk-estimator:hover label.sk-toggleable__label-arrow:before {color: black;}#sk-container-id-63 div.sk-toggleable__content {max-height: 0;max-width: 0;overflow: hidden;text-align: left;background-color: #f0f8ff;}#sk-container-id-63 div.sk-toggleable__content pre {margin: 0.2em;color: black;border-radius: 0.25em;background-color: #f0f8ff;}#sk-container-id-63 input.sk-toggleable__control:checked~div.sk-toggleable__content {max-height: 200px;max-width: 100%;overflow: auto;}#sk-container-id-63 input.sk-toggleable__control:checked~label.sk-toggleable__label-arrow:before {content: \"▾\";}#sk-container-id-63 div.sk-estimator input.sk-toggleable__control:checked~label.sk-toggleable__label {background-color: #d4ebff;}#sk-container-id-63 div.sk-label input.sk-toggleable__control:checked~label.sk-toggleable__label {background-color: #d4ebff;}#sk-container-id-63 input.sk-hidden--visually {border: 0;clip: rect(1px 1px 1px 1px);clip: rect(1px, 1px, 1px, 1px);height: 1px;margin: -1px;overflow: hidden;padding: 0;position: absolute;width: 1px;}#sk-container-id-63 div.sk-estimator {font-family: monospace;background-color: #f0f8ff;border: 1px dotted black;border-radius: 0.25em;box-sizing: border-box;margin-bottom: 0.5em;}#sk-container-id-63 div.sk-estimator:hover {background-color: #d4ebff;}#sk-container-id-63 div.sk-parallel-item::after {content: \"\";width: 100%;border-bottom: 1px solid gray;flex-grow: 1;}#sk-container-id-63 div.sk-label:hover label.sk-toggleable__label {background-color: #d4ebff;}#sk-container-id-63 div.sk-serial::before {content: \"\";position: absolute;border-left: 1px solid gray;box-sizing: border-box;top: 0;bottom: 0;left: 50%;z-index: 0;}#sk-container-id-63 div.sk-serial {display: flex;flex-direction: column;align-items: center;background-color: white;padding-right: 0.2em;padding-left: 0.2em;position: relative;}#sk-container-id-63 div.sk-item {position: relative;z-index: 1;}#sk-container-id-63 div.sk-parallel {display: flex;align-items: stretch;justify-content: center;background-color: white;position: relative;}#sk-container-id-63 div.sk-item::before, #sk-container-id-63 div.sk-parallel-item::before {content: \"\";position: absolute;border-left: 1px solid gray;box-sizing: border-box;top: 0;bottom: 0;left: 50%;z-index: -1;}#sk-container-id-63 div.sk-parallel-item {display: flex;flex-direction: column;z-index: 1;position: relative;background-color: white;}#sk-container-id-63 div.sk-parallel-item:first-child::after {align-self: flex-end;width: 50%;}#sk-container-id-63 div.sk-parallel-item:last-child::after {align-self: flex-start;width: 50%;}#sk-container-id-63 div.sk-parallel-item:only-child::after {width: 0;}#sk-container-id-63 div.sk-dashed-wrapped {border: 1px dashed gray;margin: 0 0.4em 0.5em 0.4em;box-sizing: border-box;padding-bottom: 0.4em;background-color: white;}#sk-container-id-63 div.sk-label label {font-family: monospace;font-weight: bold;display: inline-block;line-height: 1.2em;}#sk-container-id-63 div.sk-label-container {text-align: center;}#sk-container-id-63 div.sk-container {/* jupyter's `normalize.less` sets `[hidden] { display: none; }` but bootstrap.min.css set `[hidden] { display: none !important; }` so we also need the `!important` here to be able to override the default hidden behavior on the sphinx rendered scikit-learn.org. See: https://github.com/scikit-learn/scikit-learn/issues/21755 */display: inline-block !important;position: relative;}#sk-container-id-63 div.sk-text-repr-fallback {display: none;}</style><div id=\"sk-container-id-63\" class=\"sk-top-container\"><div class=\"sk-text-repr-fallback\"><pre>DecisionTreeRegressor(max_depth=9, max_features=&#x27;auto&#x27;, min_samples_split=3,\n",
              "                      random_state=1)</pre><b>In a Jupyter environment, please rerun this cell to show the HTML representation or trust the notebook. <br />On GitHub, the HTML representation is unable to render, please try loading this page with nbviewer.org.</b></div><div class=\"sk-container\" hidden><div class=\"sk-item\"><div class=\"sk-estimator sk-toggleable\"><input class=\"sk-toggleable__control sk-hidden--visually\" id=\"sk-estimator-id-69\" type=\"checkbox\" checked><label for=\"sk-estimator-id-69\" class=\"sk-toggleable__label sk-toggleable__label-arrow\">DecisionTreeRegressor</label><div class=\"sk-toggleable__content\"><pre>DecisionTreeRegressor(max_depth=9, max_features=&#x27;auto&#x27;, min_samples_split=3,\n",
              "                      random_state=1)</pre></div></div></div></div></div>"
            ]
          },
          "metadata": {},
          "execution_count": 289
        }
      ],
      "source": [
        "model_4=DecisionTreeRegressor(max_depth=9,max_features=\"auto\",min_samples_split=3,min_samples_leaf=1,random_state=1)\n",
        "model_4.fit(x_train,y_train)"
      ]
    },
    {
      "cell_type": "code",
      "execution_count": 290,
      "metadata": {
        "id": "WbEyiKK1qM8Z",
        "colab": {
          "base_uri": "https://localhost:8080/"
        },
        "outputId": "4d423f6f-9e14-41fd-e7b1-1dfec3af1255"
      },
      "outputs": [
        {
          "output_type": "stream",
          "name": "stdout",
          "text": [
            "Training Dataset Score:  0.8050887132606417\n"
          ]
        }
      ],
      "source": [
        "print(\"Training Dataset Score: \",model_4.score(x_train,y_train))"
      ]
    },
    {
      "cell_type": "code",
      "execution_count": 291,
      "metadata": {
        "id": "XjkCe7Oqq4OF",
        "colab": {
          "base_uri": "https://localhost:8080/"
        },
        "outputId": "e29cc8db-7d7d-4a4b-ed40-3ef35ae23917"
      },
      "outputs": [
        {
          "output_type": "stream",
          "name": "stdout",
          "text": [
            "Test Dataset Score:  0.7720835131885401\n"
          ]
        }
      ],
      "source": [
        "print(\"Test Dataset Score: \",model_4.score(x_test,y_test))"
      ]
    },
    {
      "cell_type": "markdown",
      "metadata": {
        "id": "QLS695iwrE4q"
      },
      "source": [
        "5. Bagging\n",
        "\n",
        "A Bagging regressor is an ensemble meta-estimator that fits base regressors each on random subsets of the original dataset and then aggregate their individual predictions (either by voting or by averaging) to form a final prediction."
      ]
    },
    {
      "cell_type": "code",
      "execution_count": 292,
      "metadata": {
        "id": "q2a1FmxMq8d_",
        "colab": {
          "base_uri": "https://localhost:8080/",
          "height": 206
        },
        "outputId": "ae4ad78f-320b-4b40-cb81-ad388047e40e"
      },
      "outputs": [
        {
          "output_type": "stream",
          "name": "stderr",
          "text": [
            "/usr/local/lib/python3.10/dist-packages/sklearn/ensemble/_bagging.py:508: DataConversionWarning: A column-vector y was passed when a 1d array was expected. Please change the shape of y to (n_samples, ), for example using ravel().\n",
            "  return column_or_1d(y, warn=True)\n",
            "/usr/local/lib/python3.10/dist-packages/sklearn/ensemble/_base.py:166: FutureWarning: `base_estimator` was renamed to `estimator` in version 1.2 and will be removed in 1.4.\n",
            "  warnings.warn(\n"
          ]
        },
        {
          "output_type": "execute_result",
          "data": {
            "text/plain": [
              "BaggingRegressor(base_estimator=DecisionTreeRegressor(max_depth=9,\n",
              "                                                      max_features='auto',\n",
              "                                                      min_samples_split=3,\n",
              "                                                      random_state=1),\n",
              "                 n_estimators=1000)"
            ],
            "text/html": [
              "<style>#sk-container-id-64 {color: black;background-color: white;}#sk-container-id-64 pre{padding: 0;}#sk-container-id-64 div.sk-toggleable {background-color: white;}#sk-container-id-64 label.sk-toggleable__label {cursor: pointer;display: block;width: 100%;margin-bottom: 0;padding: 0.3em;box-sizing: border-box;text-align: center;}#sk-container-id-64 label.sk-toggleable__label-arrow:before {content: \"▸\";float: left;margin-right: 0.25em;color: #696969;}#sk-container-id-64 label.sk-toggleable__label-arrow:hover:before {color: black;}#sk-container-id-64 div.sk-estimator:hover label.sk-toggleable__label-arrow:before {color: black;}#sk-container-id-64 div.sk-toggleable__content {max-height: 0;max-width: 0;overflow: hidden;text-align: left;background-color: #f0f8ff;}#sk-container-id-64 div.sk-toggleable__content pre {margin: 0.2em;color: black;border-radius: 0.25em;background-color: #f0f8ff;}#sk-container-id-64 input.sk-toggleable__control:checked~div.sk-toggleable__content {max-height: 200px;max-width: 100%;overflow: auto;}#sk-container-id-64 input.sk-toggleable__control:checked~label.sk-toggleable__label-arrow:before {content: \"▾\";}#sk-container-id-64 div.sk-estimator input.sk-toggleable__control:checked~label.sk-toggleable__label {background-color: #d4ebff;}#sk-container-id-64 div.sk-label input.sk-toggleable__control:checked~label.sk-toggleable__label {background-color: #d4ebff;}#sk-container-id-64 input.sk-hidden--visually {border: 0;clip: rect(1px 1px 1px 1px);clip: rect(1px, 1px, 1px, 1px);height: 1px;margin: -1px;overflow: hidden;padding: 0;position: absolute;width: 1px;}#sk-container-id-64 div.sk-estimator {font-family: monospace;background-color: #f0f8ff;border: 1px dotted black;border-radius: 0.25em;box-sizing: border-box;margin-bottom: 0.5em;}#sk-container-id-64 div.sk-estimator:hover {background-color: #d4ebff;}#sk-container-id-64 div.sk-parallel-item::after {content: \"\";width: 100%;border-bottom: 1px solid gray;flex-grow: 1;}#sk-container-id-64 div.sk-label:hover label.sk-toggleable__label {background-color: #d4ebff;}#sk-container-id-64 div.sk-serial::before {content: \"\";position: absolute;border-left: 1px solid gray;box-sizing: border-box;top: 0;bottom: 0;left: 50%;z-index: 0;}#sk-container-id-64 div.sk-serial {display: flex;flex-direction: column;align-items: center;background-color: white;padding-right: 0.2em;padding-left: 0.2em;position: relative;}#sk-container-id-64 div.sk-item {position: relative;z-index: 1;}#sk-container-id-64 div.sk-parallel {display: flex;align-items: stretch;justify-content: center;background-color: white;position: relative;}#sk-container-id-64 div.sk-item::before, #sk-container-id-64 div.sk-parallel-item::before {content: \"\";position: absolute;border-left: 1px solid gray;box-sizing: border-box;top: 0;bottom: 0;left: 50%;z-index: -1;}#sk-container-id-64 div.sk-parallel-item {display: flex;flex-direction: column;z-index: 1;position: relative;background-color: white;}#sk-container-id-64 div.sk-parallel-item:first-child::after {align-self: flex-end;width: 50%;}#sk-container-id-64 div.sk-parallel-item:last-child::after {align-self: flex-start;width: 50%;}#sk-container-id-64 div.sk-parallel-item:only-child::after {width: 0;}#sk-container-id-64 div.sk-dashed-wrapped {border: 1px dashed gray;margin: 0 0.4em 0.5em 0.4em;box-sizing: border-box;padding-bottom: 0.4em;background-color: white;}#sk-container-id-64 div.sk-label label {font-family: monospace;font-weight: bold;display: inline-block;line-height: 1.2em;}#sk-container-id-64 div.sk-label-container {text-align: center;}#sk-container-id-64 div.sk-container {/* jupyter's `normalize.less` sets `[hidden] { display: none; }` but bootstrap.min.css set `[hidden] { display: none !important; }` so we also need the `!important` here to be able to override the default hidden behavior on the sphinx rendered scikit-learn.org. See: https://github.com/scikit-learn/scikit-learn/issues/21755 */display: inline-block !important;position: relative;}#sk-container-id-64 div.sk-text-repr-fallback {display: none;}</style><div id=\"sk-container-id-64\" class=\"sk-top-container\"><div class=\"sk-text-repr-fallback\"><pre>BaggingRegressor(base_estimator=DecisionTreeRegressor(max_depth=9,\n",
              "                                                      max_features=&#x27;auto&#x27;,\n",
              "                                                      min_samples_split=3,\n",
              "                                                      random_state=1),\n",
              "                 n_estimators=1000)</pre><b>In a Jupyter environment, please rerun this cell to show the HTML representation or trust the notebook. <br />On GitHub, the HTML representation is unable to render, please try loading this page with nbviewer.org.</b></div><div class=\"sk-container\" hidden><div class=\"sk-item sk-dashed-wrapped\"><div class=\"sk-label-container\"><div class=\"sk-label sk-toggleable\"><input class=\"sk-toggleable__control sk-hidden--visually\" id=\"sk-estimator-id-70\" type=\"checkbox\" ><label for=\"sk-estimator-id-70\" class=\"sk-toggleable__label sk-toggleable__label-arrow\">BaggingRegressor</label><div class=\"sk-toggleable__content\"><pre>BaggingRegressor(base_estimator=DecisionTreeRegressor(max_depth=9,\n",
              "                                                      max_features=&#x27;auto&#x27;,\n",
              "                                                      min_samples_split=3,\n",
              "                                                      random_state=1),\n",
              "                 n_estimators=1000)</pre></div></div></div><div class=\"sk-parallel\"><div class=\"sk-parallel-item\"><div class=\"sk-item\"><div class=\"sk-label-container\"><div class=\"sk-label sk-toggleable\"><input class=\"sk-toggleable__control sk-hidden--visually\" id=\"sk-estimator-id-71\" type=\"checkbox\" ><label for=\"sk-estimator-id-71\" class=\"sk-toggleable__label sk-toggleable__label-arrow\">base_estimator: DecisionTreeRegressor</label><div class=\"sk-toggleable__content\"><pre>DecisionTreeRegressor(max_depth=9, max_features=&#x27;auto&#x27;, min_samples_split=3,\n",
              "                      random_state=1)</pre></div></div></div><div class=\"sk-serial\"><div class=\"sk-item\"><div class=\"sk-estimator sk-toggleable\"><input class=\"sk-toggleable__control sk-hidden--visually\" id=\"sk-estimator-id-72\" type=\"checkbox\" ><label for=\"sk-estimator-id-72\" class=\"sk-toggleable__label sk-toggleable__label-arrow\">DecisionTreeRegressor</label><div class=\"sk-toggleable__content\"><pre>DecisionTreeRegressor(max_depth=9, max_features=&#x27;auto&#x27;, min_samples_split=3,\n",
              "                      random_state=1)</pre></div></div></div></div></div></div></div></div></div></div>"
            ]
          },
          "metadata": {},
          "execution_count": 292
        }
      ],
      "source": [
        "model_5=BaggingRegressor(n_estimators=1000,base_estimator=model_4)\n",
        "model_5.fit(x_train,y_train)"
      ]
    },
    {
      "cell_type": "code",
      "execution_count": 293,
      "metadata": {
        "id": "U0N5xW2DrTCR",
        "colab": {
          "base_uri": "https://localhost:8080/"
        },
        "outputId": "70fa33da-3fa9-454a-818d-09120e32b659"
      },
      "outputs": [
        {
          "output_type": "stream",
          "name": "stdout",
          "text": [
            "Training Dataset Score:  0.8198684950895619\n"
          ]
        }
      ],
      "source": [
        "print(\"Training Dataset Score: \",model_5.score(x_train,y_train))"
      ]
    },
    {
      "cell_type": "code",
      "execution_count": 294,
      "metadata": {
        "id": "eW1RmlQJrYLU",
        "colab": {
          "base_uri": "https://localhost:8080/"
        },
        "outputId": "9c1bef1e-ec9a-42b8-bb8e-9bef20058499"
      },
      "outputs": [
        {
          "output_type": "stream",
          "name": "stdout",
          "text": [
            "Test Dataset Score:  0.7880769060621252\n"
          ]
        }
      ],
      "source": [
        "print(\"Test Dataset Score: \",model_5.score(x_test,y_test))"
      ]
    },
    {
      "cell_type": "markdown",
      "metadata": {
        "id": "19_koAO5rcOD"
      },
      "source": [
        "6. Boosting\n",
        "\n",
        "An AdaBoost regressor is a meta-estimator that begins by fitting a regressor on the original dataset and then fits additional copies of the regressor on the same dataset but where the weights of instances are adjusted according to the error of the current prediction. As such, subsequent regressors focus more on difficult cases."
      ]
    },
    {
      "cell_type": "code",
      "execution_count": 295,
      "metadata": {
        "id": "2bpfy4EYreIv",
        "colab": {
          "base_uri": "https://localhost:8080/",
          "height": 129
        },
        "outputId": "a9c76a51-5d9c-48d6-f07e-252ba86e2712"
      },
      "outputs": [
        {
          "output_type": "stream",
          "name": "stderr",
          "text": [
            "/usr/local/lib/python3.10/dist-packages/sklearn/utils/validation.py:1143: DataConversionWarning: A column-vector y was passed when a 1d array was expected. Please change the shape of y to (n_samples, ), for example using ravel().\n",
            "  y = column_or_1d(y, warn=True)\n"
          ]
        },
        {
          "output_type": "execute_result",
          "data": {
            "text/plain": [
              "AdaBoostRegressor(learning_rate=3, random_state=1)"
            ],
            "text/html": [
              "<style>#sk-container-id-65 {color: black;background-color: white;}#sk-container-id-65 pre{padding: 0;}#sk-container-id-65 div.sk-toggleable {background-color: white;}#sk-container-id-65 label.sk-toggleable__label {cursor: pointer;display: block;width: 100%;margin-bottom: 0;padding: 0.3em;box-sizing: border-box;text-align: center;}#sk-container-id-65 label.sk-toggleable__label-arrow:before {content: \"▸\";float: left;margin-right: 0.25em;color: #696969;}#sk-container-id-65 label.sk-toggleable__label-arrow:hover:before {color: black;}#sk-container-id-65 div.sk-estimator:hover label.sk-toggleable__label-arrow:before {color: black;}#sk-container-id-65 div.sk-toggleable__content {max-height: 0;max-width: 0;overflow: hidden;text-align: left;background-color: #f0f8ff;}#sk-container-id-65 div.sk-toggleable__content pre {margin: 0.2em;color: black;border-radius: 0.25em;background-color: #f0f8ff;}#sk-container-id-65 input.sk-toggleable__control:checked~div.sk-toggleable__content {max-height: 200px;max-width: 100%;overflow: auto;}#sk-container-id-65 input.sk-toggleable__control:checked~label.sk-toggleable__label-arrow:before {content: \"▾\";}#sk-container-id-65 div.sk-estimator input.sk-toggleable__control:checked~label.sk-toggleable__label {background-color: #d4ebff;}#sk-container-id-65 div.sk-label input.sk-toggleable__control:checked~label.sk-toggleable__label {background-color: #d4ebff;}#sk-container-id-65 input.sk-hidden--visually {border: 0;clip: rect(1px 1px 1px 1px);clip: rect(1px, 1px, 1px, 1px);height: 1px;margin: -1px;overflow: hidden;padding: 0;position: absolute;width: 1px;}#sk-container-id-65 div.sk-estimator {font-family: monospace;background-color: #f0f8ff;border: 1px dotted black;border-radius: 0.25em;box-sizing: border-box;margin-bottom: 0.5em;}#sk-container-id-65 div.sk-estimator:hover {background-color: #d4ebff;}#sk-container-id-65 div.sk-parallel-item::after {content: \"\";width: 100%;border-bottom: 1px solid gray;flex-grow: 1;}#sk-container-id-65 div.sk-label:hover label.sk-toggleable__label {background-color: #d4ebff;}#sk-container-id-65 div.sk-serial::before {content: \"\";position: absolute;border-left: 1px solid gray;box-sizing: border-box;top: 0;bottom: 0;left: 50%;z-index: 0;}#sk-container-id-65 div.sk-serial {display: flex;flex-direction: column;align-items: center;background-color: white;padding-right: 0.2em;padding-left: 0.2em;position: relative;}#sk-container-id-65 div.sk-item {position: relative;z-index: 1;}#sk-container-id-65 div.sk-parallel {display: flex;align-items: stretch;justify-content: center;background-color: white;position: relative;}#sk-container-id-65 div.sk-item::before, #sk-container-id-65 div.sk-parallel-item::before {content: \"\";position: absolute;border-left: 1px solid gray;box-sizing: border-box;top: 0;bottom: 0;left: 50%;z-index: -1;}#sk-container-id-65 div.sk-parallel-item {display: flex;flex-direction: column;z-index: 1;position: relative;background-color: white;}#sk-container-id-65 div.sk-parallel-item:first-child::after {align-self: flex-end;width: 50%;}#sk-container-id-65 div.sk-parallel-item:last-child::after {align-self: flex-start;width: 50%;}#sk-container-id-65 div.sk-parallel-item:only-child::after {width: 0;}#sk-container-id-65 div.sk-dashed-wrapped {border: 1px dashed gray;margin: 0 0.4em 0.5em 0.4em;box-sizing: border-box;padding-bottom: 0.4em;background-color: white;}#sk-container-id-65 div.sk-label label {font-family: monospace;font-weight: bold;display: inline-block;line-height: 1.2em;}#sk-container-id-65 div.sk-label-container {text-align: center;}#sk-container-id-65 div.sk-container {/* jupyter's `normalize.less` sets `[hidden] { display: none; }` but bootstrap.min.css set `[hidden] { display: none !important; }` so we also need the `!important` here to be able to override the default hidden behavior on the sphinx rendered scikit-learn.org. See: https://github.com/scikit-learn/scikit-learn/issues/21755 */display: inline-block !important;position: relative;}#sk-container-id-65 div.sk-text-repr-fallback {display: none;}</style><div id=\"sk-container-id-65\" class=\"sk-top-container\"><div class=\"sk-text-repr-fallback\"><pre>AdaBoostRegressor(learning_rate=3, random_state=1)</pre><b>In a Jupyter environment, please rerun this cell to show the HTML representation or trust the notebook. <br />On GitHub, the HTML representation is unable to render, please try loading this page with nbviewer.org.</b></div><div class=\"sk-container\" hidden><div class=\"sk-item\"><div class=\"sk-estimator sk-toggleable\"><input class=\"sk-toggleable__control sk-hidden--visually\" id=\"sk-estimator-id-73\" type=\"checkbox\" checked><label for=\"sk-estimator-id-73\" class=\"sk-toggleable__label sk-toggleable__label-arrow\">AdaBoostRegressor</label><div class=\"sk-toggleable__content\"><pre>AdaBoostRegressor(learning_rate=3, random_state=1)</pre></div></div></div></div></div>"
            ]
          },
          "metadata": {},
          "execution_count": 295
        }
      ],
      "source": [
        "model_6=AdaBoostRegressor(n_estimators=50,learning_rate=3,random_state=1)\n",
        "model_6.fit(x_train,y_train)"
      ]
    },
    {
      "cell_type": "code",
      "execution_count": 296,
      "metadata": {
        "id": "Vg9JJdI0rzKd",
        "colab": {
          "base_uri": "https://localhost:8080/"
        },
        "outputId": "2de23cc2-1479-4e32-cda8-75caa81e6b13"
      },
      "outputs": [
        {
          "output_type": "stream",
          "name": "stdout",
          "text": [
            "Training Dataset Score:  0.7263156633773298\n"
          ]
        }
      ],
      "source": [
        "print(\"Training Dataset Score: \",model_6.score(x_train,y_train))"
      ]
    },
    {
      "cell_type": "code",
      "execution_count": 297,
      "metadata": {
        "id": "bCvcdDHqr2Hx",
        "colab": {
          "base_uri": "https://localhost:8080/"
        },
        "outputId": "2fb3c8e7-731b-4375-ac15-556dd309bc3c"
      },
      "outputs": [
        {
          "output_type": "stream",
          "name": "stdout",
          "text": [
            "Test Dataset Score:  0.7269897351740062\n"
          ]
        }
      ],
      "source": [
        "print(\"Test Dataset Score: \",model_6.score(x_test,y_test))"
      ]
    },
    {
      "cell_type": "markdown",
      "metadata": {
        "id": "97SVVaFSr9zu"
      },
      "source": [
        "7. Gradient Boost Regression\n",
        "\n",
        "Gradient Boosting algorithm combines several weak learners into strong learners, in which each new model is trained to minimize the loss function such as mean squared error or cross-entropy of the previous model using gradient descent. In each iteration, the algorithm computes the gradient of the loss function with respect to the predictions of the current ensemble and then trains a new weak model to minimize this gradient. The predictions of the new model are then added to the ensemble, and the process is repeated until a stopping criterion is met"
      ]
    },
    {
      "cell_type": "code",
      "execution_count": 451,
      "metadata": {
        "id": "4l4IVdDMr6m2",
        "colab": {
          "base_uri": "https://localhost:8080/",
          "height": 129
        },
        "outputId": "3e63e985-cd6c-426c-9f5c-e665dd7b8f78"
      },
      "outputs": [
        {
          "output_type": "stream",
          "name": "stderr",
          "text": [
            "/usr/local/lib/python3.10/dist-packages/sklearn/ensemble/_gb.py:437: DataConversionWarning: A column-vector y was passed when a 1d array was expected. Please change the shape of y to (n_samples, ), for example using ravel().\n",
            "  y = column_or_1d(y, warn=True)\n"
          ]
        },
        {
          "output_type": "execute_result",
          "data": {
            "text/plain": [
              "GradientBoostingRegressor(max_depth=6)"
            ],
            "text/html": [
              "<style>#sk-container-id-112 {color: black;background-color: white;}#sk-container-id-112 pre{padding: 0;}#sk-container-id-112 div.sk-toggleable {background-color: white;}#sk-container-id-112 label.sk-toggleable__label {cursor: pointer;display: block;width: 100%;margin-bottom: 0;padding: 0.3em;box-sizing: border-box;text-align: center;}#sk-container-id-112 label.sk-toggleable__label-arrow:before {content: \"▸\";float: left;margin-right: 0.25em;color: #696969;}#sk-container-id-112 label.sk-toggleable__label-arrow:hover:before {color: black;}#sk-container-id-112 div.sk-estimator:hover label.sk-toggleable__label-arrow:before {color: black;}#sk-container-id-112 div.sk-toggleable__content {max-height: 0;max-width: 0;overflow: hidden;text-align: left;background-color: #f0f8ff;}#sk-container-id-112 div.sk-toggleable__content pre {margin: 0.2em;color: black;border-radius: 0.25em;background-color: #f0f8ff;}#sk-container-id-112 input.sk-toggleable__control:checked~div.sk-toggleable__content {max-height: 200px;max-width: 100%;overflow: auto;}#sk-container-id-112 input.sk-toggleable__control:checked~label.sk-toggleable__label-arrow:before {content: \"▾\";}#sk-container-id-112 div.sk-estimator input.sk-toggleable__control:checked~label.sk-toggleable__label {background-color: #d4ebff;}#sk-container-id-112 div.sk-label input.sk-toggleable__control:checked~label.sk-toggleable__label {background-color: #d4ebff;}#sk-container-id-112 input.sk-hidden--visually {border: 0;clip: rect(1px 1px 1px 1px);clip: rect(1px, 1px, 1px, 1px);height: 1px;margin: -1px;overflow: hidden;padding: 0;position: absolute;width: 1px;}#sk-container-id-112 div.sk-estimator {font-family: monospace;background-color: #f0f8ff;border: 1px dotted black;border-radius: 0.25em;box-sizing: border-box;margin-bottom: 0.5em;}#sk-container-id-112 div.sk-estimator:hover {background-color: #d4ebff;}#sk-container-id-112 div.sk-parallel-item::after {content: \"\";width: 100%;border-bottom: 1px solid gray;flex-grow: 1;}#sk-container-id-112 div.sk-label:hover label.sk-toggleable__label {background-color: #d4ebff;}#sk-container-id-112 div.sk-serial::before {content: \"\";position: absolute;border-left: 1px solid gray;box-sizing: border-box;top: 0;bottom: 0;left: 50%;z-index: 0;}#sk-container-id-112 div.sk-serial {display: flex;flex-direction: column;align-items: center;background-color: white;padding-right: 0.2em;padding-left: 0.2em;position: relative;}#sk-container-id-112 div.sk-item {position: relative;z-index: 1;}#sk-container-id-112 div.sk-parallel {display: flex;align-items: stretch;justify-content: center;background-color: white;position: relative;}#sk-container-id-112 div.sk-item::before, #sk-container-id-112 div.sk-parallel-item::before {content: \"\";position: absolute;border-left: 1px solid gray;box-sizing: border-box;top: 0;bottom: 0;left: 50%;z-index: -1;}#sk-container-id-112 div.sk-parallel-item {display: flex;flex-direction: column;z-index: 1;position: relative;background-color: white;}#sk-container-id-112 div.sk-parallel-item:first-child::after {align-self: flex-end;width: 50%;}#sk-container-id-112 div.sk-parallel-item:last-child::after {align-self: flex-start;width: 50%;}#sk-container-id-112 div.sk-parallel-item:only-child::after {width: 0;}#sk-container-id-112 div.sk-dashed-wrapped {border: 1px dashed gray;margin: 0 0.4em 0.5em 0.4em;box-sizing: border-box;padding-bottom: 0.4em;background-color: white;}#sk-container-id-112 div.sk-label label {font-family: monospace;font-weight: bold;display: inline-block;line-height: 1.2em;}#sk-container-id-112 div.sk-label-container {text-align: center;}#sk-container-id-112 div.sk-container {/* jupyter's `normalize.less` sets `[hidden] { display: none; }` but bootstrap.min.css set `[hidden] { display: none !important; }` so we also need the `!important` here to be able to override the default hidden behavior on the sphinx rendered scikit-learn.org. See: https://github.com/scikit-learn/scikit-learn/issues/21755 */display: inline-block !important;position: relative;}#sk-container-id-112 div.sk-text-repr-fallback {display: none;}</style><div id=\"sk-container-id-112\" class=\"sk-top-container\"><div class=\"sk-text-repr-fallback\"><pre>GradientBoostingRegressor(max_depth=6)</pre><b>In a Jupyter environment, please rerun this cell to show the HTML representation or trust the notebook. <br />On GitHub, the HTML representation is unable to render, please try loading this page with nbviewer.org.</b></div><div class=\"sk-container\" hidden><div class=\"sk-item\"><div class=\"sk-estimator sk-toggleable\"><input class=\"sk-toggleable__control sk-hidden--visually\" id=\"sk-estimator-id-120\" type=\"checkbox\" checked><label for=\"sk-estimator-id-120\" class=\"sk-toggleable__label sk-toggleable__label-arrow\">GradientBoostingRegressor</label><div class=\"sk-toggleable__content\"><pre>GradientBoostingRegressor(max_depth=6)</pre></div></div></div></div></div>"
            ]
          },
          "metadata": {},
          "execution_count": 451
        }
      ],
      "source": [
        "model_7=GradientBoostingRegressor(max_depth=6,n_estimators=100)\n",
        "model_7.fit(x_train,y_train)"
      ]
    },
    {
      "cell_type": "code",
      "execution_count": 452,
      "metadata": {
        "id": "nBCZuvCKsLY5",
        "colab": {
          "base_uri": "https://localhost:8080/"
        },
        "outputId": "be36b90c-2b46-4232-8a03-1ea44edd5e67"
      },
      "outputs": [
        {
          "output_type": "stream",
          "name": "stdout",
          "text": [
            "Training Dataset Score:  0.8301850313895027\n"
          ]
        }
      ],
      "source": [
        "print(\"Training Dataset Score: \",model_7.score(x_train,y_train))"
      ]
    },
    {
      "cell_type": "code",
      "execution_count": 453,
      "metadata": {
        "id": "7IicF1NbsPCV",
        "colab": {
          "base_uri": "https://localhost:8080/"
        },
        "outputId": "8cc56cee-44b8-4abf-de07-55177a9c7092"
      },
      "outputs": [
        {
          "output_type": "stream",
          "name": "stdout",
          "text": [
            "Test Dataset Score:  0.7919644423860606\n"
          ]
        }
      ],
      "source": [
        "print(\"Test Dataset Score: \",model_7.score(x_test,y_test))"
      ]
    },
    {
      "cell_type": "markdown",
      "metadata": {
        "id": "J3r0BD9dsYyg"
      },
      "source": [
        "8. Random Forest \n",
        "\n",
        "Random Forest Regression is a supervised learning algorithm that uses ensemble learning method for regression. Ensemble learning method is a technique that combines predictions from multiple machine learning algorithms to make a more accurate prediction than a single model.\n",
        "\n"
      ]
    },
    {
      "cell_type": "code",
      "execution_count": 454,
      "metadata": {
        "id": "V70Gu-RKsWiD",
        "colab": {
          "base_uri": "https://localhost:8080/",
          "height": 129
        },
        "outputId": "15ac96d4-f5ae-49d7-efcd-7c592d84d101"
      },
      "outputs": [
        {
          "output_type": "stream",
          "name": "stderr",
          "text": [
            "<ipython-input-454-5ca6cfebfb22>:2: DataConversionWarning: A column-vector y was passed when a 1d array was expected. Please change the shape of y to (n_samples,), for example using ravel().\n",
            "  model_8.fit(x_train,y_train)\n"
          ]
        },
        {
          "output_type": "execute_result",
          "data": {
            "text/plain": [
              "RandomForestRegressor(max_depth=9, n_estimators=150)"
            ],
            "text/html": [
              "<style>#sk-container-id-113 {color: black;background-color: white;}#sk-container-id-113 pre{padding: 0;}#sk-container-id-113 div.sk-toggleable {background-color: white;}#sk-container-id-113 label.sk-toggleable__label {cursor: pointer;display: block;width: 100%;margin-bottom: 0;padding: 0.3em;box-sizing: border-box;text-align: center;}#sk-container-id-113 label.sk-toggleable__label-arrow:before {content: \"▸\";float: left;margin-right: 0.25em;color: #696969;}#sk-container-id-113 label.sk-toggleable__label-arrow:hover:before {color: black;}#sk-container-id-113 div.sk-estimator:hover label.sk-toggleable__label-arrow:before {color: black;}#sk-container-id-113 div.sk-toggleable__content {max-height: 0;max-width: 0;overflow: hidden;text-align: left;background-color: #f0f8ff;}#sk-container-id-113 div.sk-toggleable__content pre {margin: 0.2em;color: black;border-radius: 0.25em;background-color: #f0f8ff;}#sk-container-id-113 input.sk-toggleable__control:checked~div.sk-toggleable__content {max-height: 200px;max-width: 100%;overflow: auto;}#sk-container-id-113 input.sk-toggleable__control:checked~label.sk-toggleable__label-arrow:before {content: \"▾\";}#sk-container-id-113 div.sk-estimator input.sk-toggleable__control:checked~label.sk-toggleable__label {background-color: #d4ebff;}#sk-container-id-113 div.sk-label input.sk-toggleable__control:checked~label.sk-toggleable__label {background-color: #d4ebff;}#sk-container-id-113 input.sk-hidden--visually {border: 0;clip: rect(1px 1px 1px 1px);clip: rect(1px, 1px, 1px, 1px);height: 1px;margin: -1px;overflow: hidden;padding: 0;position: absolute;width: 1px;}#sk-container-id-113 div.sk-estimator {font-family: monospace;background-color: #f0f8ff;border: 1px dotted black;border-radius: 0.25em;box-sizing: border-box;margin-bottom: 0.5em;}#sk-container-id-113 div.sk-estimator:hover {background-color: #d4ebff;}#sk-container-id-113 div.sk-parallel-item::after {content: \"\";width: 100%;border-bottom: 1px solid gray;flex-grow: 1;}#sk-container-id-113 div.sk-label:hover label.sk-toggleable__label {background-color: #d4ebff;}#sk-container-id-113 div.sk-serial::before {content: \"\";position: absolute;border-left: 1px solid gray;box-sizing: border-box;top: 0;bottom: 0;left: 50%;z-index: 0;}#sk-container-id-113 div.sk-serial {display: flex;flex-direction: column;align-items: center;background-color: white;padding-right: 0.2em;padding-left: 0.2em;position: relative;}#sk-container-id-113 div.sk-item {position: relative;z-index: 1;}#sk-container-id-113 div.sk-parallel {display: flex;align-items: stretch;justify-content: center;background-color: white;position: relative;}#sk-container-id-113 div.sk-item::before, #sk-container-id-113 div.sk-parallel-item::before {content: \"\";position: absolute;border-left: 1px solid gray;box-sizing: border-box;top: 0;bottom: 0;left: 50%;z-index: -1;}#sk-container-id-113 div.sk-parallel-item {display: flex;flex-direction: column;z-index: 1;position: relative;background-color: white;}#sk-container-id-113 div.sk-parallel-item:first-child::after {align-self: flex-end;width: 50%;}#sk-container-id-113 div.sk-parallel-item:last-child::after {align-self: flex-start;width: 50%;}#sk-container-id-113 div.sk-parallel-item:only-child::after {width: 0;}#sk-container-id-113 div.sk-dashed-wrapped {border: 1px dashed gray;margin: 0 0.4em 0.5em 0.4em;box-sizing: border-box;padding-bottom: 0.4em;background-color: white;}#sk-container-id-113 div.sk-label label {font-family: monospace;font-weight: bold;display: inline-block;line-height: 1.2em;}#sk-container-id-113 div.sk-label-container {text-align: center;}#sk-container-id-113 div.sk-container {/* jupyter's `normalize.less` sets `[hidden] { display: none; }` but bootstrap.min.css set `[hidden] { display: none !important; }` so we also need the `!important` here to be able to override the default hidden behavior on the sphinx rendered scikit-learn.org. See: https://github.com/scikit-learn/scikit-learn/issues/21755 */display: inline-block !important;position: relative;}#sk-container-id-113 div.sk-text-repr-fallback {display: none;}</style><div id=\"sk-container-id-113\" class=\"sk-top-container\"><div class=\"sk-text-repr-fallback\"><pre>RandomForestRegressor(max_depth=9, n_estimators=150)</pre><b>In a Jupyter environment, please rerun this cell to show the HTML representation or trust the notebook. <br />On GitHub, the HTML representation is unable to render, please try loading this page with nbviewer.org.</b></div><div class=\"sk-container\" hidden><div class=\"sk-item\"><div class=\"sk-estimator sk-toggleable\"><input class=\"sk-toggleable__control sk-hidden--visually\" id=\"sk-estimator-id-121\" type=\"checkbox\" checked><label for=\"sk-estimator-id-121\" class=\"sk-toggleable__label sk-toggleable__label-arrow\">RandomForestRegressor</label><div class=\"sk-toggleable__content\"><pre>RandomForestRegressor(max_depth=9, n_estimators=150)</pre></div></div></div></div></div>"
            ]
          },
          "metadata": {},
          "execution_count": 454
        }
      ],
      "source": [
        "model_8=RandomForestRegressor(max_depth=9,n_estimators=150)\n",
        "model_8.fit(x_train,y_train)"
      ]
    },
    {
      "cell_type": "code",
      "execution_count": 455,
      "metadata": {
        "id": "F0ipv8faspSN",
        "colab": {
          "base_uri": "https://localhost:8080/"
        },
        "outputId": "8965a41b-a9e1-4390-85fe-ce66e3231bf5"
      },
      "outputs": [
        {
          "output_type": "stream",
          "name": "stdout",
          "text": [
            "Training Dataset Score:  0.8199278533311586\n"
          ]
        }
      ],
      "source": [
        "print(\"Training Dataset Score: \",model_8.score(x_train,y_train))"
      ]
    },
    {
      "cell_type": "code",
      "execution_count": 456,
      "metadata": {
        "id": "yVduYU7_syET",
        "colab": {
          "base_uri": "https://localhost:8080/"
        },
        "outputId": "f64ff523-fc19-4200-d324-294e7cd253a0"
      },
      "outputs": [
        {
          "output_type": "stream",
          "name": "stdout",
          "text": [
            "Test Dataset Score:  0.7874547985538806\n"
          ]
        }
      ],
      "source": [
        "print(\"Test Dataset Score: \",model_8.score(x_test,y_test))"
      ]
    },
    {
      "cell_type": "markdown",
      "source": [
        "Summary of all the model Score:\n",
        "\n",
        "![image.png](data:image/png;base64,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)"
      ],
      "metadata": {
        "id": "lAWNKGNtFvzj"
      }
    },
    {
      "cell_type": "code",
      "source": [
        "from sklearn.metrics import mean_squared_error"
      ],
      "metadata": {
        "id": "QIcH5rkCF0C_"
      },
      "execution_count": 434,
      "outputs": []
    },
    {
      "cell_type": "markdown",
      "source": [
        "1. Mean square error [MSE] for model_1 (Linear Regression)"
      ],
      "metadata": {
        "id": "WOlW1JdhHRcD"
      }
    },
    {
      "cell_type": "code",
      "source": [
        "pred_1=model_1.predict(x_test)\n",
        "mean_squared_error(y_test,pred_1)"
      ],
      "metadata": {
        "colab": {
          "base_uri": "https://localhost:8080/"
        },
        "id": "T858CgScGNPi",
        "outputId": "67fdaec0-638e-4a2b-fdc9-e9223521c296"
      },
      "execution_count": 436,
      "outputs": [
        {
          "output_type": "execute_result",
          "data": {
            "text/plain": [
              "8.205485646263785"
            ]
          },
          "metadata": {},
          "execution_count": 436
        }
      ]
    },
    {
      "cell_type": "markdown",
      "source": [
        "2. MSE for model_1s (Linear Regression with standardisation)"
      ],
      "metadata": {
        "id": "0d6x2OIXH204"
      }
    },
    {
      "cell_type": "code",
      "source": [
        "pred_1s=model_1s.predict(x_test)\n",
        "mean_squared_error(y_test,pred_1s)"
      ],
      "metadata": {
        "colab": {
          "base_uri": "https://localhost:8080/"
        },
        "id": "yp_LhFZ9HPdu",
        "outputId": "d347c62c-687d-44e3-9950-b6ca324bfc47"
      },
      "execution_count": 437,
      "outputs": [
        {
          "output_type": "execute_result",
          "data": {
            "text/plain": [
              "4.312415426886013e+26"
            ]
          },
          "metadata": {},
          "execution_count": 437
        }
      ]
    },
    {
      "cell_type": "markdown",
      "source": [
        "3. MSE for model_2 (KNN Regression)"
      ],
      "metadata": {
        "id": "ZA26ycyRH39k"
      }
    },
    {
      "cell_type": "code",
      "source": [
        "pred_2=model_2.predict(x_test)\n",
        "mean_squared_error(y_test,pred_2)"
      ],
      "metadata": {
        "colab": {
          "base_uri": "https://localhost:8080/"
        },
        "id": "Qgp39HjGHp1A",
        "outputId": "20f8cbd4-b5ee-4be3-c0cb-475e897494ac"
      },
      "execution_count": 438,
      "outputs": [
        {
          "output_type": "execute_result",
          "data": {
            "text/plain": [
              "8.876888354161093"
            ]
          },
          "metadata": {},
          "execution_count": 438
        }
      ]
    },
    {
      "cell_type": "markdown",
      "source": [
        "4. MSE for model_2s (KNN with Standardisation)"
      ],
      "metadata": {
        "id": "T8ttRZ87H7Ye"
      }
    },
    {
      "cell_type": "code",
      "source": [
        "pred_2s=model_2s.predict(x_test)\n",
        "mean_squared_error(y_test,pred_2s)"
      ],
      "metadata": {
        "colab": {
          "base_uri": "https://localhost:8080/"
        },
        "id": "XMdetbSIHwf_",
        "outputId": "29fcec7c-c55a-4af0-9308-559a41047dab"
      },
      "execution_count": 439,
      "outputs": [
        {
          "output_type": "execute_result",
          "data": {
            "text/plain": [
              "29.11112619272854"
            ]
          },
          "metadata": {},
          "execution_count": 439
        }
      ]
    },
    {
      "cell_type": "markdown",
      "source": [
        "5. MSE for model_3 (SVR)"
      ],
      "metadata": {
        "id": "dmFVnRBqIiSr"
      }
    },
    {
      "cell_type": "code",
      "source": [
        "pred_3=model_3.predict(x_test)\n",
        "mean_squared_error(y_test,pred_3)"
      ],
      "metadata": {
        "colab": {
          "base_uri": "https://localhost:8080/"
        },
        "id": "upSMsF3GH-eP",
        "outputId": "84624b4c-480c-4ed7-8092-0baa7bcd2f9f"
      },
      "execution_count": 441,
      "outputs": [
        {
          "output_type": "execute_result",
          "data": {
            "text/plain": [
              "8.383699613029302"
            ]
          },
          "metadata": {},
          "execution_count": 441
        }
      ]
    },
    {
      "cell_type": "markdown",
      "source": [
        "6. MSE for model_3s (SVR with standardisation)"
      ],
      "metadata": {
        "id": "JECUS8ENIn7r"
      }
    },
    {
      "cell_type": "code",
      "source": [
        "pred_3s=model_3s.predict(x_test)\n",
        "mean_squared_error(y_test,pred_3s)"
      ],
      "metadata": {
        "colab": {
          "base_uri": "https://localhost:8080/"
        },
        "id": "ipg0h-3PInEa",
        "outputId": "0550e1b5-4285-4492-976e-84a0b03530be"
      },
      "execution_count": 442,
      "outputs": [
        {
          "output_type": "execute_result",
          "data": {
            "text/plain": [
              "1.6818036162632488e+41"
            ]
          },
          "metadata": {},
          "execution_count": 442
        }
      ]
    },
    {
      "cell_type": "markdown",
      "source": [
        "7. MSE of model_4(DT Regression)"
      ],
      "metadata": {
        "id": "LjhqI8L2JAOa"
      }
    },
    {
      "cell_type": "code",
      "source": [
        "pred_4=model_4.predict(x_test)\n",
        "mean_squared_error(y_test,pred_4)"
      ],
      "metadata": {
        "colab": {
          "base_uri": "https://localhost:8080/"
        },
        "id": "tEmCZWliIwrT",
        "outputId": "e36c7ee2-13f9-4087-b861-04f707b48046"
      },
      "execution_count": 443,
      "outputs": [
        {
          "output_type": "execute_result",
          "data": {
            "text/plain": [
              "6.934355569107928"
            ]
          },
          "metadata": {},
          "execution_count": 443
        }
      ]
    },
    {
      "cell_type": "markdown",
      "source": [
        "8. MSE for model_5 (Bagging Regression)"
      ],
      "metadata": {
        "id": "0Uy9ohTkJPQw"
      }
    },
    {
      "cell_type": "code",
      "source": [
        "pred_5=model_5.predict(x_test)\n",
        "mean_squared_error(y_test,pred_5)"
      ],
      "metadata": {
        "colab": {
          "base_uri": "https://localhost:8080/"
        },
        "id": "4IV6DarXI_Uq",
        "outputId": "82c0af27-3a18-4a50-df8a-b3ce56b63f0f"
      },
      "execution_count": 458,
      "outputs": [
        {
          "output_type": "execute_result",
          "data": {
            "text/plain": [
              "6.447756839488075"
            ]
          },
          "metadata": {},
          "execution_count": 458
        }
      ]
    },
    {
      "cell_type": "markdown",
      "source": [
        "9. MSE with model_6 (AdaBoost Regression)"
      ],
      "metadata": {
        "id": "PofTiZSIJXTL"
      }
    },
    {
      "cell_type": "code",
      "source": [
        "pred_6=model_6.predict(x_test)\n",
        "mean_squared_error(y_test,pred_6)"
      ],
      "metadata": {
        "colab": {
          "base_uri": "https://localhost:8080/"
        },
        "id": "9AUdIabrJOBn",
        "outputId": "8f0cc090-ef42-4e58-c2ac-4b330b4cbebc"
      },
      "execution_count": 459,
      "outputs": [
        {
          "output_type": "execute_result",
          "data": {
            "text/plain": [
              "6.337418987040595"
            ]
          },
          "metadata": {},
          "execution_count": 459
        }
      ]
    },
    {
      "cell_type": "markdown",
      "source": [
        "10. MSE with model_7 (Gradient Boost Regression) "
      ],
      "metadata": {
        "id": "JqTykthgKi3h"
      }
    },
    {
      "cell_type": "code",
      "source": [
        "pred_7=model_7.predict(x_test)\n",
        "mean_squared_error(y_test,pred_7)"
      ],
      "metadata": {
        "colab": {
          "base_uri": "https://localhost:8080/"
        },
        "id": "egwdXT7BJcZM",
        "outputId": "8abe2f5f-3254-4d00-a5a7-13108d742856"
      },
      "execution_count": 460,
      "outputs": [
        {
          "output_type": "execute_result",
          "data": {
            "text/plain": [
              "6.329478607249919"
            ]
          },
          "metadata": {},
          "execution_count": 460
        }
      ]
    },
    {
      "cell_type": "markdown",
      "source": [
        "11. MSE with model_8 (Random Forest Regression)"
      ],
      "metadata": {
        "id": "gzI3Nx9GKsZu"
      }
    },
    {
      "cell_type": "code",
      "source": [
        "pred_8=model_8.predict(x_test)\n",
        "mean_squared_error(y_test,pred_8)"
      ],
      "metadata": {
        "colab": {
          "base_uri": "https://localhost:8080/"
        },
        "id": "SaQSrYlPKlF3",
        "outputId": "73d65b2d-6fb8-4479-e946-18c6250373b5"
      },
      "execution_count": 461,
      "outputs": [
        {
          "output_type": "execute_result",
          "data": {
            "text/plain": [
              "6.4666844507580254"
            ]
          },
          "metadata": {},
          "execution_count": 461
        }
      ]
    },
    {
      "cell_type": "markdown",
      "source": [
        "![image.png](data:image/png;base64,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)"
      ],
      "metadata": {
        "id": "ZwtFIz0gM-lL"
      }
    },
    {
      "cell_type": "markdown",
      "source": [
        "# Regression Model with minimum MSE(Mean Square Error) gives the best Regression Model for the dataset, so here the Best model is **Gradient Boost Regression** which has MSE =6.33 (minimum among all other models used)."
      ],
      "metadata": {
        "id": "o4VqXE6rNAKU"
      }
    }
  ],
  "metadata": {
    "colab": {
      "provenance": [],
      "authorship_tag": "ABX9TyPvNnjfNWzAPhe4qmLmu4ap",
      "include_colab_link": true
    },
    "kernelspec": {
      "display_name": "Python 3",
      "name": "python3"
    },
    "language_info": {
      "name": "python"
    }
  },
  "nbformat": 4,
  "nbformat_minor": 0
}